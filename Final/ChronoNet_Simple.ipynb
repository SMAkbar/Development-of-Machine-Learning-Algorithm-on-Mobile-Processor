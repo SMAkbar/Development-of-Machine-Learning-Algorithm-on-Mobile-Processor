{
  "nbformat": 4,
  "nbformat_minor": 0,
  "metadata": {
    "colab": {
      "name": "ChronoNet-Simple.ipynb",
      "provenance": [],
      "collapsed_sections": []
    },
    "kernelspec": {
      "name": "python3",
      "display_name": "Python 3"
    },
    "language_info": {
      "name": "python"
    }
  },
  "cells": [
    {
      "cell_type": "code",
      "metadata": {
        "id": "LHQDMmcFVYbB"
      },
      "source": [
        "import numpy as np\n",
        "\n",
        "eval_data_original = np.load(\"/content/drive/MyDrive/Colab Notebooks/eval_data_complete.npy\")\n",
        "eval_label_original = np.load(\"/content/drive/MyDrive/Colab Notebooks/eval_label_complete.npy\")"
      ],
      "execution_count": null,
      "outputs": []
    },
    {
      "cell_type": "code",
      "metadata": {
        "id": "Sn6LsTfQWDHy"
      },
      "source": [
        "eval_data = eval_data_original[10:-50]\n",
        "eval_label = eval_label_original[10:-50]\n",
        "\n",
        "test_data = np.concatenate((eval_data_original[:10], eval_data_original[-50:]))\n",
        "test_label = np.concatenate((eval_label_original[:10], eval_label_original[-50:]))\n",
        "\n",
        "eval_data_original = 0\n",
        "eval_label_original = 0"
      ],
      "execution_count": null,
      "outputs": []
    },
    {
      "cell_type": "code",
      "metadata": {
        "colab": {
          "base_uri": "https://localhost:8080/"
        },
        "id": "Pj91quNYWrH5",
        "outputId": "344a9270-675e-4cac-c193-743513c7afb0"
      },
      "source": [
        "eval_data = np.concatenate((eval_data[:337], eval_data[:337], eval_data[:337], eval_data[:337], eval_data))\n",
        "eval_label = np.concatenate((eval_label[:337], eval_label[:337], eval_label[:337], eval_label[:337], eval_label))\n",
        "print(eval_data.shape)\n",
        "print(eval_label.shape)"
      ],
      "execution_count": null,
      "outputs": [
        {
          "output_type": "stream",
          "text": [
            "(3483, 22, 15000)\n",
            "(3483,)\n"
          ],
          "name": "stdout"
        }
      ]
    },
    {
      "cell_type": "code",
      "metadata": {
        "id": "QCfwx8GFW1gL"
      },
      "source": [
        "idx = np.random.permutation(len(eval_data))\n",
        "eval_data,eval_label = eval_data[idx], eval_label[idx]\n",
        "idx = 0"
      ],
      "execution_count": null,
      "outputs": []
    },
    {
      "cell_type": "code",
      "metadata": {
        "colab": {
          "base_uri": "https://localhost:8080/"
        },
        "id": "rq2HZNDxW7zs",
        "outputId": "7deb6ed1-e78c-4083-b6a6-e003f6ca898d"
      },
      "source": [
        "from tensorflow.keras.utils import to_categorical\n",
        "\n",
        "enc_labels = to_categorical(eval_label, num_classes=2)      \n",
        "test_label = to_categorical(test_label, num_classes=2)           \n",
        "eval_label= enc_labels\n",
        "enc_labels = 0\n",
        "print(eval_data.shape)\n",
        "print(eval_label.shape)\n",
        "print(eval_data.dtype)\n",
        "print(eval_label.dtype)\n",
        "print('training labels have been loaded')\n",
        "\n",
        "bs,t,f = eval_data.shape"
      ],
      "execution_count": null,
      "outputs": [
        {
          "output_type": "stream",
          "text": [
            "(3483, 22, 15000)\n",
            "(3483, 2)\n",
            "float32\n",
            "float32\n",
            "training labels have been loaded\n"
          ],
          "name": "stdout"
        }
      ]
    },
    {
      "cell_type": "code",
      "metadata": {
        "colab": {
          "base_uri": "https://localhost:8080/"
        },
        "id": "R_FtBAVuXHU6",
        "outputId": "15a1abec-c547-489a-a020-3ff9712ea122"
      },
      "source": [
        "from pdb import set_trace\n",
        "#import mne\n",
        "import pandas as pd\n",
        "import numpy as np\n",
        "import math\n",
        "import os\n",
        "import h5py\n",
        "import tensorflow as tf\n",
        "import matplotlib.pyplot as plt\n",
        "from tensorflow.keras.models import Sequential\n",
        "from tensorflow.keras.layers import SimpleRNN,LSTM, Dense, Activation, Bidirectional\n",
        "from tensorflow.keras.utils import to_categorical\n",
        "from sklearn.metrics import confusion_matrix\n",
        "from sklearn.preprocessing import StandardScaler\n",
        "from tensorflow.keras.layers import Flatten\n",
        "from tensorflow.keras.layers import Dropout\n",
        "from tensorflow.keras.layers import Convolution2D\n",
        "from tensorflow.keras.layers import BatchNormalization\n",
        "from tensorflow.keras.layers import MaxPooling2D\n",
        "from tensorflow.keras.models import load_model\n",
        "from tensorflow.keras.callbacks import ModelCheckpoint\n",
        "from tensorflow.keras.callbacks import EarlyStopping\n",
        "\n",
        "\n",
        "# ----------------------CHRONONET Testing-----------------------\n",
        "from tensorflow.keras.layers import Input,Dense,concatenate,Flatten,GRU,Conv1D\n",
        "from tensorflow.keras.models import Model\n",
        "inputsin= Input(shape=(t,f))\n",
        "# ------------------First Inception\n",
        "tower1 = Conv1D(32, 2, strides=2,activation='relu',padding=\"causal\")(inputsin)\n",
        "tower1 = BatchNormalization()(tower1)\n",
        "tower2 = Conv1D(32, 4, strides=2,activation='relu',padding=\"causal\")(inputsin)\n",
        "tower2 = BatchNormalization()(tower2)\n",
        "tower3 = Conv1D(32, 8, strides=2,activation='relu',padding=\"causal\")(inputsin)\n",
        "tower3 = BatchNormalization()(tower3)\n",
        "x = concatenate([tower1,tower2,tower3],axis=2)\n",
        "x = Dropout(0.45)(x)\n",
        "\n",
        "# ----------------------Second Inception\n",
        "tower1 = Conv1D(32, 2, strides=2,activation='relu',padding=\"causal\")(x)\n",
        "tower1 = BatchNormalization()(tower1)\n",
        "tower2 = Conv1D(32, 4, strides=2,activation='relu',padding=\"causal\")(x)\n",
        "tower2 = BatchNormalization()(tower2)\n",
        "tower3 = Conv1D(32, 8, strides=2,activation='relu',padding=\"causal\")(x)\n",
        "tower3 = BatchNormalization()(tower3)\n",
        "x = concatenate([tower1,tower2,tower3],axis=2)\n",
        "x = Dropout(0.45)(x)\n",
        "\n",
        "# ----------------------------------Third Inception\n",
        "tower1 = Conv1D(32, 2, strides=2,activation='relu',padding=\"causal\")(x)\n",
        "tower1 = BatchNormalization()(tower1)\n",
        "tower2 = Conv1D(32, 4, strides=2,activation='relu',padding=\"causal\")(x)\n",
        "tower2 = BatchNormalization()(tower2)\n",
        "tower3 = Conv1D(32, 8, strides=2,activation='relu',padding=\"causal\")(x)\n",
        "tower3 = BatchNormalization()(tower3)\n",
        "x = concatenate([tower1,tower2,tower3],axis=2)\n",
        "x = Dropout(0.45)(x)\n",
        "\n",
        "res1 = GRU(32,activation='tanh',return_sequences=True)(x)\n",
        "res2 = GRU(32,activation='tanh',return_sequences=True)(res1)\n",
        "res1_2 = concatenate([res1,res2],axis=2)\n",
        "res3 = GRU(32,activation='tanh',return_sequences=True)(res1_2)\n",
        "x = concatenate([res1,res2,res3])\n",
        "x = GRU(32,activation='tanh')(x)\n",
        "\n",
        "predictions = Dense(2,activation='softmax')(x)\n",
        "model = Model(inputs=inputsin, outputs=predictions)\n",
        "\n",
        "# learning rate to 0.00001\n",
        "adam_optimizer = tf.keras.optimizers.Adam(learning_rate=0.00001)\n",
        "\n",
        "# learning rate to 0.0001\n",
        "# adam_optimizer = tf.keras.optimizers.Adam(learning_rate=0.0001)\n",
        "\n",
        "\n",
        "model.compile(optimizer = adam_optimizer, loss = 'categorical_crossentropy', metrics=['accuracy'])\n",
        "print(model.metrics_names)\n",
        "print(model.summary())\n",
        "\n",
        "# early stopping\n",
        "es = EarlyStopping(monitor='val_loss', min_delta=0.01, mode='min', verbose=1, patience=25)                          #patience\n",
        "mc = ModelCheckpoint('model3flipped_acc.hdf5', monitor='val_acc', mode='max', verbose=1, save_best_only=True)        #filepath (save model as)\n",
        "mces = ModelCheckpoint('model3flipped_loss.hdf5', monitor='val_loss', mode='min', verbose=1, save_best_only=True)      #filepath (save model as)\n",
        "\n",
        "# fit model\n",
        "# hist=model.fit(eval_data,eval_label,validation_split=0.2,epochs=1000,batch_size=128,verbose=1,callbacks=[es, mc,mces],shuffle=False) #epochs #split #\n",
        "\n",
        "# fit model (without early stopping)\n",
        "# hist=model.fit(eval_data,eval_label,validation_split=0.2,epochs=20,batch_size=128,verbose=1,callbacks=[mc,mces],shuffle=False) #epochs #split #\n",
        "\n",
        "\n",
        "\n",
        "print('The End')"
      ],
      "execution_count": null,
      "outputs": [
        {
          "output_type": "stream",
          "text": [
            "[]\n",
            "Model: \"model\"\n",
            "__________________________________________________________________________________________________\n",
            "Layer (type)                    Output Shape         Param #     Connected to                     \n",
            "==================================================================================================\n",
            "input_1 (InputLayer)            [(None, 22, 15000)]  0                                            \n",
            "__________________________________________________________________________________________________\n",
            "conv1d (Conv1D)                 (None, 11, 32)       960032      input_1[0][0]                    \n",
            "__________________________________________________________________________________________________\n",
            "conv1d_1 (Conv1D)               (None, 11, 32)       1920032     input_1[0][0]                    \n",
            "__________________________________________________________________________________________________\n",
            "conv1d_2 (Conv1D)               (None, 11, 32)       3840032     input_1[0][0]                    \n",
            "__________________________________________________________________________________________________\n",
            "batch_normalization (BatchNorma (None, 11, 32)       128         conv1d[0][0]                     \n",
            "__________________________________________________________________________________________________\n",
            "batch_normalization_1 (BatchNor (None, 11, 32)       128         conv1d_1[0][0]                   \n",
            "__________________________________________________________________________________________________\n",
            "batch_normalization_2 (BatchNor (None, 11, 32)       128         conv1d_2[0][0]                   \n",
            "__________________________________________________________________________________________________\n",
            "concatenate (Concatenate)       (None, 11, 96)       0           batch_normalization[0][0]        \n",
            "                                                                 batch_normalization_1[0][0]      \n",
            "                                                                 batch_normalization_2[0][0]      \n",
            "__________________________________________________________________________________________________\n",
            "dropout (Dropout)               (None, 11, 96)       0           concatenate[0][0]                \n",
            "__________________________________________________________________________________________________\n",
            "conv1d_3 (Conv1D)               (None, 6, 32)        6176        dropout[0][0]                    \n",
            "__________________________________________________________________________________________________\n",
            "conv1d_4 (Conv1D)               (None, 6, 32)        12320       dropout[0][0]                    \n",
            "__________________________________________________________________________________________________\n",
            "conv1d_5 (Conv1D)               (None, 6, 32)        24608       dropout[0][0]                    \n",
            "__________________________________________________________________________________________________\n",
            "batch_normalization_3 (BatchNor (None, 6, 32)        128         conv1d_3[0][0]                   \n",
            "__________________________________________________________________________________________________\n",
            "batch_normalization_4 (BatchNor (None, 6, 32)        128         conv1d_4[0][0]                   \n",
            "__________________________________________________________________________________________________\n",
            "batch_normalization_5 (BatchNor (None, 6, 32)        128         conv1d_5[0][0]                   \n",
            "__________________________________________________________________________________________________\n",
            "concatenate_1 (Concatenate)     (None, 6, 96)        0           batch_normalization_3[0][0]      \n",
            "                                                                 batch_normalization_4[0][0]      \n",
            "                                                                 batch_normalization_5[0][0]      \n",
            "__________________________________________________________________________________________________\n",
            "dropout_1 (Dropout)             (None, 6, 96)        0           concatenate_1[0][0]              \n",
            "__________________________________________________________________________________________________\n",
            "conv1d_6 (Conv1D)               (None, 3, 32)        6176        dropout_1[0][0]                  \n",
            "__________________________________________________________________________________________________\n",
            "conv1d_7 (Conv1D)               (None, 3, 32)        12320       dropout_1[0][0]                  \n",
            "__________________________________________________________________________________________________\n",
            "conv1d_8 (Conv1D)               (None, 3, 32)        24608       dropout_1[0][0]                  \n",
            "__________________________________________________________________________________________________\n",
            "batch_normalization_6 (BatchNor (None, 3, 32)        128         conv1d_6[0][0]                   \n",
            "__________________________________________________________________________________________________\n",
            "batch_normalization_7 (BatchNor (None, 3, 32)        128         conv1d_7[0][0]                   \n",
            "__________________________________________________________________________________________________\n",
            "batch_normalization_8 (BatchNor (None, 3, 32)        128         conv1d_8[0][0]                   \n",
            "__________________________________________________________________________________________________\n",
            "concatenate_2 (Concatenate)     (None, 3, 96)        0           batch_normalization_6[0][0]      \n",
            "                                                                 batch_normalization_7[0][0]      \n",
            "                                                                 batch_normalization_8[0][0]      \n",
            "__________________________________________________________________________________________________\n",
            "dropout_2 (Dropout)             (None, 3, 96)        0           concatenate_2[0][0]              \n",
            "__________________________________________________________________________________________________\n",
            "gru (GRU)                       (None, 3, 32)        12480       dropout_2[0][0]                  \n",
            "__________________________________________________________________________________________________\n",
            "gru_1 (GRU)                     (None, 3, 32)        6336        gru[0][0]                        \n",
            "__________________________________________________________________________________________________\n",
            "concatenate_3 (Concatenate)     (None, 3, 64)        0           gru[0][0]                        \n",
            "                                                                 gru_1[0][0]                      \n",
            "__________________________________________________________________________________________________\n",
            "gru_2 (GRU)                     (None, 3, 32)        9408        concatenate_3[0][0]              \n",
            "__________________________________________________________________________________________________\n",
            "concatenate_4 (Concatenate)     (None, 3, 96)        0           gru[0][0]                        \n",
            "                                                                 gru_1[0][0]                      \n",
            "                                                                 gru_2[0][0]                      \n",
            "__________________________________________________________________________________________________\n",
            "gru_3 (GRU)                     (None, 32)           12480       concatenate_4[0][0]              \n",
            "__________________________________________________________________________________________________\n",
            "dense (Dense)                   (None, 2)            66          gru_3[0][0]                      \n",
            "==================================================================================================\n",
            "Total params: 6,848,226\n",
            "Trainable params: 6,847,650\n",
            "Non-trainable params: 576\n",
            "__________________________________________________________________________________________________\n",
            "None\n",
            "The End\n"
          ],
          "name": "stdout"
        }
      ]
    },
    {
      "cell_type": "code",
      "metadata": {
        "id": "qyrlCz0HwIs5"
      },
      "source": [
        "model.load_weights(\"model3flipped_loss.hdf5\") "
      ],
      "execution_count": null,
      "outputs": []
    },
    {
      "cell_type": "code",
      "metadata": {
        "id": "xCnOUyKHnbuS"
      },
      "source": [
        "hist=model.fit(eval_data,eval_label,validation_data=((test_data, test_label)),epochs=20,batch_size=32,verbose=1,callbacks=[mc,mces],shuffle=False) #epochs #split #\n"
      ],
      "execution_count": null,
      "outputs": []
    },
    {
      "cell_type": "code",
      "metadata": {
        "id": "cPBHNC1VwGBv"
      },
      "source": [
        ""
      ],
      "execution_count": null,
      "outputs": []
    },
    {
      "cell_type": "code",
      "metadata": {
        "colab": {
          "base_uri": "https://localhost:8080/",
          "height": 267
        },
        "id": "KBXOFqVWYaRz",
        "outputId": "3ac9521b-d220-499e-cf29-d6eed42e865d"
      },
      "source": [
        "import matplotlib.pyplot as plt\n",
        "\n",
        "plt.plot(hist.history['accuracy'])\n",
        "plt.plot(hist.history['val_accuracy'])\n",
        "plt.show()"
      ],
      "execution_count": null,
      "outputs": [
        {
          "output_type": "display_data",
          "data": {
            "image/png": "[encoded data removed]",
            "text/plain": [
              "<Figure size 432x288 with 1 Axes>"
            ]
          },
          "metadata": {
            "tags": [],
            "needs_background": "light"
          }
        }
      ]
    },
    {
      "cell_type": "markdown",
      "metadata": {
        "id": "FsKB7sTgFoj9"
      },
      "source": [
        "# 8-bit full integer quantization"
      ]
    },
    {
      "cell_type": "code",
      "metadata": {
        "colab": {
          "base_uri": "https://localhost:8080/"
        },
        "id": "Ovi5gKaVj66m",
        "outputId": "f178bd60-db5f-4c58-d4e9-bb894bdbd28f"
      },
      "source": [
        "import tensorflow as tf\n",
        "\n",
        "converter = tf.lite.TFLiteConverter.from_keras_model(model)\n",
        "converter.optimizations = [tf.lite.Optimize.DEFAULT]\n",
        "converter.target_spec.supported_types = [tf.float16]\n",
        "tflite_quant_model = converter.convert()"
      ],
      "execution_count": null,
      "outputs": [
        {
          "output_type": "stream",
          "text": [
            "WARNING:absl:Found untraced functions such as gru_cell_layer_call_fn, gru_cell_layer_call_and_return_conditional_losses, gru_cell_1_layer_call_fn, gru_cell_1_layer_call_and_return_conditional_losses, gru_cell_2_layer_call_fn while saving (showing 5 of 20). These functions will not be directly callable after loading.\n",
            "WARNING:absl:Found untraced functions such as gru_cell_layer_call_fn, gru_cell_layer_call_and_return_conditional_losses, gru_cell_1_layer_call_fn, gru_cell_1_layer_call_and_return_conditional_losses, gru_cell_2_layer_call_fn while saving (showing 5 of 20). These functions will not be directly callable after loading.\n"
          ],
          "name": "stderr"
        },
        {
          "output_type": "stream",
          "text": [
            "INFO:tensorflow:Assets written to: /tmp/tmpcgrrds6h/assets\n"
          ],
          "name": "stdout"
        },
        {
          "output_type": "stream",
          "text": [
            "INFO:tensorflow:Assets written to: /tmp/tmpcgrrds6h/assets\n"
          ],
          "name": "stderr"
        }
      ]
    },
    {
      "cell_type": "code",
      "metadata": {
        "colab": {
          "base_uri": "https://localhost:8080/"
        },
        "id": "IVzwK605k8qX",
        "outputId": "42e80dc3-9743-4463-c740-c230684c9a79"
      },
      "source": [
        "import pathlib\n",
        "\n",
        "tflite_models_dir = pathlib.Path(\"\")\n",
        "#tflite_models_dir.mkdir(exist_ok=True, parents=True)\n",
        "'''\n",
        "# Save the unquantized/float model:\n",
        "tflite_model_file = tflite_models_dir/\"mnist_model.tflite\"\n",
        "tflite_model_file.write_bytes(tflite_model)\n",
        "'''\n",
        "# Save the quantized model:\n",
        "tflite_model_quant_file = tflite_models_dir/\"model_quant.tflite\"\n",
        "tflite_model_quant_file.write_bytes(tflite_quant_model)"
      ],
      "execution_count": null,
      "outputs": [
        {
          "output_type": "execute_result",
          "data": {
            "text/plain": [
              "6912384"
            ]
          },
          "metadata": {
            "tags": []
          },
          "execution_count": 14
        }
      ]
    },
    {
      "cell_type": "code",
      "metadata": {
        "colab": {
          "base_uri": "https://localhost:8080/"
        },
        "id": "VLGFWhYLlHoa",
        "outputId": "22f134a9-9fe3-448c-f559-69a4182ccf45"
      },
      "source": [
        "tflite_interpreter = tf.lite.Interpreter('model_quant.tflite')\n",
        "\n",
        "input_details = tflite_interpreter.get_input_details()\n",
        "output_details = tflite_interpreter.get_output_details()\n",
        "\n",
        "\n",
        "#tflite_interpreter.resize_tensor_input(input_details[0]['index'], (60, 22, 15000))\n",
        "#tflite_interpreter.resize_tensor_input(output_details[0]['index'], (60, 2))\n",
        "tflite_interpreter.allocate_tensors()\n",
        "\n",
        "\n",
        "predictions = []\n",
        "for data in test_data:\n",
        "  tflite_interpreter.set_tensor(input_details[0]['index'], [data])\n",
        "\n",
        "  tflite_interpreter.invoke()\n",
        "\n",
        "  tflite_model_predictions = tflite_interpreter.get_tensor(output_details[0]['index'])\n",
        "  print(\"Prediction results shape:\", tflite_model_predictions.shape)\n",
        "  predictions.append(tflite_model_predictions)"
      ],
      "execution_count": null,
      "outputs": [
        {
          "output_type": "stream",
          "text": [
            "Prediction results shape: (1, 2)\n",
            "Prediction results shape: (1, 2)\n",
            "Prediction results shape: (1, 2)\n",
            "Prediction results shape: (1, 2)\n",
            "Prediction results shape: (1, 2)\n",
            "Prediction results shape: (1, 2)\n",
            "Prediction results shape: (1, 2)\n",
            "Prediction results shape: (1, 2)\n",
            "Prediction results shape: (1, 2)\n",
            "Prediction results shape: (1, 2)\n",
            "Prediction results shape: (1, 2)\n",
            "Prediction results shape: (1, 2)\n",
            "Prediction results shape: (1, 2)\n",
            "Prediction results shape: (1, 2)\n",
            "Prediction results shape: (1, 2)\n",
            "Prediction results shape: (1, 2)\n",
            "Prediction results shape: (1, 2)\n",
            "Prediction results shape: (1, 2)\n",
            "Prediction results shape: (1, 2)\n",
            "Prediction results shape: (1, 2)\n",
            "Prediction results shape: (1, 2)\n",
            "Prediction results shape: (1, 2)\n",
            "Prediction results shape: (1, 2)\n",
            "Prediction results shape: (1, 2)\n",
            "Prediction results shape: (1, 2)\n",
            "Prediction results shape: (1, 2)\n",
            "Prediction results shape: (1, 2)\n",
            "Prediction results shape: (1, 2)\n",
            "Prediction results shape: (1, 2)\n",
            "Prediction results shape: (1, 2)\n",
            "Prediction results shape: (1, 2)\n",
            "Prediction results shape: (1, 2)\n",
            "Prediction results shape: (1, 2)\n",
            "Prediction results shape: (1, 2)\n",
            "Prediction results shape: (1, 2)\n",
            "Prediction results shape: (1, 2)\n",
            "Prediction results shape: (1, 2)\n",
            "Prediction results shape: (1, 2)\n",
            "Prediction results shape: (1, 2)\n",
            "Prediction results shape: (1, 2)\n",
            "Prediction results shape: (1, 2)\n",
            "Prediction results shape: (1, 2)\n",
            "Prediction results shape: (1, 2)\n",
            "Prediction results shape: (1, 2)\n",
            "Prediction results shape: (1, 2)\n",
            "Prediction results shape: (1, 2)\n",
            "Prediction results shape: (1, 2)\n",
            "Prediction results shape: (1, 2)\n",
            "Prediction results shape: (1, 2)\n",
            "Prediction results shape: (1, 2)\n",
            "Prediction results shape: (1, 2)\n",
            "Prediction results shape: (1, 2)\n",
            "Prediction results shape: (1, 2)\n",
            "Prediction results shape: (1, 2)\n",
            "Prediction results shape: (1, 2)\n",
            "Prediction results shape: (1, 2)\n",
            "Prediction results shape: (1, 2)\n",
            "Prediction results shape: (1, 2)\n",
            "Prediction results shape: (1, 2)\n",
            "Prediction results shape: (1, 2)\n"
          ],
          "name": "stdout"
        }
      ]
    },
    {
      "cell_type": "code",
      "metadata": {
        "colab": {
          "base_uri": "https://localhost:8080/"
        },
        "id": "sL-wf17h0i3D",
        "outputId": "46be6344-df8e-4bbf-f51b-c56812fffc60"
      },
      "source": [
        "print(f'{tflite_interpreter.get_input_details()},\\n {tflite_interpreter.get_output_details()}')"
      ],
      "execution_count": null,
      "outputs": [
        {
          "output_type": "stream",
          "text": [
            "[{'name': 'serving_default_input_1:0', 'index': 0, 'shape': array([    1,    22, 15000], dtype=int32), 'shape_signature': array([   -1,    22, 15000], dtype=int32), 'dtype': <class 'numpy.float32'>, 'quantization': (0.0, 0), 'quantization_parameters': {'scales': array([], dtype=float32), 'zero_points': array([], dtype=int32), 'quantized_dimension': 0}, 'sparsity_parameters': {}}],\n",
            " [{'name': 'StatefulPartitionedCall:0', 'index': 192, 'shape': array([1, 2], dtype=int32), 'shape_signature': array([-1,  2], dtype=int32), 'dtype': <class 'numpy.float32'>, 'quantization': (0.0, 0), 'quantization_parameters': {'scales': array([], dtype=float32), 'zero_points': array([], dtype=int32), 'quantized_dimension': 0}, 'sparsity_parameters': {}}]\n"
          ],
          "name": "stdout"
        }
      ]
    },
    {
      "cell_type": "code",
      "metadata": {
        "colab": {
          "base_uri": "https://localhost:8080/"
        },
        "id": "2QPd2-YA26ZW",
        "outputId": "35b28b70-64f3-44b2-cc98-e2d539e959b5"
      },
      "source": [
        "count = 0\n",
        "for i in range(len(predictions)):\n",
        "  if (predictions[i][0][0] > predictions[i][0][1]) and (test_label[i][0] == 1):\n",
        "    count += 1\n",
        "  elif (predictions[i][0][0] < predictions[i][0][1]) and (test_label[i][1] == 1):\n",
        "    count += 1\n",
        "print(f'total correct predictions = {count}')"
      ],
      "execution_count": null,
      "outputs": [
        {
          "output_type": "stream",
          "text": [
            "total correct predictions = 47\n"
          ],
          "name": "stdout"
        }
      ]
    },
    {
      "cell_type": "code",
      "metadata": {
        "colab": {
          "base_uri": "https://localhost:8080/"
        },
        "id": "_CDRrpko3WXv",
        "outputId": "43775401-9a47-4e45-bbfe-83a8062b4960"
      },
      "source": [
        "print(f'accuracy = {47/60}')"
      ],
      "execution_count": null,
      "outputs": [
        {
          "output_type": "stream",
          "text": [
            "accuracy = 0.7833333333333333\n"
          ],
          "name": "stdout"
        }
      ]
    },
    {
      "cell_type": "code",
      "metadata": {
        "colab": {
          "base_uri": "https://localhost:8080/"
        },
        "id": "NJsPigeZ7A_S",
        "outputId": "26cc3a0a-888a-4312-efe5-a9bc8fc78dff"
      },
      "source": [
        "import tensorflow as tf\n",
        "\n",
        "converter = tf.lite.TFLiteConverter.from_keras_model(model)\n",
        "converter.optimizations = [tf.lite.Optimize.DEFAULT]\n",
        "converter.target_spec.supported_types = [tf.float16]\n",
        "tflite_quant_model_f = converter.convert()"
      ],
      "execution_count": null,
      "outputs": [
        {
          "output_type": "stream",
          "text": [
            "WARNING:absl:Found untraced functions such as gru_cell_layer_call_fn, gru_cell_layer_call_and_return_conditional_losses, gru_cell_1_layer_call_fn, gru_cell_1_layer_call_and_return_conditional_losses, gru_cell_2_layer_call_fn while saving (showing 5 of 20). These functions will not be directly callable after loading.\n",
            "WARNING:absl:Found untraced functions such as gru_cell_layer_call_fn, gru_cell_layer_call_and_return_conditional_losses, gru_cell_1_layer_call_fn, gru_cell_1_layer_call_and_return_conditional_losses, gru_cell_2_layer_call_fn while saving (showing 5 of 20). These functions will not be directly callable after loading.\n"
          ],
          "name": "stderr"
        },
        {
          "output_type": "stream",
          "text": [
            "INFO:tensorflow:Assets written to: /tmp/tmpcjllcxe6/assets\n"
          ],
          "name": "stdout"
        },
        {
          "output_type": "stream",
          "text": [
            "INFO:tensorflow:Assets written to: /tmp/tmpcjllcxe6/assets\n"
          ],
          "name": "stderr"
        }
      ]
    },
    {
      "cell_type": "markdown",
      "metadata": {
        "id": "C8rsiPd5FvZs"
      },
      "source": [
        "# 16-bit float quantization"
      ]
    },
    {
      "cell_type": "code",
      "metadata": {
        "colab": {
          "base_uri": "https://localhost:8080/"
        },
        "id": "qaEIpXr6A94K",
        "outputId": "d3b7a5fc-753b-4614-c128-5fb7c6570d1c"
      },
      "source": [
        "import pathlib\n",
        "\n",
        "tflite_models_dir = pathlib.Path(\"\")\n",
        "#tflite_models_dir.mkdir(exist_ok=True, parents=True)\n",
        "'''\n",
        "# Save the unquantized/float model:\n",
        "tflite_model_file = tflite_models_dir/\"mnist_model.tflite\"\n",
        "tflite_model_file.write_bytes(tflite_model)\n",
        "'''\n",
        "# Save the quantized model:\n",
        "tflite_model_quant_file = tflite_models_dir/\"model_quant_f.tflite\"\n",
        "tflite_model_quant_file.write_bytes(tflite_quant_model_f)"
      ],
      "execution_count": null,
      "outputs": [
        {
          "output_type": "execute_result",
          "data": {
            "text/plain": [
              "13754288"
            ]
          },
          "metadata": {
            "tags": []
          },
          "execution_count": 51
        }
      ]
    },
    {
      "cell_type": "code",
      "metadata": {
        "colab": {
          "base_uri": "https://localhost:8080/"
        },
        "id": "a7pMHIPeBv-q",
        "outputId": "d779a3f5-27d1-4359-aa88-9b60438d2d49"
      },
      "source": [
        "tflite_interpreter = tf.lite.Interpreter('model_quant_f.tflite')\n",
        "\n",
        "input_details = tflite_interpreter.get_input_details()\n",
        "output_details = tflite_interpreter.get_output_details()\n",
        "\n",
        "\n",
        "#tflite_interpreter.resize_tensor_input(input_details[0]['index'], (60, 22, 15000))\n",
        "#tflite_interpreter.resize_tensor_input(output_details[0]['index'], (60, 2))\n",
        "tflite_interpreter.allocate_tensors()\n",
        "\n",
        "\n",
        "predictions = []\n",
        "for data in test_data:\n",
        "  tflite_interpreter.set_tensor(input_details[0]['index'], [data])\n",
        "\n",
        "  tflite_interpreter.invoke()\n",
        "\n",
        "  tflite_model_predictions = tflite_interpreter.get_tensor(output_details[0]['index'])\n",
        "  print(\"Prediction results shape:\", tflite_model_predictions.shape)\n",
        "  predictions.append(tflite_model_predictions)"
      ],
      "execution_count": null,
      "outputs": [
        {
          "output_type": "stream",
          "text": [
            "Prediction results shape: (1, 2)\n",
            "Prediction results shape: (1, 2)\n",
            "Prediction results shape: (1, 2)\n",
            "Prediction results shape: (1, 2)\n",
            "Prediction results shape: (1, 2)\n",
            "Prediction results shape: (1, 2)\n",
            "Prediction results shape: (1, 2)\n",
            "Prediction results shape: (1, 2)\n",
            "Prediction results shape: (1, 2)\n",
            "Prediction results shape: (1, 2)\n",
            "Prediction results shape: (1, 2)\n",
            "Prediction results shape: (1, 2)\n",
            "Prediction results shape: (1, 2)\n",
            "Prediction results shape: (1, 2)\n",
            "Prediction results shape: (1, 2)\n",
            "Prediction results shape: (1, 2)\n",
            "Prediction results shape: (1, 2)\n",
            "Prediction results shape: (1, 2)\n",
            "Prediction results shape: (1, 2)\n",
            "Prediction results shape: (1, 2)\n",
            "Prediction results shape: (1, 2)\n",
            "Prediction results shape: (1, 2)\n",
            "Prediction results shape: (1, 2)\n",
            "Prediction results shape: (1, 2)\n",
            "Prediction results shape: (1, 2)\n",
            "Prediction results shape: (1, 2)\n",
            "Prediction results shape: (1, 2)\n",
            "Prediction results shape: (1, 2)\n",
            "Prediction results shape: (1, 2)\n",
            "Prediction results shape: (1, 2)\n",
            "Prediction results shape: (1, 2)\n",
            "Prediction results shape: (1, 2)\n",
            "Prediction results shape: (1, 2)\n",
            "Prediction results shape: (1, 2)\n",
            "Prediction results shape: (1, 2)\n",
            "Prediction results shape: (1, 2)\n",
            "Prediction results shape: (1, 2)\n",
            "Prediction results shape: (1, 2)\n",
            "Prediction results shape: (1, 2)\n",
            "Prediction results shape: (1, 2)\n",
            "Prediction results shape: (1, 2)\n",
            "Prediction results shape: (1, 2)\n",
            "Prediction results shape: (1, 2)\n",
            "Prediction results shape: (1, 2)\n",
            "Prediction results shape: (1, 2)\n",
            "Prediction results shape: (1, 2)\n",
            "Prediction results shape: (1, 2)\n",
            "Prediction results shape: (1, 2)\n",
            "Prediction results shape: (1, 2)\n",
            "Prediction results shape: (1, 2)\n",
            "Prediction results shape: (1, 2)\n",
            "Prediction results shape: (1, 2)\n",
            "Prediction results shape: (1, 2)\n",
            "Prediction results shape: (1, 2)\n",
            "Prediction results shape: (1, 2)\n",
            "Prediction results shape: (1, 2)\n",
            "Prediction results shape: (1, 2)\n",
            "Prediction results shape: (1, 2)\n",
            "Prediction results shape: (1, 2)\n",
            "Prediction results shape: (1, 2)\n"
          ],
          "name": "stdout"
        }
      ]
    },
    {
      "cell_type": "code",
      "metadata": {
        "colab": {
          "base_uri": "https://localhost:8080/"
        },
        "id": "b3E0ssfoBJ-7",
        "outputId": "fb589a73-64c3-4b60-d465-df04ccc8178b"
      },
      "source": [
        "count = 0\n",
        "for i in range(len(predictions)):\n",
        "  if (predictions[i][0][0] > predictions[i][0][1]) and (test_label[i][0] == 1):\n",
        "    count += 1\n",
        "  elif (predictions[i][0][0] < predictions[i][0][1]) and (test_label[i][1] == 1):\n",
        "    count += 1\n",
        "print(f'total correct predictions = {count}')\n",
        "print(f'accuracy = {count/60}')"
      ],
      "execution_count": null,
      "outputs": [
        {
          "output_type": "stream",
          "text": [
            "total correct predictions = 47\n",
            "accuracy = 0.7833333333333333\n"
          ],
          "name": "stdout"
        }
      ]
    },
    {
      "cell_type": "markdown",
      "metadata": {
        "id": "xeKX0TtTdT7k"
      },
      "source": [
        "# Prunning 50 %"
      ]
    },
    {
      "cell_type": "code",
      "metadata": {
        "id": "vegc-RogBRSj",
        "colab": {
          "base_uri": "https://localhost:8080/"
        },
        "outputId": "5ba4cddc-4d89-49bf-bf60-7d89d5d2a825"
      },
      "source": [
        "model.load_weights(\"/content/model3flipped_loss.hdf5\")\n",
        "\n",
        "\n",
        "!pip install tensorflow_model_optimization\n",
        "is_tfmot = True\n",
        "\n",
        "\n",
        "if not(is_tfmot):\n",
        "  !pip install tensorflow_model_optimization\n",
        "  is_tfmot = True\n",
        "\n",
        "import tensorflow_model_optimization as tfmot\n",
        "\n",
        "prune_low_magnitude = tfmot.sparsity.keras.prune_low_magnitude\n",
        "\n",
        "# Compute end step to finish pruning after 2 epochs.\n",
        "batch_size = 32\n",
        "epochs = 10\n",
        "#validation_split = 0.1 # 10% of training set will be used for validation set. \n",
        "\n",
        "num_images = eval_data.shape[0]\n",
        "end_step = np.ceil(num_images / batch_size).astype(np.int32) * epochs\n",
        "\n",
        "# Define model for pruning.\n",
        "pruning_params = {\n",
        "      'pruning_schedule': tfmot.sparsity.keras.PolynomialDecay(initial_sparsity=0.20,\n",
        "                                                               final_sparsity=0.50,\n",
        "                                                               begin_step=0,\n",
        "                                                               end_step=end_step,\n",
        "                                                               frequency=5)\n",
        "}\n",
        "\n",
        "model_for_pruning = prune_low_magnitude(model, **pruning_params)\n",
        "\n",
        "# `prune_low_magnitude` requires a recompile.\n",
        "model_for_pruning.compile(optimizer='adam',\n",
        "              loss=tf.keras.losses.CategoricalCrossentropy(from_logits=True),\n",
        "              metrics=['accuracy'])\n",
        "\n",
        "model_for_pruning.summary()"
      ],
      "execution_count": null,
      "outputs": [
        {
          "output_type": "stream",
          "text": [
            "Requirement already satisfied: tensorflow_model_optimization in /usr/local/lib/python3.7/dist-packages (0.5.0)\n",
            "Requirement already satisfied: dm-tree~=0.1.1 in /usr/local/lib/python3.7/dist-packages (from tensorflow_model_optimization) (0.1.6)\n",
            "Requirement already satisfied: numpy~=1.14 in /usr/local/lib/python3.7/dist-packages (from tensorflow_model_optimization) (1.19.5)\n",
            "Requirement already satisfied: six~=1.10 in /usr/local/lib/python3.7/dist-packages (from tensorflow_model_optimization) (1.15.0)\n"
          ],
          "name": "stdout"
        },
        {
          "output_type": "stream",
          "text": [
            "/usr/local/lib/python3.7/dist-packages/tensorflow/python/keras/engine/base_layer.py:2281: UserWarning: `layer.add_variable` is deprecated and will be removed in a future version. Please use `layer.add_weight` method instead.\n",
            "  warnings.warn('`layer.add_variable` is deprecated and '\n"
          ],
          "name": "stderr"
        },
        {
          "output_type": "stream",
          "text": [
            "Model: \"model\"\n",
            "__________________________________________________________________________________________________\n",
            "Layer (type)                    Output Shape         Param #     Connected to                     \n",
            "==================================================================================================\n",
            "input_1 (InputLayer)            [(None, 22, 15000)]  0                                            \n",
            "__________________________________________________________________________________________________\n",
            "prune_low_magnitude_conv1d (Pru (None, 11, 32)       1920034     input_1[0][0]                    \n",
            "__________________________________________________________________________________________________\n",
            "prune_low_magnitude_conv1d_1 (P (None, 11, 32)       3840034     input_1[0][0]                    \n",
            "__________________________________________________________________________________________________\n",
            "prune_low_magnitude_conv1d_2 (P (None, 11, 32)       7680034     input_1[0][0]                    \n",
            "__________________________________________________________________________________________________\n",
            "prune_low_magnitude_batch_norma (None, 11, 32)       129         prune_low_magnitude_conv1d[0][0] \n",
            "__________________________________________________________________________________________________\n",
            "prune_low_magnitude_batch_norma (None, 11, 32)       129         prune_low_magnitude_conv1d_1[0][0\n",
            "__________________________________________________________________________________________________\n",
            "prune_low_magnitude_batch_norma (None, 11, 32)       129         prune_low_magnitude_conv1d_2[0][0\n",
            "__________________________________________________________________________________________________\n",
            "prune_low_magnitude_concatenate (None, 11, 96)       1           prune_low_magnitude_batch_normali\n",
            "                                                                 prune_low_magnitude_batch_normali\n",
            "                                                                 prune_low_magnitude_batch_normali\n",
            "__________________________________________________________________________________________________\n",
            "prune_low_magnitude_dropout (Pr (None, 11, 96)       1           prune_low_magnitude_concatenate[0\n",
            "__________________________________________________________________________________________________\n",
            "prune_low_magnitude_conv1d_3 (P (None, 6, 32)        12322       prune_low_magnitude_dropout[0][0]\n",
            "__________________________________________________________________________________________________\n",
            "prune_low_magnitude_conv1d_4 (P (None, 6, 32)        24610       prune_low_magnitude_dropout[0][0]\n",
            "__________________________________________________________________________________________________\n",
            "prune_low_magnitude_conv1d_5 (P (None, 6, 32)        49186       prune_low_magnitude_dropout[0][0]\n",
            "__________________________________________________________________________________________________\n",
            "prune_low_magnitude_batch_norma (None, 6, 32)        129         prune_low_magnitude_conv1d_3[0][0\n",
            "__________________________________________________________________________________________________\n",
            "prune_low_magnitude_batch_norma (None, 6, 32)        129         prune_low_magnitude_conv1d_4[0][0\n",
            "__________________________________________________________________________________________________\n",
            "prune_low_magnitude_batch_norma (None, 6, 32)        129         prune_low_magnitude_conv1d_5[0][0\n",
            "__________________________________________________________________________________________________\n",
            "prune_low_magnitude_concatenate (None, 6, 96)        1           prune_low_magnitude_batch_normali\n",
            "                                                                 prune_low_magnitude_batch_normali\n",
            "                                                                 prune_low_magnitude_batch_normali\n",
            "__________________________________________________________________________________________________\n",
            "prune_low_magnitude_dropout_1 ( (None, 6, 96)        1           prune_low_magnitude_concatenate_1\n",
            "__________________________________________________________________________________________________\n",
            "prune_low_magnitude_conv1d_6 (P (None, 3, 32)        12322       prune_low_magnitude_dropout_1[0][\n",
            "__________________________________________________________________________________________________\n",
            "prune_low_magnitude_conv1d_7 (P (None, 3, 32)        24610       prune_low_magnitude_dropout_1[0][\n",
            "__________________________________________________________________________________________________\n",
            "prune_low_magnitude_conv1d_8 (P (None, 3, 32)        49186       prune_low_magnitude_dropout_1[0][\n",
            "__________________________________________________________________________________________________\n",
            "prune_low_magnitude_batch_norma (None, 3, 32)        129         prune_low_magnitude_conv1d_6[0][0\n",
            "__________________________________________________________________________________________________\n",
            "prune_low_magnitude_batch_norma (None, 3, 32)        129         prune_low_magnitude_conv1d_7[0][0\n",
            "__________________________________________________________________________________________________\n",
            "prune_low_magnitude_batch_norma (None, 3, 32)        129         prune_low_magnitude_conv1d_8[0][0\n",
            "__________________________________________________________________________________________________\n",
            "prune_low_magnitude_concatenate (None, 3, 96)        1           prune_low_magnitude_batch_normali\n",
            "                                                                 prune_low_magnitude_batch_normali\n",
            "                                                                 prune_low_magnitude_batch_normali\n",
            "__________________________________________________________________________________________________\n",
            "prune_low_magnitude_dropout_2 ( (None, 3, 96)        1           prune_low_magnitude_concatenate_2\n",
            "__________________________________________________________________________________________________\n",
            "prune_low_magnitude_gru (PruneL (None, 3, 32)        24771       prune_low_magnitude_dropout_2[0][\n",
            "__________________________________________________________________________________________________\n",
            "prune_low_magnitude_gru_1 (Prun (None, 3, 32)        12483       prune_low_magnitude_gru[0][0]    \n",
            "__________________________________________________________________________________________________\n",
            "prune_low_magnitude_concatenate (None, 3, 64)        1           prune_low_magnitude_gru[0][0]    \n",
            "                                                                 prune_low_magnitude_gru_1[0][0]  \n",
            "__________________________________________________________________________________________________\n",
            "prune_low_magnitude_gru_2 (Prun (None, 3, 32)        18627       prune_low_magnitude_concatenate_3\n",
            "__________________________________________________________________________________________________\n",
            "prune_low_magnitude_concatenate (None, 3, 96)        1           prune_low_magnitude_gru[0][0]    \n",
            "                                                                 prune_low_magnitude_gru_1[0][0]  \n",
            "                                                                 prune_low_magnitude_gru_2[0][0]  \n",
            "__________________________________________________________________________________________________\n",
            "prune_low_magnitude_gru_3 (Prun (None, 32)           24771       prune_low_magnitude_concatenate_4\n",
            "__________________________________________________________________________________________________\n",
            "prune_low_magnitude_dense (Prun (None, 2)            132         prune_low_magnitude_gru_3[0][0]  \n",
            "==================================================================================================\n",
            "Total params: 13,694,291\n",
            "Trainable params: 6,847,650\n",
            "Non-trainable params: 6,846,641\n",
            "__________________________________________________________________________________________________\n"
          ],
          "name": "stdout"
        }
      ]
    },
    {
      "cell_type": "code",
      "metadata": {
        "colab": {
          "base_uri": "https://localhost:8080/"
        },
        "id": "FnW8kODCdjpt",
        "outputId": "c4379b18-0f5a-4234-a238-1536eaa40c51"
      },
      "source": [
        "import tempfile\n",
        "import os\n",
        "\n",
        "import tensorflow as tf\n",
        "import numpy as np\n",
        "\n",
        "logdir = tempfile.mkdtemp()\n",
        "\n",
        "callbacks = [\n",
        "  tfmot.sparsity.keras.UpdatePruningStep(),\n",
        "  tfmot.sparsity.keras.PruningSummaries(log_dir=logdir),\n",
        "]\n",
        "\n",
        "hist = model_for_pruning.fit(eval_data, eval_label, validation_data=(test_data, test_label), epochs=10, batch_size=32, verbose=1, callbacks=callbacks) #epochs #split #"
      ],
      "execution_count": null,
      "outputs": [
        {
          "output_type": "stream",
          "text": [
            "Epoch 1/10\n",
            "109/109 [==============================] - 109s 832ms/step - loss: 0.4189 - accuracy: 0.8130 - val_loss: 0.6937 - val_accuracy: 0.8333\n",
            "Epoch 2/10\n",
            "109/109 [==============================] - 88s 810ms/step - loss: 0.1430 - accuracy: 0.9455 - val_loss: 0.9763 - val_accuracy: 0.7833\n",
            "Epoch 3/10\n",
            "109/109 [==============================] - 88s 812ms/step - loss: 0.0907 - accuracy: 0.9656 - val_loss: 1.0731 - val_accuracy: 0.8000\n",
            "Epoch 4/10\n",
            "109/109 [==============================] - 89s 817ms/step - loss: 0.0504 - accuracy: 0.9822 - val_loss: 1.0439 - val_accuracy: 0.7833\n",
            "Epoch 5/10\n",
            "109/109 [==============================] - 89s 823ms/step - loss: 0.0397 - accuracy: 0.9850 - val_loss: 1.0517 - val_accuracy: 0.8000\n",
            "Epoch 6/10\n",
            "109/109 [==============================] - 88s 797ms/step - loss: 0.0229 - accuracy: 0.9935 - val_loss: 1.1355 - val_accuracy: 0.8167\n",
            "Epoch 7/10\n",
            "109/109 [==============================] - 87s 804ms/step - loss: 0.0203 - accuracy: 0.9925 - val_loss: 1.1853 - val_accuracy: 0.8167\n",
            "Epoch 8/10\n",
            "109/109 [==============================] - 87s 802ms/step - loss: 0.0175 - accuracy: 0.9936 - val_loss: 1.0322 - val_accuracy: 0.8167\n",
            "Epoch 9/10\n",
            "109/109 [==============================] - 88s 811ms/step - loss: 0.0202 - accuracy: 0.9934 - val_loss: 1.1334 - val_accuracy: 0.8167\n",
            "Epoch 10/10\n",
            "109/109 [==============================] - 87s 796ms/step - loss: 0.0163 - accuracy: 0.9948 - val_loss: 1.0227 - val_accuracy: 0.8500\n"
          ],
          "name": "stdout"
        }
      ]
    },
    {
      "cell_type": "code",
      "metadata": {
        "colab": {
          "base_uri": "https://localhost:8080/"
        },
        "id": "xjiHQH5Ddmd4",
        "outputId": "95adf68a-f886-4070-fd97-7d19de9dcd03"
      },
      "source": [
        "def get_gzipped_model_size(file):\n",
        "  # Returns size of gzipped model, in bytes.\n",
        "  import os\n",
        "  import zipfile\n",
        "\n",
        "  _, zipped_file = tempfile.mkstemp('.zip')\n",
        "  with zipfile.ZipFile(zipped_file, 'w', compression=zipfile.ZIP_DEFLATED) as f:\n",
        "    f.write(file)\n",
        "\n",
        "  return os.path.getsize(zipped_file)\n",
        "\n",
        "model_for_export = tfmot.sparsity.keras.strip_pruning(model_for_pruning)\n",
        "\n",
        "_, deep_pruned_keras_file = tempfile.mkstemp('.h5')\n",
        "tf.keras.models.save_model(model_for_export, deep_pruned_keras_file, include_optimizer=False)\n",
        "print('Saved pruned Keras model to:', deep_pruned_keras_file)\n",
        "\n",
        "print(\"Size of gzipped baseline Keras model: %.2f bytes\" % (get_gzipped_model_size(\"/content/model3flipped_loss.hdf5\")))\n",
        "print(\"Size of gzipped pruned Keras model: %.2f bytes\" % (get_gzipped_model_size(deep_pruned_keras_file)))\n",
        "\n",
        "model_for_export = 0"
      ],
      "execution_count": null,
      "outputs": [
        {
          "output_type": "stream",
          "text": [
            "Saved pruned Keras model to: /tmp/tmp3ho9smo8.h5\n",
            "Size of gzipped baseline Keras model: 74336065.00 bytes\n",
            "Size of gzipped pruned Keras model: 15845107.00 bytes\n"
          ],
          "name": "stdout"
        }
      ]
    },
    {
      "cell_type": "markdown",
      "metadata": {
        "id": "bvn1U2kkoqv2"
      },
      "source": [
        "# Pruning 60%"
      ]
    },
    {
      "cell_type": "code",
      "metadata": {
        "colab": {
          "base_uri": "https://localhost:8080/"
        },
        "id": "pXBCzIaZjMTW",
        "outputId": "a59230c5-34ff-4796-9a96-a4134dadf13b"
      },
      "source": [
        "model.load_weights(\"/content/model3flipped_loss.hdf5\")\n",
        "\n",
        "\n",
        "!pip install tensorflow_model_optimization\n",
        "is_tfmot = True\n",
        "\n",
        "\n",
        "if not(is_tfmot):\n",
        "  !pip install tensorflow_model_optimization\n",
        "  is_tfmot = True\n",
        "\n",
        "import tensorflow_model_optimization as tfmot\n",
        "\n",
        "prune_low_magnitude = tfmot.sparsity.keras.prune_low_magnitude\n",
        "\n",
        "# Compute end step to finish pruning after 2 epochs.\n",
        "batch_size = 32\n",
        "epochs = 10\n",
        "#validation_split = 0.1 # 10% of training set will be used for validation set. \n",
        "\n",
        "num_images = eval_data.shape[0]\n",
        "end_step = np.ceil(num_images / batch_size).astype(np.int32) * epochs\n",
        "\n",
        "# Define model for pruning.\n",
        "pruning_params = {\n",
        "      'pruning_schedule': tfmot.sparsity.keras.PolynomialDecay(initial_sparsity=0.20,\n",
        "                                                               final_sparsity=0.60,\n",
        "                                                               begin_step=0,\n",
        "                                                               end_step=end_step,\n",
        "                                                               frequency=5)\n",
        "}\n",
        "\n",
        "model_for_pruning = prune_low_magnitude(model, **pruning_params)\n",
        "\n",
        "# `prune_low_magnitude` requires a recompile.\n",
        "model_for_pruning.compile(optimizer='adam',\n",
        "              loss=tf.keras.losses.CategoricalCrossentropy(from_logits=True),\n",
        "              metrics=['accuracy'])\n",
        "\n",
        "model_for_pruning.summary()"
      ],
      "execution_count": null,
      "outputs": [
        {
          "output_type": "stream",
          "text": [
            "Requirement already satisfied: tensorflow_model_optimization in /usr/local/lib/python3.7/dist-packages (0.5.0)\n",
            "Requirement already satisfied: dm-tree~=0.1.1 in /usr/local/lib/python3.7/dist-packages (from tensorflow_model_optimization) (0.1.6)\n",
            "Requirement already satisfied: numpy~=1.14 in /usr/local/lib/python3.7/dist-packages (from tensorflow_model_optimization) (1.19.5)\n",
            "Requirement already satisfied: six~=1.10 in /usr/local/lib/python3.7/dist-packages (from tensorflow_model_optimization) (1.15.0)\n"
          ],
          "name": "stdout"
        },
        {
          "output_type": "stream",
          "text": [
            "/usr/local/lib/python3.7/dist-packages/tensorflow/python/keras/engine/base_layer.py:2281: UserWarning: `layer.add_variable` is deprecated and will be removed in a future version. Please use `layer.add_weight` method instead.\n",
            "  warnings.warn('`layer.add_variable` is deprecated and '\n"
          ],
          "name": "stderr"
        },
        {
          "output_type": "stream",
          "text": [
            "Model: \"model\"\n",
            "__________________________________________________________________________________________________\n",
            "Layer (type)                    Output Shape         Param #     Connected to                     \n",
            "==================================================================================================\n",
            "input_1 (InputLayer)            [(None, 22, 15000)]  0                                            \n",
            "__________________________________________________________________________________________________\n",
            "prune_low_magnitude_conv1d (Pru (None, 11, 32)       1920034     input_1[0][0]                    \n",
            "__________________________________________________________________________________________________\n",
            "prune_low_magnitude_conv1d_1 (P (None, 11, 32)       3840034     input_1[0][0]                    \n",
            "__________________________________________________________________________________________________\n",
            "prune_low_magnitude_conv1d_2 (P (None, 11, 32)       7680034     input_1[0][0]                    \n",
            "__________________________________________________________________________________________________\n",
            "prune_low_magnitude_batch_norma (None, 11, 32)       129         prune_low_magnitude_conv1d[0][0] \n",
            "__________________________________________________________________________________________________\n",
            "prune_low_magnitude_batch_norma (None, 11, 32)       129         prune_low_magnitude_conv1d_1[0][0\n",
            "__________________________________________________________________________________________________\n",
            "prune_low_magnitude_batch_norma (None, 11, 32)       129         prune_low_magnitude_conv1d_2[0][0\n",
            "__________________________________________________________________________________________________\n",
            "prune_low_magnitude_concatenate (None, 11, 96)       1           prune_low_magnitude_batch_normali\n",
            "                                                                 prune_low_magnitude_batch_normali\n",
            "                                                                 prune_low_magnitude_batch_normali\n",
            "__________________________________________________________________________________________________\n",
            "prune_low_magnitude_dropout (Pr (None, 11, 96)       1           prune_low_magnitude_concatenate[0\n",
            "__________________________________________________________________________________________________\n",
            "prune_low_magnitude_conv1d_3 (P (None, 6, 32)        12322       prune_low_magnitude_dropout[0][0]\n",
            "__________________________________________________________________________________________________\n",
            "prune_low_magnitude_conv1d_4 (P (None, 6, 32)        24610       prune_low_magnitude_dropout[0][0]\n",
            "__________________________________________________________________________________________________\n",
            "prune_low_magnitude_conv1d_5 (P (None, 6, 32)        49186       prune_low_magnitude_dropout[0][0]\n",
            "__________________________________________________________________________________________________\n",
            "prune_low_magnitude_batch_norma (None, 6, 32)        129         prune_low_magnitude_conv1d_3[0][0\n",
            "__________________________________________________________________________________________________\n",
            "prune_low_magnitude_batch_norma (None, 6, 32)        129         prune_low_magnitude_conv1d_4[0][0\n",
            "__________________________________________________________________________________________________\n",
            "prune_low_magnitude_batch_norma (None, 6, 32)        129         prune_low_magnitude_conv1d_5[0][0\n",
            "__________________________________________________________________________________________________\n",
            "prune_low_magnitude_concatenate (None, 6, 96)        1           prune_low_magnitude_batch_normali\n",
            "                                                                 prune_low_magnitude_batch_normali\n",
            "                                                                 prune_low_magnitude_batch_normali\n",
            "__________________________________________________________________________________________________\n",
            "prune_low_magnitude_dropout_1 ( (None, 6, 96)        1           prune_low_magnitude_concatenate_1\n",
            "__________________________________________________________________________________________________\n",
            "prune_low_magnitude_conv1d_6 (P (None, 3, 32)        12322       prune_low_magnitude_dropout_1[0][\n",
            "__________________________________________________________________________________________________\n",
            "prune_low_magnitude_conv1d_7 (P (None, 3, 32)        24610       prune_low_magnitude_dropout_1[0][\n",
            "__________________________________________________________________________________________________\n",
            "prune_low_magnitude_conv1d_8 (P (None, 3, 32)        49186       prune_low_magnitude_dropout_1[0][\n",
            "__________________________________________________________________________________________________\n",
            "prune_low_magnitude_batch_norma (None, 3, 32)        129         prune_low_magnitude_conv1d_6[0][0\n",
            "__________________________________________________________________________________________________\n",
            "prune_low_magnitude_batch_norma (None, 3, 32)        129         prune_low_magnitude_conv1d_7[0][0\n",
            "__________________________________________________________________________________________________\n",
            "prune_low_magnitude_batch_norma (None, 3, 32)        129         prune_low_magnitude_conv1d_8[0][0\n",
            "__________________________________________________________________________________________________\n",
            "prune_low_magnitude_concatenate (None, 3, 96)        1           prune_low_magnitude_batch_normali\n",
            "                                                                 prune_low_magnitude_batch_normali\n",
            "                                                                 prune_low_magnitude_batch_normali\n",
            "__________________________________________________________________________________________________\n",
            "prune_low_magnitude_dropout_2 ( (None, 3, 96)        1           prune_low_magnitude_concatenate_2\n",
            "__________________________________________________________________________________________________\n",
            "prune_low_magnitude_gru (PruneL (None, 3, 32)        24771       prune_low_magnitude_dropout_2[0][\n",
            "__________________________________________________________________________________________________\n",
            "prune_low_magnitude_gru_1 (Prun (None, 3, 32)        12483       prune_low_magnitude_gru[0][0]    \n",
            "__________________________________________________________________________________________________\n",
            "prune_low_magnitude_concatenate (None, 3, 64)        1           prune_low_magnitude_gru[0][0]    \n",
            "                                                                 prune_low_magnitude_gru_1[0][0]  \n",
            "__________________________________________________________________________________________________\n",
            "prune_low_magnitude_gru_2 (Prun (None, 3, 32)        18627       prune_low_magnitude_concatenate_3\n",
            "__________________________________________________________________________________________________\n",
            "prune_low_magnitude_concatenate (None, 3, 96)        1           prune_low_magnitude_gru[0][0]    \n",
            "                                                                 prune_low_magnitude_gru_1[0][0]  \n",
            "                                                                 prune_low_magnitude_gru_2[0][0]  \n",
            "__________________________________________________________________________________________________\n",
            "prune_low_magnitude_gru_3 (Prun (None, 32)           24771       prune_low_magnitude_concatenate_4\n",
            "__________________________________________________________________________________________________\n",
            "prune_low_magnitude_dense (Prun (None, 2)            132         prune_low_magnitude_gru_3[0][0]  \n",
            "==================================================================================================\n",
            "Total params: 13,694,291\n",
            "Trainable params: 6,847,650\n",
            "Non-trainable params: 6,846,641\n",
            "__________________________________________________________________________________________________\n"
          ],
          "name": "stdout"
        }
      ]
    },
    {
      "cell_type": "code",
      "metadata": {
        "colab": {
          "base_uri": "https://localhost:8080/"
        },
        "id": "ZxRmSUNPot7v",
        "outputId": "1e1b7de5-bb87-40ce-db34-64364e79ff15"
      },
      "source": [
        "import tempfile\n",
        "import os\n",
        "\n",
        "import tensorflow as tf\n",
        "import numpy as np\n",
        "\n",
        "logdir = tempfile.mkdtemp()\n",
        "\n",
        "callbacks = [\n",
        "  tfmot.sparsity.keras.UpdatePruningStep(),\n",
        "  tfmot.sparsity.keras.PruningSummaries(log_dir=logdir),\n",
        "]\n",
        "\n",
        "hist = model_for_pruning.fit(eval_data, eval_label, validation_data=(test_data, test_label), epochs=10, batch_size=32, verbose=1, callbacks=callbacks) #epochs #split #"
      ],
      "execution_count": null,
      "outputs": [
        {
          "output_type": "stream",
          "text": [
            "Epoch 1/10\n",
            "109/109 [==============================] - 108s 826ms/step - loss: 0.4384 - accuracy: 0.8060 - val_loss: 0.8230 - val_accuracy: 0.7833\n",
            "Epoch 2/10\n",
            "109/109 [==============================] - 88s 810ms/step - loss: 0.1401 - accuracy: 0.9432 - val_loss: 0.8822 - val_accuracy: 0.8000\n",
            "Epoch 3/10\n",
            "109/109 [==============================] - 89s 815ms/step - loss: 0.0615 - accuracy: 0.9765 - val_loss: 1.0639 - val_accuracy: 0.8000\n",
            "Epoch 4/10\n",
            "109/109 [==============================] - 88s 813ms/step - loss: 0.0614 - accuracy: 0.9765 - val_loss: 1.2244 - val_accuracy: 0.8000\n",
            "Epoch 5/10\n",
            "109/109 [==============================] - 87s 802ms/step - loss: 0.0400 - accuracy: 0.9854 - val_loss: 1.1386 - val_accuracy: 0.8000\n",
            "Epoch 6/10\n",
            " 96/109 [=========================>....] - ETA: 10s - loss: 0.0226 - accuracy: 0.9921"
          ],
          "name": "stdout"
        }
      ]
    },
    {
      "cell_type": "code",
      "metadata": {
        "colab": {
          "base_uri": "https://localhost:8080/"
        },
        "id": "8QvCzFAHoxmz",
        "outputId": "01388ad8-820d-4acb-b2f5-3f20279892eb"
      },
      "source": [
        "def get_gzipped_model_size(file):\n",
        "  # Returns size of gzipped model, in bytes.\n",
        "  import os\n",
        "  import zipfile\n",
        "\n",
        "  _, zipped_file = tempfile.mkstemp('.zip')\n",
        "  with zipfile.ZipFile(zipped_file, 'w', compression=zipfile.ZIP_DEFLATED) as f:\n",
        "    f.write(file)\n",
        "\n",
        "  return os.path.getsize(zipped_file)\n",
        "\n",
        "model_for_export = tfmot.sparsity.keras.strip_pruning(model_for_pruning)\n",
        "\n",
        "_, deep_pruned_keras_file = tempfile.mkstemp('.h5')\n",
        "tf.keras.models.save_model(model_for_export, deep_pruned_keras_file, include_optimizer=False)\n",
        "print('Saved pruned Keras model to:', deep_pruned_keras_file)\n",
        "\n",
        "print(\"Size of gzipped baseline Keras model: %.2f bytes\" % (get_gzipped_model_size(\"/content/model3flipped_loss.hdf5\")))\n",
        "print(\"Size of gzipped pruned Keras model: %.2f bytes\" % (get_gzipped_model_size(deep_pruned_keras_file)))\n",
        "\n",
        "model_for_export = 0"
      ],
      "execution_count": null,
      "outputs": [
        {
          "output_type": "stream",
          "text": [
            "Saved pruned Keras model to: /tmp/tmpvm82skfj.h5\n",
            "Size of gzipped baseline Keras model: 74336065.00 bytes\n",
            "Size of gzipped pruned Keras model: 13465647.00 bytes\n"
          ],
          "name": "stdout"
        }
      ]
    },
    {
      "cell_type": "markdown",
      "metadata": {
        "id": "Uw0X9HEOpLZk"
      },
      "source": [
        "#Pruning 70%"
      ]
    },
    {
      "cell_type": "code",
      "metadata": {
        "colab": {
          "base_uri": "https://localhost:8080/"
        },
        "id": "9BeD5LT2pKef",
        "outputId": "b846c2d1-b2e3-489a-bdc7-d4befa53121b"
      },
      "source": [
        "model.load_weights(\"/content/model3flipped_loss.hdf5\")\n",
        "\n",
        "\n",
        "!pip install tensorflow_model_optimization\n",
        "is_tfmot = True\n",
        "\n",
        "\n",
        "if not(is_tfmot):\n",
        "  !pip install tensorflow_model_optimization\n",
        "  is_tfmot = True\n",
        "\n",
        "import tensorflow_model_optimization as tfmot\n",
        "\n",
        "prune_low_magnitude = tfmot.sparsity.keras.prune_low_magnitude\n",
        "\n",
        "# Compute end step to finish pruning after 2 epochs.\n",
        "batch_size = 32\n",
        "epochs = 10\n",
        "#validation_split = 0.1 # 10% of training set will be used for validation set. \n",
        "\n",
        "num_images = eval_data.shape[0]\n",
        "end_step = np.ceil(num_images / batch_size).astype(np.int32) * epochs\n",
        "\n",
        "# Define model for pruning.\n",
        "pruning_params = {\n",
        "      'pruning_schedule': tfmot.sparsity.keras.PolynomialDecay(initial_sparsity=0.30,\n",
        "                                                               final_sparsity=0.70,\n",
        "                                                               begin_step=0,\n",
        "                                                               end_step=end_step,\n",
        "                                                               frequency=5)\n",
        "}\n",
        "\n",
        "model_for_pruning = prune_low_magnitude(model, **pruning_params)\n",
        "\n",
        "# `prune_low_magnitude` requires a recompile.\n",
        "model_for_pruning.compile(optimizer='adam',\n",
        "              loss=tf.keras.losses.CategoricalCrossentropy(from_logits=True),\n",
        "              metrics=['accuracy'])\n",
        "\n",
        "model_for_pruning.summary()"
      ],
      "execution_count": null,
      "outputs": [
        {
          "output_type": "stream",
          "text": [
            "Requirement already satisfied: tensorflow_model_optimization in /usr/local/lib/python3.7/dist-packages (0.5.0)\n",
            "Requirement already satisfied: six~=1.10 in /usr/local/lib/python3.7/dist-packages (from tensorflow_model_optimization) (1.15.0)\n",
            "Requirement already satisfied: dm-tree~=0.1.1 in /usr/local/lib/python3.7/dist-packages (from tensorflow_model_optimization) (0.1.6)\n",
            "Requirement already satisfied: numpy~=1.14 in /usr/local/lib/python3.7/dist-packages (from tensorflow_model_optimization) (1.19.5)\n"
          ],
          "name": "stdout"
        },
        {
          "output_type": "stream",
          "text": [
            "/usr/local/lib/python3.7/dist-packages/tensorflow/python/keras/engine/base_layer.py:2281: UserWarning: `layer.add_variable` is deprecated and will be removed in a future version. Please use `layer.add_weight` method instead.\n",
            "  warnings.warn('`layer.add_variable` is deprecated and '\n"
          ],
          "name": "stderr"
        },
        {
          "output_type": "stream",
          "text": [
            "Model: \"model\"\n",
            "__________________________________________________________________________________________________\n",
            "Layer (type)                    Output Shape         Param #     Connected to                     \n",
            "==================================================================================================\n",
            "input_1 (InputLayer)            [(None, 22, 15000)]  0                                            \n",
            "__________________________________________________________________________________________________\n",
            "prune_low_magnitude_conv1d (Pru (None, 11, 32)       1920034     input_1[0][0]                    \n",
            "__________________________________________________________________________________________________\n",
            "prune_low_magnitude_conv1d_1 (P (None, 11, 32)       3840034     input_1[0][0]                    \n",
            "__________________________________________________________________________________________________\n",
            "prune_low_magnitude_conv1d_2 (P (None, 11, 32)       7680034     input_1[0][0]                    \n",
            "__________________________________________________________________________________________________\n",
            "prune_low_magnitude_batch_norma (None, 11, 32)       129         prune_low_magnitude_conv1d[0][0] \n",
            "__________________________________________________________________________________________________\n",
            "prune_low_magnitude_batch_norma (None, 11, 32)       129         prune_low_magnitude_conv1d_1[0][0\n",
            "__________________________________________________________________________________________________\n",
            "prune_low_magnitude_batch_norma (None, 11, 32)       129         prune_low_magnitude_conv1d_2[0][0\n",
            "__________________________________________________________________________________________________\n",
            "prune_low_magnitude_concatenate (None, 11, 96)       1           prune_low_magnitude_batch_normali\n",
            "                                                                 prune_low_magnitude_batch_normali\n",
            "                                                                 prune_low_magnitude_batch_normali\n",
            "__________________________________________________________________________________________________\n",
            "prune_low_magnitude_dropout (Pr (None, 11, 96)       1           prune_low_magnitude_concatenate[0\n",
            "__________________________________________________________________________________________________\n",
            "prune_low_magnitude_conv1d_3 (P (None, 6, 32)        12322       prune_low_magnitude_dropout[0][0]\n",
            "__________________________________________________________________________________________________\n",
            "prune_low_magnitude_conv1d_4 (P (None, 6, 32)        24610       prune_low_magnitude_dropout[0][0]\n",
            "__________________________________________________________________________________________________\n",
            "prune_low_magnitude_conv1d_5 (P (None, 6, 32)        49186       prune_low_magnitude_dropout[0][0]\n",
            "__________________________________________________________________________________________________\n",
            "prune_low_magnitude_batch_norma (None, 6, 32)        129         prune_low_magnitude_conv1d_3[0][0\n",
            "__________________________________________________________________________________________________\n",
            "prune_low_magnitude_batch_norma (None, 6, 32)        129         prune_low_magnitude_conv1d_4[0][0\n",
            "__________________________________________________________________________________________________\n",
            "prune_low_magnitude_batch_norma (None, 6, 32)        129         prune_low_magnitude_conv1d_5[0][0\n",
            "__________________________________________________________________________________________________\n",
            "prune_low_magnitude_concatenate (None, 6, 96)        1           prune_low_magnitude_batch_normali\n",
            "                                                                 prune_low_magnitude_batch_normali\n",
            "                                                                 prune_low_magnitude_batch_normali\n",
            "__________________________________________________________________________________________________\n",
            "prune_low_magnitude_dropout_1 ( (None, 6, 96)        1           prune_low_magnitude_concatenate_1\n",
            "__________________________________________________________________________________________________\n",
            "prune_low_magnitude_conv1d_6 (P (None, 3, 32)        12322       prune_low_magnitude_dropout_1[0][\n",
            "__________________________________________________________________________________________________\n",
            "prune_low_magnitude_conv1d_7 (P (None, 3, 32)        24610       prune_low_magnitude_dropout_1[0][\n",
            "__________________________________________________________________________________________________\n",
            "prune_low_magnitude_conv1d_8 (P (None, 3, 32)        49186       prune_low_magnitude_dropout_1[0][\n",
            "__________________________________________________________________________________________________\n",
            "prune_low_magnitude_batch_norma (None, 3, 32)        129         prune_low_magnitude_conv1d_6[0][0\n",
            "__________________________________________________________________________________________________\n",
            "prune_low_magnitude_batch_norma (None, 3, 32)        129         prune_low_magnitude_conv1d_7[0][0\n",
            "__________________________________________________________________________________________________\n",
            "prune_low_magnitude_batch_norma (None, 3, 32)        129         prune_low_magnitude_conv1d_8[0][0\n",
            "__________________________________________________________________________________________________\n",
            "prune_low_magnitude_concatenate (None, 3, 96)        1           prune_low_magnitude_batch_normali\n",
            "                                                                 prune_low_magnitude_batch_normali\n",
            "                                                                 prune_low_magnitude_batch_normali\n",
            "__________________________________________________________________________________________________\n",
            "prune_low_magnitude_dropout_2 ( (None, 3, 96)        1           prune_low_magnitude_concatenate_2\n",
            "__________________________________________________________________________________________________\n",
            "prune_low_magnitude_gru (PruneL (None, 3, 32)        24771       prune_low_magnitude_dropout_2[0][\n",
            "__________________________________________________________________________________________________\n",
            "prune_low_magnitude_gru_1 (Prun (None, 3, 32)        12483       prune_low_magnitude_gru[0][0]    \n",
            "__________________________________________________________________________________________________\n",
            "prune_low_magnitude_concatenate (None, 3, 64)        1           prune_low_magnitude_gru[0][0]    \n",
            "                                                                 prune_low_magnitude_gru_1[0][0]  \n",
            "__________________________________________________________________________________________________\n",
            "prune_low_magnitude_gru_2 (Prun (None, 3, 32)        18627       prune_low_magnitude_concatenate_3\n",
            "__________________________________________________________________________________________________\n",
            "prune_low_magnitude_concatenate (None, 3, 96)        1           prune_low_magnitude_gru[0][0]    \n",
            "                                                                 prune_low_magnitude_gru_1[0][0]  \n",
            "                                                                 prune_low_magnitude_gru_2[0][0]  \n",
            "__________________________________________________________________________________________________\n",
            "prune_low_magnitude_gru_3 (Prun (None, 32)           24771       prune_low_magnitude_concatenate_4\n",
            "__________________________________________________________________________________________________\n",
            "prune_low_magnitude_dense (Prun (None, 2)            132         prune_low_magnitude_gru_3[0][0]  \n",
            "==================================================================================================\n",
            "Total params: 13,694,291\n",
            "Trainable params: 6,847,650\n",
            "Non-trainable params: 6,846,641\n",
            "__________________________________________________________________________________________________\n"
          ],
          "name": "stdout"
        }
      ]
    },
    {
      "cell_type": "code",
      "metadata": {
        "colab": {
          "base_uri": "https://localhost:8080/"
        },
        "id": "M0a3UYe0pSWY",
        "outputId": "c1f5e9f0-69b5-485a-ae81-673abec4d030"
      },
      "source": [
        "import tempfile\n",
        "import os\n",
        "\n",
        "import tensorflow as tf\n",
        "import numpy as np\n",
        "\n",
        "logdir = tempfile.mkdtemp()\n",
        "\n",
        "callbacks = [\n",
        "  tfmot.sparsity.keras.UpdatePruningStep(),\n",
        "  tfmot.sparsity.keras.PruningSummaries(log_dir=logdir),\n",
        "]\n",
        "\n",
        "hist = model_for_pruning.fit(eval_data, eval_label, validation_data=(test_data, test_label), epochs=10, batch_size=32, verbose=1, callbacks=callbacks) #epochs #split #"
      ],
      "execution_count": null,
      "outputs": [
        {
          "output_type": "stream",
          "text": [
            "Epoch 1/10\n",
            "28/28 [==============================] - 79s 2s/step - loss: 0.2902 - accuracy: 0.8979 - val_loss: 0.8308 - val_accuracy: 0.6833\n",
            "Epoch 2/10\n",
            "28/28 [==============================] - 59s 2s/step - loss: 0.1224 - accuracy: 0.9550 - val_loss: 0.7620 - val_accuracy: 0.7667\n",
            "Epoch 3/10\n",
            "28/28 [==============================] - 57s 2s/step - loss: 0.0495 - accuracy: 0.9805 - val_loss: 0.8988 - val_accuracy: 0.7667\n",
            "Epoch 4/10\n",
            "28/28 [==============================] - 58s 2s/step - loss: 0.0337 - accuracy: 0.9885 - val_loss: 1.1142 - val_accuracy: 0.7333\n",
            "Epoch 5/10\n",
            "28/28 [==============================] - 58s 2s/step - loss: 0.0158 - accuracy: 0.9953 - val_loss: 1.0788 - val_accuracy: 0.7833\n",
            "Epoch 6/10\n",
            "28/28 [==============================] - 64s 2s/step - loss: 0.0158 - accuracy: 0.9952 - val_loss: 1.3198 - val_accuracy: 0.7667\n",
            "Epoch 7/10\n",
            "28/28 [==============================] - 58s 2s/step - loss: 0.0097 - accuracy: 0.9975 - val_loss: 1.4131 - val_accuracy: 0.7500\n",
            "Epoch 8/10\n",
            "28/28 [==============================] - 57s 2s/step - loss: 0.0158 - accuracy: 0.9946 - val_loss: 1.2907 - val_accuracy: 0.8167\n",
            "Epoch 9/10\n",
            "28/28 [==============================] - 58s 2s/step - loss: 0.0242 - accuracy: 0.9925 - val_loss: 1.5710 - val_accuracy: 0.7667\n",
            "Epoch 10/10\n",
            "28/28 [==============================] - 56s 2s/step - loss: 0.0105 - accuracy: 0.9952 - val_loss: 1.3786 - val_accuracy: 0.7667\n"
          ],
          "name": "stdout"
        }
      ]
    },
    {
      "cell_type": "code",
      "metadata": {
        "colab": {
          "base_uri": "https://localhost:8080/"
        },
        "id": "gj7jQChapUR2",
        "outputId": "8e8a6d78-40ee-4d92-8dc8-337b09f65a23"
      },
      "source": [
        "def get_gzipped_model_size(file):\n",
        "  # Returns size of gzipped model, in bytes.\n",
        "  import os\n",
        "  import zipfile\n",
        "\n",
        "  _, zipped_file = tempfile.mkstemp('.zip')\n",
        "  with zipfile.ZipFile(zipped_file, 'w', compression=zipfile.ZIP_DEFLATED) as f:\n",
        "    f.write(file)\n",
        "\n",
        "  return os.path.getsize(zipped_file)\n",
        "\n",
        "model_for_export = tfmot.sparsity.keras.strip_pruning(model_for_pruning)\n",
        "\n",
        "_, deep_pruned_keras_file = tempfile.mkstemp('.h5')\n",
        "tf.keras.models.save_model(model_for_export, deep_pruned_keras_file, include_optimizer=False)\n",
        "print('Saved pruned Keras model to:', deep_pruned_keras_file)\n",
        "\n",
        "print(\"Size of gzipped baseline Keras model: %.2f bytes\" % (get_gzipped_model_size(\"/content/model3flipped_loss.hdf5\")))\n",
        "print(\"Size of gzipped pruned Keras model: %.2f bytes\" % (get_gzipped_model_size(deep_pruned_keras_file)))\n",
        "\n",
        "model_for_export = 0"
      ],
      "execution_count": null,
      "outputs": [
        {
          "output_type": "stream",
          "text": [
            "Saved pruned Keras model to: /tmp/tmpflwkbazw.h5\n",
            "Size of gzipped baseline Keras model: 74336065.00 bytes\n",
            "Size of gzipped pruned Keras model: 15006242.00 bytes\n"
          ],
          "name": "stdout"
        }
      ]
    },
    {
      "cell_type": "markdown",
      "metadata": {
        "id": "DRtqQbu_vgJB"
      },
      "source": [
        "# Pruning 80%"
      ]
    },
    {
      "cell_type": "code",
      "metadata": {
        "colab": {
          "base_uri": "https://localhost:8080/"
        },
        "id": "beZgrHfKpV1m",
        "outputId": "24d2030a-a8ef-4d00-90fd-5ad4893dd59d"
      },
      "source": [
        "model.load_weights(\"/content/model3flipped_loss.hdf5\")\n",
        "\n",
        "\n",
        "!pip install tensorflow_model_optimization\n",
        "is_tfmot = True\n",
        "\n",
        "\n",
        "if not(is_tfmot):\n",
        "  !pip install tensorflow_model_optimization\n",
        "  is_tfmot = True\n",
        "\n",
        "import tensorflow_model_optimization as tfmot\n",
        "\n",
        "prune_low_magnitude = tfmot.sparsity.keras.prune_low_magnitude\n",
        "\n",
        "# Compute end step to finish pruning after 2 epochs.\n",
        "batch_size = 32\n",
        "epochs = 10\n",
        "#validation_split = 0.1 # 10% of training set will be used for validation set. \n",
        "\n",
        "num_images = eval_data.shape[0]\n",
        "end_step = np.ceil(num_images / batch_size).astype(np.int32) * epochs\n",
        "\n",
        "# Define model for pruning.\n",
        "pruning_params = {\n",
        "      'pruning_schedule': tfmot.sparsity.keras.PolynomialDecay(initial_sparsity=0.30,\n",
        "                                                               final_sparsity=0.80,\n",
        "                                                               begin_step=0,\n",
        "                                                               end_step=end_step,\n",
        "                                                               frequency=5)\n",
        "}\n",
        "\n",
        "model_for_pruning = prune_low_magnitude(model, **pruning_params)\n",
        "\n",
        "# `prune_low_magnitude` requires a recompile.\n",
        "model_for_pruning.compile(optimizer='adam',\n",
        "              loss=tf.keras.losses.CategoricalCrossentropy(from_logits=True),\n",
        "              metrics=['accuracy'])\n",
        "\n",
        "model_for_pruning.summary()"
      ],
      "execution_count": null,
      "outputs": [
        {
          "output_type": "stream",
          "text": [
            "Requirement already satisfied: tensorflow_model_optimization in /usr/local/lib/python3.7/dist-packages (0.5.0)\n",
            "Requirement already satisfied: dm-tree~=0.1.1 in /usr/local/lib/python3.7/dist-packages (from tensorflow_model_optimization) (0.1.6)\n",
            "Requirement already satisfied: numpy~=1.14 in /usr/local/lib/python3.7/dist-packages (from tensorflow_model_optimization) (1.19.5)\n",
            "Requirement already satisfied: six~=1.10 in /usr/local/lib/python3.7/dist-packages (from tensorflow_model_optimization) (1.15.0)\n"
          ],
          "name": "stdout"
        },
        {
          "output_type": "stream",
          "text": [
            "/usr/local/lib/python3.7/dist-packages/tensorflow/python/keras/engine/base_layer.py:2281: UserWarning: `layer.add_variable` is deprecated and will be removed in a future version. Please use `layer.add_weight` method instead.\n",
            "  warnings.warn('`layer.add_variable` is deprecated and '\n"
          ],
          "name": "stderr"
        },
        {
          "output_type": "stream",
          "text": [
            "Model: \"model_1\"\n",
            "__________________________________________________________________________________________________\n",
            "Layer (type)                    Output Shape         Param #     Connected to                     \n",
            "==================================================================================================\n",
            "input_2 (InputLayer)            [(None, 22, 15000)]  0                                            \n",
            "__________________________________________________________________________________________________\n",
            "prune_low_magnitude_conv1d_9 (P (None, 11, 32)       1920034     input_2[0][0]                    \n",
            "__________________________________________________________________________________________________\n",
            "prune_low_magnitude_conv1d_10 ( (None, 11, 32)       3840034     input_2[0][0]                    \n",
            "__________________________________________________________________________________________________\n",
            "prune_low_magnitude_conv1d_11 ( (None, 11, 32)       7680034     input_2[0][0]                    \n",
            "__________________________________________________________________________________________________\n",
            "prune_low_magnitude_batch_norma (None, 11, 32)       129         prune_low_magnitude_conv1d_9[0][0\n",
            "__________________________________________________________________________________________________\n",
            "prune_low_magnitude_batch_norma (None, 11, 32)       129         prune_low_magnitude_conv1d_10[0][\n",
            "__________________________________________________________________________________________________\n",
            "prune_low_magnitude_batch_norma (None, 11, 32)       129         prune_low_magnitude_conv1d_11[0][\n",
            "__________________________________________________________________________________________________\n",
            "prune_low_magnitude_concatenate (None, 11, 96)       1           prune_low_magnitude_batch_normali\n",
            "                                                                 prune_low_magnitude_batch_normali\n",
            "                                                                 prune_low_magnitude_batch_normali\n",
            "__________________________________________________________________________________________________\n",
            "prune_low_magnitude_dropout_3 ( (None, 11, 96)       1           prune_low_magnitude_concatenate_5\n",
            "__________________________________________________________________________________________________\n",
            "prune_low_magnitude_conv1d_12 ( (None, 6, 32)        12322       prune_low_magnitude_dropout_3[0][\n",
            "__________________________________________________________________________________________________\n",
            "prune_low_magnitude_conv1d_13 ( (None, 6, 32)        24610       prune_low_magnitude_dropout_3[0][\n",
            "__________________________________________________________________________________________________\n",
            "prune_low_magnitude_conv1d_14 ( (None, 6, 32)        49186       prune_low_magnitude_dropout_3[0][\n",
            "__________________________________________________________________________________________________\n",
            "prune_low_magnitude_batch_norma (None, 6, 32)        129         prune_low_magnitude_conv1d_12[0][\n",
            "__________________________________________________________________________________________________\n",
            "prune_low_magnitude_batch_norma (None, 6, 32)        129         prune_low_magnitude_conv1d_13[0][\n",
            "__________________________________________________________________________________________________\n",
            "prune_low_magnitude_batch_norma (None, 6, 32)        129         prune_low_magnitude_conv1d_14[0][\n",
            "__________________________________________________________________________________________________\n",
            "prune_low_magnitude_concatenate (None, 6, 96)        1           prune_low_magnitude_batch_normali\n",
            "                                                                 prune_low_magnitude_batch_normali\n",
            "                                                                 prune_low_magnitude_batch_normali\n",
            "__________________________________________________________________________________________________\n",
            "prune_low_magnitude_dropout_4 ( (None, 6, 96)        1           prune_low_magnitude_concatenate_6\n",
            "__________________________________________________________________________________________________\n",
            "prune_low_magnitude_conv1d_15 ( (None, 3, 32)        12322       prune_low_magnitude_dropout_4[0][\n",
            "__________________________________________________________________________________________________\n",
            "prune_low_magnitude_conv1d_16 ( (None, 3, 32)        24610       prune_low_magnitude_dropout_4[0][\n",
            "__________________________________________________________________________________________________\n",
            "prune_low_magnitude_conv1d_17 ( (None, 3, 32)        49186       prune_low_magnitude_dropout_4[0][\n",
            "__________________________________________________________________________________________________\n",
            "prune_low_magnitude_batch_norma (None, 3, 32)        129         prune_low_magnitude_conv1d_15[0][\n",
            "__________________________________________________________________________________________________\n",
            "prune_low_magnitude_batch_norma (None, 3, 32)        129         prune_low_magnitude_conv1d_16[0][\n",
            "__________________________________________________________________________________________________\n",
            "prune_low_magnitude_batch_norma (None, 3, 32)        129         prune_low_magnitude_conv1d_17[0][\n",
            "__________________________________________________________________________________________________\n",
            "prune_low_magnitude_concatenate (None, 3, 96)        1           prune_low_magnitude_batch_normali\n",
            "                                                                 prune_low_magnitude_batch_normali\n",
            "                                                                 prune_low_magnitude_batch_normali\n",
            "__________________________________________________________________________________________________\n",
            "prune_low_magnitude_dropout_5 ( (None, 3, 96)        1           prune_low_magnitude_concatenate_7\n",
            "__________________________________________________________________________________________________\n",
            "prune_low_magnitude_gru_4 (Prun (None, 3, 32)        24771       prune_low_magnitude_dropout_5[0][\n",
            "__________________________________________________________________________________________________\n",
            "prune_low_magnitude_gru_5 (Prun (None, 3, 32)        12483       prune_low_magnitude_gru_4[0][0]  \n",
            "__________________________________________________________________________________________________\n",
            "prune_low_magnitude_concatenate (None, 3, 64)        1           prune_low_magnitude_gru_4[0][0]  \n",
            "                                                                 prune_low_magnitude_gru_5[0][0]  \n",
            "__________________________________________________________________________________________________\n",
            "prune_low_magnitude_gru_6 (Prun (None, 3, 32)        18627       prune_low_magnitude_concatenate_8\n",
            "__________________________________________________________________________________________________\n",
            "prune_low_magnitude_concatenate (None, 3, 96)        1           prune_low_magnitude_gru_4[0][0]  \n",
            "                                                                 prune_low_magnitude_gru_5[0][0]  \n",
            "                                                                 prune_low_magnitude_gru_6[0][0]  \n",
            "__________________________________________________________________________________________________\n",
            "prune_low_magnitude_gru_7 (Prun (None, 32)           24771       prune_low_magnitude_concatenate_9\n",
            "__________________________________________________________________________________________________\n",
            "prune_low_magnitude_dense_1 (Pr (None, 2)            132         prune_low_magnitude_gru_7[0][0]  \n",
            "==================================================================================================\n",
            "Total params: 13,694,291\n",
            "Trainable params: 6,847,650\n",
            "Non-trainable params: 6,846,641\n",
            "__________________________________________________________________________________________________\n"
          ],
          "name": "stdout"
        }
      ]
    },
    {
      "cell_type": "code",
      "metadata": {
        "colab": {
          "base_uri": "https://localhost:8080/"
        },
        "id": "3Lmm6zRhviCp",
        "outputId": "812bec8d-6ef6-4f81-e245-7089ac804ca0"
      },
      "source": [
        "import tempfile\n",
        "import os\n",
        "\n",
        "import tensorflow as tf\n",
        "import numpy as np\n",
        "\n",
        "logdir = tempfile.mkdtemp()\n",
        "\n",
        "callbacks = [\n",
        "  tfmot.sparsity.keras.UpdatePruningStep(),\n",
        "  tfmot.sparsity.keras.PruningSummaries(log_dir=logdir),\n",
        "]\n",
        "\n",
        "hist = model_for_pruning.fit(eval_data, eval_label, validation_data=(test_data, test_label), epochs=10, batch_size=32, verbose=1, callbacks=callbacks) #epochs #split #"
      ],
      "execution_count": null,
      "outputs": [
        {
          "output_type": "stream",
          "text": [
            "Epoch 1/10\n",
            "109/109 [==============================] - 105s 802ms/step - loss: 0.3999 - accuracy: 0.8177 - val_loss: 0.6642 - val_accuracy: 0.8333\n",
            "Epoch 2/10\n",
            "109/109 [==============================] - 84s 770ms/step - loss: 0.1299 - accuracy: 0.9552 - val_loss: 0.9736 - val_accuracy: 0.7833\n",
            "Epoch 3/10\n",
            "109/109 [==============================] - 84s 769ms/step - loss: 0.0681 - accuracy: 0.9735 - val_loss: 0.9054 - val_accuracy: 0.8000\n",
            "Epoch 4/10\n",
            "109/109 [==============================] - 83s 768ms/step - loss: 0.0558 - accuracy: 0.9807 - val_loss: 0.8396 - val_accuracy: 0.8167\n",
            "Epoch 5/10\n",
            "109/109 [==============================] - 82s 754ms/step - loss: 0.0494 - accuracy: 0.9853 - val_loss: 1.0173 - val_accuracy: 0.8000\n",
            "Epoch 6/10\n",
            "109/109 [==============================] - 82s 746ms/step - loss: 0.0322 - accuracy: 0.9889 - val_loss: 1.0428 - val_accuracy: 0.8000\n",
            "Epoch 7/10\n",
            "109/109 [==============================] - 83s 765ms/step - loss: 0.0200 - accuracy: 0.9940 - val_loss: 1.0559 - val_accuracy: 0.8000\n",
            "Epoch 8/10\n",
            "109/109 [==============================] - 82s 757ms/step - loss: 0.0219 - accuracy: 0.9948 - val_loss: 1.0319 - val_accuracy: 0.8167\n",
            "Epoch 9/10\n",
            "109/109 [==============================] - 82s 752ms/step - loss: 0.0227 - accuracy: 0.9932 - val_loss: 1.0879 - val_accuracy: 0.8000\n",
            "Epoch 10/10\n",
            "109/109 [==============================] - 81s 748ms/step - loss: 0.0195 - accuracy: 0.9916 - val_loss: 1.0625 - val_accuracy: 0.8000\n"
          ],
          "name": "stdout"
        }
      ]
    },
    {
      "cell_type": "code",
      "metadata": {
        "colab": {
          "base_uri": "https://localhost:8080/"
        },
        "id": "cItvWJO2vj89",
        "outputId": "17545daf-3c4d-4794-8ba3-f88e79b53a27"
      },
      "source": [
        "def get_gzipped_model_size(file):\n",
        "  # Returns size of gzipped model, in bytes.\n",
        "  import os\n",
        "  import zipfile\n",
        "\n",
        "  _, zipped_file = tempfile.mkstemp('.zip')\n",
        "  with zipfile.ZipFile(zipped_file, 'w', compression=zipfile.ZIP_DEFLATED) as f:\n",
        "    f.write(file)\n",
        "\n",
        "  return os.path.getsize(zipped_file)\n",
        "\n",
        "model_for_export = tfmot.sparsity.keras.strip_pruning(model_for_pruning)\n",
        "\n",
        "_, deep_pruned_keras_file = tempfile.mkstemp('.h5')\n",
        "tf.keras.models.save_model(model_for_export, deep_pruned_keras_file, include_optimizer=False)\n",
        "print('Saved pruned Keras model to:', deep_pruned_keras_file)\n",
        "\n",
        "print(\"Size of gzipped baseline Keras model: %.2f bytes\" % (get_gzipped_model_size(\"/content/model3flipped_loss.hdf5\")))\n",
        "print(\"Size of gzipped pruned Keras model: %.2f bytes\" % (get_gzipped_model_size(deep_pruned_keras_file)))\n",
        "\n",
        "model_for_export = 0"
      ],
      "execution_count": null,
      "outputs": [
        {
          "output_type": "stream",
          "text": [
            "Saved pruned Keras model to: /tmp/tmpbzn2ness.h5\n",
            "Size of gzipped baseline Keras model: 74336065.00 bytes\n",
            "Size of gzipped pruned Keras model: 8260274.00 bytes\n"
          ],
          "name": "stdout"
        }
      ]
    },
    {
      "cell_type": "markdown",
      "metadata": {
        "id": "Wwx1DUB1zFSs"
      },
      "source": [
        "# Prunning 90%"
      ]
    },
    {
      "cell_type": "code",
      "metadata": {
        "colab": {
          "base_uri": "https://localhost:8080/"
        },
        "id": "IcKKC9iavq-H",
        "outputId": "ce46f6da-8f89-4f74-e281-8378bc543311"
      },
      "source": [
        "model.load_weights(\"/content/model3flipped_loss.hdf5\")\n",
        "\n",
        "\n",
        "!pip install tensorflow_model_optimization\n",
        "is_tfmot = True\n",
        "\n",
        "\n",
        "if not(is_tfmot):\n",
        "  !pip install tensorflow_model_optimization\n",
        "  is_tfmot = True\n",
        "\n",
        "import tensorflow_model_optimization as tfmot\n",
        "\n",
        "prune_low_magnitude = tfmot.sparsity.keras.prune_low_magnitude\n",
        "\n",
        "# Compute end step to finish pruning after 2 epochs.\n",
        "batch_size = 32\n",
        "epochs = 10\n",
        "#validation_split = 0.1 # 10% of training set will be used for validation set. \n",
        "\n",
        "num_images = eval_data.shape[0]\n",
        "end_step = np.ceil(num_images / batch_size).astype(np.int32) * epochs\n",
        "\n",
        "# Define model for pruning.\n",
        "pruning_params = {\n",
        "      'pruning_schedule': tfmot.sparsity.keras.PolynomialDecay(initial_sparsity=0.30,\n",
        "                                                               final_sparsity=0.90,\n",
        "                                                               begin_step=0,\n",
        "                                                               end_step=end_step,\n",
        "                                                               frequency=5)\n",
        "}\n",
        "\n",
        "model_for_pruning = prune_low_magnitude(model, **pruning_params)\n",
        "\n",
        "# `prune_low_magnitude` requires a recompile.\n",
        "model_for_pruning.compile(optimizer='adam',\n",
        "              loss=tf.keras.losses.CategoricalCrossentropy(from_logits=True),\n",
        "              metrics=['accuracy'])\n",
        "\n",
        "model_for_pruning.summary()"
      ],
      "execution_count": null,
      "outputs": [
        {
          "output_type": "stream",
          "text": [
            "Requirement already satisfied: tensorflow_model_optimization in /usr/local/lib/python3.7/dist-packages (0.5.0)\n",
            "Requirement already satisfied: six~=1.10 in /usr/local/lib/python3.7/dist-packages (from tensorflow_model_optimization) (1.15.0)\n",
            "Requirement already satisfied: numpy~=1.14 in /usr/local/lib/python3.7/dist-packages (from tensorflow_model_optimization) (1.19.5)\n",
            "Requirement already satisfied: dm-tree~=0.1.1 in /usr/local/lib/python3.7/dist-packages (from tensorflow_model_optimization) (0.1.6)\n"
          ],
          "name": "stdout"
        },
        {
          "output_type": "stream",
          "text": [
            "/usr/local/lib/python3.7/dist-packages/tensorflow/python/keras/engine/base_layer.py:2281: UserWarning: `layer.add_variable` is deprecated and will be removed in a future version. Please use `layer.add_weight` method instead.\n",
            "  warnings.warn('`layer.add_variable` is deprecated and '\n"
          ],
          "name": "stderr"
        },
        {
          "output_type": "stream",
          "text": [
            "Model: \"model\"\n",
            "__________________________________________________________________________________________________\n",
            "Layer (type)                    Output Shape         Param #     Connected to                     \n",
            "==================================================================================================\n",
            "input_1 (InputLayer)            [(None, 22, 15000)]  0                                            \n",
            "__________________________________________________________________________________________________\n",
            "prune_low_magnitude_conv1d (Pru (None, 11, 32)       1920034     input_1[0][0]                    \n",
            "__________________________________________________________________________________________________\n",
            "prune_low_magnitude_conv1d_1 (P (None, 11, 32)       3840034     input_1[0][0]                    \n",
            "__________________________________________________________________________________________________\n",
            "prune_low_magnitude_conv1d_2 (P (None, 11, 32)       7680034     input_1[0][0]                    \n",
            "__________________________________________________________________________________________________\n",
            "prune_low_magnitude_batch_norma (None, 11, 32)       129         prune_low_magnitude_conv1d[0][0] \n",
            "__________________________________________________________________________________________________\n",
            "prune_low_magnitude_batch_norma (None, 11, 32)       129         prune_low_magnitude_conv1d_1[0][0\n",
            "__________________________________________________________________________________________________\n",
            "prune_low_magnitude_batch_norma (None, 11, 32)       129         prune_low_magnitude_conv1d_2[0][0\n",
            "__________________________________________________________________________________________________\n",
            "prune_low_magnitude_concatenate (None, 11, 96)       1           prune_low_magnitude_batch_normali\n",
            "                                                                 prune_low_magnitude_batch_normali\n",
            "                                                                 prune_low_magnitude_batch_normali\n",
            "__________________________________________________________________________________________________\n",
            "prune_low_magnitude_dropout (Pr (None, 11, 96)       1           prune_low_magnitude_concatenate[0\n",
            "__________________________________________________________________________________________________\n",
            "prune_low_magnitude_conv1d_3 (P (None, 6, 32)        12322       prune_low_magnitude_dropout[0][0]\n",
            "__________________________________________________________________________________________________\n",
            "prune_low_magnitude_conv1d_4 (P (None, 6, 32)        24610       prune_low_magnitude_dropout[0][0]\n",
            "__________________________________________________________________________________________________\n",
            "prune_low_magnitude_conv1d_5 (P (None, 6, 32)        49186       prune_low_magnitude_dropout[0][0]\n",
            "__________________________________________________________________________________________________\n",
            "prune_low_magnitude_batch_norma (None, 6, 32)        129         prune_low_magnitude_conv1d_3[0][0\n",
            "__________________________________________________________________________________________________\n",
            "prune_low_magnitude_batch_norma (None, 6, 32)        129         prune_low_magnitude_conv1d_4[0][0\n",
            "__________________________________________________________________________________________________\n",
            "prune_low_magnitude_batch_norma (None, 6, 32)        129         prune_low_magnitude_conv1d_5[0][0\n",
            "__________________________________________________________________________________________________\n",
            "prune_low_magnitude_concatenate (None, 6, 96)        1           prune_low_magnitude_batch_normali\n",
            "                                                                 prune_low_magnitude_batch_normali\n",
            "                                                                 prune_low_magnitude_batch_normali\n",
            "__________________________________________________________________________________________________\n",
            "prune_low_magnitude_dropout_1 ( (None, 6, 96)        1           prune_low_magnitude_concatenate_1\n",
            "__________________________________________________________________________________________________\n",
            "prune_low_magnitude_conv1d_6 (P (None, 3, 32)        12322       prune_low_magnitude_dropout_1[0][\n",
            "__________________________________________________________________________________________________\n",
            "prune_low_magnitude_conv1d_7 (P (None, 3, 32)        24610       prune_low_magnitude_dropout_1[0][\n",
            "__________________________________________________________________________________________________\n",
            "prune_low_magnitude_conv1d_8 (P (None, 3, 32)        49186       prune_low_magnitude_dropout_1[0][\n",
            "__________________________________________________________________________________________________\n",
            "prune_low_magnitude_batch_norma (None, 3, 32)        129         prune_low_magnitude_conv1d_6[0][0\n",
            "__________________________________________________________________________________________________\n",
            "prune_low_magnitude_batch_norma (None, 3, 32)        129         prune_low_magnitude_conv1d_7[0][0\n",
            "__________________________________________________________________________________________________\n",
            "prune_low_magnitude_batch_norma (None, 3, 32)        129         prune_low_magnitude_conv1d_8[0][0\n",
            "__________________________________________________________________________________________________\n",
            "prune_low_magnitude_concatenate (None, 3, 96)        1           prune_low_magnitude_batch_normali\n",
            "                                                                 prune_low_magnitude_batch_normali\n",
            "                                                                 prune_low_magnitude_batch_normali\n",
            "__________________________________________________________________________________________________\n",
            "prune_low_magnitude_dropout_2 ( (None, 3, 96)        1           prune_low_magnitude_concatenate_2\n",
            "__________________________________________________________________________________________________\n",
            "prune_low_magnitude_gru (PruneL (None, 3, 32)        24771       prune_low_magnitude_dropout_2[0][\n",
            "__________________________________________________________________________________________________\n",
            "prune_low_magnitude_gru_1 (Prun (None, 3, 32)        12483       prune_low_magnitude_gru[0][0]    \n",
            "__________________________________________________________________________________________________\n",
            "prune_low_magnitude_concatenate (None, 3, 64)        1           prune_low_magnitude_gru[0][0]    \n",
            "                                                                 prune_low_magnitude_gru_1[0][0]  \n",
            "__________________________________________________________________________________________________\n",
            "prune_low_magnitude_gru_2 (Prun (None, 3, 32)        18627       prune_low_magnitude_concatenate_3\n",
            "__________________________________________________________________________________________________\n",
            "prune_low_magnitude_concatenate (None, 3, 96)        1           prune_low_magnitude_gru[0][0]    \n",
            "                                                                 prune_low_magnitude_gru_1[0][0]  \n",
            "                                                                 prune_low_magnitude_gru_2[0][0]  \n",
            "__________________________________________________________________________________________________\n",
            "prune_low_magnitude_gru_3 (Prun (None, 32)           24771       prune_low_magnitude_concatenate_4\n",
            "__________________________________________________________________________________________________\n",
            "prune_low_magnitude_dense (Prun (None, 2)            132         prune_low_magnitude_gru_3[0][0]  \n",
            "==================================================================================================\n",
            "Total params: 13,694,291\n",
            "Trainable params: 6,847,650\n",
            "Non-trainable params: 6,846,641\n",
            "__________________________________________________________________________________________________\n"
          ],
          "name": "stdout"
        }
      ]
    },
    {
      "cell_type": "code",
      "metadata": {
        "id": "Jrfl0k6izMjg",
        "colab": {
          "base_uri": "https://localhost:8080/"
        },
        "outputId": "42b445d5-9e5e-4050-e284-0febe1339929"
      },
      "source": [
        "import tempfile\n",
        "import os\n",
        "\n",
        "import tensorflow as tf\n",
        "import numpy as np\n",
        "\n",
        "logdir = tempfile.mkdtemp()\n",
        "\n",
        "callbacks = [\n",
        "  tfmot.sparsity.keras.UpdatePruningStep(),\n",
        "  tfmot.sparsity.keras.PruningSummaries(log_dir=logdir),\n",
        "]\n",
        "\n",
        "hist = model_for_pruning.fit(eval_data, eval_label, validation_data=(test_data, test_label), epochs=10, batch_size=32, verbose=1, callbacks=callbacks) #epochs #split #"
      ],
      "execution_count": null,
      "outputs": [
        {
          "output_type": "stream",
          "text": [
            "Epoch 1/10\n",
            "109/109 [==============================] - 106s 804ms/step - loss: 0.4058 - accuracy: 0.8233 - val_loss: 0.7907 - val_accuracy: 0.8000\n",
            "Epoch 2/10\n",
            "109/109 [==============================] - 88s 809ms/step - loss: 0.1173 - accuracy: 0.9525 - val_loss: 0.8618 - val_accuracy: 0.8333\n",
            "Epoch 3/10\n",
            "109/109 [==============================] - 89s 815ms/step - loss: 0.0687 - accuracy: 0.9803 - val_loss: 0.8137 - val_accuracy: 0.8000\n",
            "Epoch 4/10\n",
            "109/109 [==============================] - 88s 813ms/step - loss: 0.0546 - accuracy: 0.9801 - val_loss: 0.9420 - val_accuracy: 0.7500\n",
            "Epoch 5/10\n",
            "109/109 [==============================] - 87s 803ms/step - loss: 0.0364 - accuracy: 0.9894 - val_loss: 0.8561 - val_accuracy: 0.8000\n",
            "Epoch 6/10\n",
            "109/109 [==============================] - 88s 807ms/step - loss: 0.0402 - accuracy: 0.9900 - val_loss: 0.9093 - val_accuracy: 0.7667\n",
            "Epoch 7/10\n",
            "109/109 [==============================] - 89s 822ms/step - loss: 0.0329 - accuracy: 0.9922 - val_loss: 0.7310 - val_accuracy: 0.7833\n",
            "Epoch 8/10\n",
            "109/109 [==============================] - 90s 829ms/step - loss: 0.0332 - accuracy: 0.9921 - val_loss: 0.8395 - val_accuracy: 0.8167\n",
            "Epoch 9/10\n",
            "109/109 [==============================] - 91s 840ms/step - loss: 0.0283 - accuracy: 0.9908 - val_loss: 0.8071 - val_accuracy: 0.8000\n",
            "Epoch 10/10\n",
            "109/109 [==============================] - 89s 816ms/step - loss: 0.0313 - accuracy: 0.9922 - val_loss: 0.8841 - val_accuracy: 0.8000\n"
          ],
          "name": "stdout"
        }
      ]
    },
    {
      "cell_type": "code",
      "metadata": {
        "id": "u-GVObj0zOUe",
        "colab": {
          "base_uri": "https://localhost:8080/"
        },
        "outputId": "bbf01e9d-f977-4264-9979-f7ffd5f6b9fe"
      },
      "source": [
        "def get_gzipped_model_size(file):\n",
        "  # Returns size of gzipped model, in bytes.\n",
        "  import os\n",
        "  import zipfile\n",
        "\n",
        "  _, zipped_file = tempfile.mkstemp('.zip')\n",
        "  with zipfile.ZipFile(zipped_file, 'w', compression=zipfile.ZIP_DEFLATED) as f:\n",
        "    f.write(file)\n",
        "\n",
        "  return os.path.getsize(zipped_file)\n",
        "\n",
        "model_for_export = tfmot.sparsity.keras.strip_pruning(model_for_pruning)\n",
        "\n",
        "_, deep_pruned_keras_file = tempfile.mkstemp('.h5')\n",
        "tf.keras.models.save_model(model_for_export, deep_pruned_keras_file, include_optimizer=False)\n",
        "print('Saved pruned Keras model to:', deep_pruned_keras_file)\n",
        "\n",
        "print(\"Size of gzipped baseline Keras model: %.2f bytes\" % (get_gzipped_model_size(\"/content/model3flipped_loss.hdf5\")))\n",
        "print(\"Size of gzipped pruned Keras model: %.2f bytes\" % (get_gzipped_model_size(deep_pruned_keras_file)))\n",
        "\n",
        "model_for_export = 0"
      ],
      "execution_count": null,
      "outputs": [
        {
          "output_type": "stream",
          "text": [
            "Saved pruned Keras model to: /tmp/tmphv8zmhqa.h5\n",
            "Size of gzipped baseline Keras model: 74336065.00 bytes\n",
            "Size of gzipped pruned Keras model: 5334700.00 bytes\n"
          ],
          "name": "stdout"
        }
      ]
    },
    {
      "cell_type": "markdown",
      "metadata": {
        "id": "HiVII0dszTuZ"
      },
      "source": [
        "# Pruning 95%"
      ]
    },
    {
      "cell_type": "code",
      "metadata": {
        "id": "n1xhryoYzRz-",
        "colab": {
          "base_uri": "https://localhost:8080/"
        },
        "outputId": "84664a48-4f99-490c-cd98-b1108ecaaa30"
      },
      "source": [
        "model.load_weights(\"/content/model3flipped_loss.hdf5\")\n",
        "\n",
        "\n",
        "!pip install tensorflow_model_optimization\n",
        "is_tfmot = True\n",
        "\n",
        "\n",
        "if not(is_tfmot):\n",
        "  !pip install tensorflow_model_optimization\n",
        "  is_tfmot = True\n",
        "\n",
        "import tensorflow_model_optimization as tfmot\n",
        "\n",
        "prune_low_magnitude = tfmot.sparsity.keras.prune_low_magnitude\n",
        "\n",
        "# Compute end step to finish pruning after 2 epochs.\n",
        "batch_size = 32\n",
        "epochs = 10\n",
        "#validation_split = 0.1 # 10% of training set will be used for validation set. \n",
        "\n",
        "num_images = eval_data.shape[0]\n",
        "end_step = np.ceil(num_images / batch_size).astype(np.int32) * epochs\n",
        "\n",
        "# Define model for pruning.\n",
        "pruning_params = {\n",
        "      'pruning_schedule': tfmot.sparsity.keras.PolynomialDecay(initial_sparsity=0.30,\n",
        "                                                               final_sparsity=0.95,\n",
        "                                                               begin_step=0,\n",
        "                                                               end_step=end_step,\n",
        "                                                               frequency=5)\n",
        "}\n",
        "\n",
        "model_for_pruning = prune_low_magnitude(model, **pruning_params)\n",
        "\n",
        "# `prune_low_magnitude` requires a recompile.\n",
        "model_for_pruning.compile(optimizer='adam',\n",
        "              loss=tf.keras.losses.CategoricalCrossentropy(from_logits=True),\n",
        "              metrics=['accuracy'])\n",
        "\n",
        "model_for_pruning.summary()"
      ],
      "execution_count": null,
      "outputs": [
        {
          "output_type": "stream",
          "text": [
            "Requirement already satisfied: tensorflow_model_optimization in /usr/local/lib/python3.7/dist-packages (0.5.0)\n",
            "Requirement already satisfied: six~=1.10 in /usr/local/lib/python3.7/dist-packages (from tensorflow_model_optimization) (1.15.0)\n",
            "Requirement already satisfied: numpy~=1.14 in /usr/local/lib/python3.7/dist-packages (from tensorflow_model_optimization) (1.19.5)\n",
            "Requirement already satisfied: dm-tree~=0.1.1 in /usr/local/lib/python3.7/dist-packages (from tensorflow_model_optimization) (0.1.6)\n"
          ],
          "name": "stdout"
        },
        {
          "output_type": "stream",
          "text": [
            "/usr/local/lib/python3.7/dist-packages/tensorflow/python/keras/engine/base_layer.py:2281: UserWarning: `layer.add_variable` is deprecated and will be removed in a future version. Please use `layer.add_weight` method instead.\n",
            "  warnings.warn('`layer.add_variable` is deprecated and '\n"
          ],
          "name": "stderr"
        },
        {
          "output_type": "stream",
          "text": [
            "Model: \"model\"\n",
            "__________________________________________________________________________________________________\n",
            "Layer (type)                    Output Shape         Param #     Connected to                     \n",
            "==================================================================================================\n",
            "input_1 (InputLayer)            [(None, 22, 15000)]  0                                            \n",
            "__________________________________________________________________________________________________\n",
            "prune_low_magnitude_conv1d (Pru (None, 11, 32)       1920034     input_1[0][0]                    \n",
            "__________________________________________________________________________________________________\n",
            "prune_low_magnitude_conv1d_1 (P (None, 11, 32)       3840034     input_1[0][0]                    \n",
            "__________________________________________________________________________________________________\n",
            "prune_low_magnitude_conv1d_2 (P (None, 11, 32)       7680034     input_1[0][0]                    \n",
            "__________________________________________________________________________________________________\n",
            "prune_low_magnitude_batch_norma (None, 11, 32)       129         prune_low_magnitude_conv1d[0][0] \n",
            "__________________________________________________________________________________________________\n",
            "prune_low_magnitude_batch_norma (None, 11, 32)       129         prune_low_magnitude_conv1d_1[0][0\n",
            "__________________________________________________________________________________________________\n",
            "prune_low_magnitude_batch_norma (None, 11, 32)       129         prune_low_magnitude_conv1d_2[0][0\n",
            "__________________________________________________________________________________________________\n",
            "prune_low_magnitude_concatenate (None, 11, 96)       1           prune_low_magnitude_batch_normali\n",
            "                                                                 prune_low_magnitude_batch_normali\n",
            "                                                                 prune_low_magnitude_batch_normali\n",
            "__________________________________________________________________________________________________\n",
            "prune_low_magnitude_dropout (Pr (None, 11, 96)       1           prune_low_magnitude_concatenate[0\n",
            "__________________________________________________________________________________________________\n",
            "prune_low_magnitude_conv1d_3 (P (None, 6, 32)        12322       prune_low_magnitude_dropout[0][0]\n",
            "__________________________________________________________________________________________________\n",
            "prune_low_magnitude_conv1d_4 (P (None, 6, 32)        24610       prune_low_magnitude_dropout[0][0]\n",
            "__________________________________________________________________________________________________\n",
            "prune_low_magnitude_conv1d_5 (P (None, 6, 32)        49186       prune_low_magnitude_dropout[0][0]\n",
            "__________________________________________________________________________________________________\n",
            "prune_low_magnitude_batch_norma (None, 6, 32)        129         prune_low_magnitude_conv1d_3[0][0\n",
            "__________________________________________________________________________________________________\n",
            "prune_low_magnitude_batch_norma (None, 6, 32)        129         prune_low_magnitude_conv1d_4[0][0\n",
            "__________________________________________________________________________________________________\n",
            "prune_low_magnitude_batch_norma (None, 6, 32)        129         prune_low_magnitude_conv1d_5[0][0\n",
            "__________________________________________________________________________________________________\n",
            "prune_low_magnitude_concatenate (None, 6, 96)        1           prune_low_magnitude_batch_normali\n",
            "                                                                 prune_low_magnitude_batch_normali\n",
            "                                                                 prune_low_magnitude_batch_normali\n",
            "__________________________________________________________________________________________________\n",
            "prune_low_magnitude_dropout_1 ( (None, 6, 96)        1           prune_low_magnitude_concatenate_1\n",
            "__________________________________________________________________________________________________\n",
            "prune_low_magnitude_conv1d_6 (P (None, 3, 32)        12322       prune_low_magnitude_dropout_1[0][\n",
            "__________________________________________________________________________________________________\n",
            "prune_low_magnitude_conv1d_7 (P (None, 3, 32)        24610       prune_low_magnitude_dropout_1[0][\n",
            "__________________________________________________________________________________________________\n",
            "prune_low_magnitude_conv1d_8 (P (None, 3, 32)        49186       prune_low_magnitude_dropout_1[0][\n",
            "__________________________________________________________________________________________________\n",
            "prune_low_magnitude_batch_norma (None, 3, 32)        129         prune_low_magnitude_conv1d_6[0][0\n",
            "__________________________________________________________________________________________________\n",
            "prune_low_magnitude_batch_norma (None, 3, 32)        129         prune_low_magnitude_conv1d_7[0][0\n",
            "__________________________________________________________________________________________________\n",
            "prune_low_magnitude_batch_norma (None, 3, 32)        129         prune_low_magnitude_conv1d_8[0][0\n",
            "__________________________________________________________________________________________________\n",
            "prune_low_magnitude_concatenate (None, 3, 96)        1           prune_low_magnitude_batch_normali\n",
            "                                                                 prune_low_magnitude_batch_normali\n",
            "                                                                 prune_low_magnitude_batch_normali\n",
            "__________________________________________________________________________________________________\n",
            "prune_low_magnitude_dropout_2 ( (None, 3, 96)        1           prune_low_magnitude_concatenate_2\n",
            "__________________________________________________________________________________________________\n",
            "prune_low_magnitude_gru (PruneL (None, 3, 32)        24771       prune_low_magnitude_dropout_2[0][\n",
            "__________________________________________________________________________________________________\n",
            "prune_low_magnitude_gru_1 (Prun (None, 3, 32)        12483       prune_low_magnitude_gru[0][0]    \n",
            "__________________________________________________________________________________________________\n",
            "prune_low_magnitude_concatenate (None, 3, 64)        1           prune_low_magnitude_gru[0][0]    \n",
            "                                                                 prune_low_magnitude_gru_1[0][0]  \n",
            "__________________________________________________________________________________________________\n",
            "prune_low_magnitude_gru_2 (Prun (None, 3, 32)        18627       prune_low_magnitude_concatenate_3\n",
            "__________________________________________________________________________________________________\n",
            "prune_low_magnitude_concatenate (None, 3, 96)        1           prune_low_magnitude_gru[0][0]    \n",
            "                                                                 prune_low_magnitude_gru_1[0][0]  \n",
            "                                                                 prune_low_magnitude_gru_2[0][0]  \n",
            "__________________________________________________________________________________________________\n",
            "prune_low_magnitude_gru_3 (Prun (None, 32)           24771       prune_low_magnitude_concatenate_4\n",
            "__________________________________________________________________________________________________\n",
            "prune_low_magnitude_dense (Prun (None, 2)            132         prune_low_magnitude_gru_3[0][0]  \n",
            "==================================================================================================\n",
            "Total params: 13,694,291\n",
            "Trainable params: 6,847,650\n",
            "Non-trainable params: 6,846,641\n",
            "__________________________________________________________________________________________________\n"
          ],
          "name": "stdout"
        }
      ]
    },
    {
      "cell_type": "code",
      "metadata": {
        "id": "2oyo2CgmzXAH",
        "colab": {
          "base_uri": "https://localhost:8080/"
        },
        "outputId": "1bd0e763-225c-4535-cbb2-7d80aabe1191"
      },
      "source": [
        "import tempfile\n",
        "import os\n",
        "\n",
        "import tensorflow as tf\n",
        "import numpy as np\n",
        "\n",
        "logdir = tempfile.mkdtemp()\n",
        "\n",
        "callbacks = [\n",
        "  tfmot.sparsity.keras.UpdatePruningStep(),\n",
        "  tfmot.sparsity.keras.PruningSummaries(log_dir=logdir),\n",
        "]\n",
        "\n",
        "hist = model_for_pruning.fit(eval_data, eval_label, validation_data=(test_data, test_label), epochs=30, batch_size=128, verbose=1, callbacks=callbacks) #epochs #split #"
      ],
      "execution_count": null,
      "outputs": [
        {
          "output_type": "stream",
          "text": [
            "Epoch 1/30\n",
            "28/28 [==============================] - 81s 2s/step - loss: 0.2951 - accuracy: 0.8915 - val_loss: 0.8001 - val_accuracy: 0.7000\n",
            "Epoch 2/30\n",
            "28/28 [==============================] - 62s 2s/step - loss: 0.1260 - accuracy: 0.9522 - val_loss: 0.9935 - val_accuracy: 0.7500\n",
            "Epoch 3/30\n",
            "28/28 [==============================] - 61s 2s/step - loss: 0.0429 - accuracy: 0.9830 - val_loss: 1.1727 - val_accuracy: 0.7667\n",
            "Epoch 4/30\n",
            "28/28 [==============================] - 62s 2s/step - loss: 0.0246 - accuracy: 0.9928 - val_loss: 1.1079 - val_accuracy: 0.8167\n",
            "Epoch 5/30\n",
            "28/28 [==============================] - 62s 2s/step - loss: 0.0188 - accuracy: 0.9931 - val_loss: 0.9959 - val_accuracy: 0.8167\n",
            "Epoch 6/30\n",
            "28/28 [==============================] - 62s 2s/step - loss: 0.0212 - accuracy: 0.9920 - val_loss: 1.1367 - val_accuracy: 0.7667\n",
            "Epoch 7/30\n",
            "28/28 [==============================] - 64s 2s/step - loss: 0.0264 - accuracy: 0.9919 - val_loss: 1.0982 - val_accuracy: 0.7833\n",
            "Epoch 8/30\n",
            "28/28 [==============================] - 61s 2s/step - loss: 0.0176 - accuracy: 0.9943 - val_loss: 1.3083 - val_accuracy: 0.7667\n",
            "Epoch 9/30\n",
            "28/28 [==============================] - 63s 2s/step - loss: 0.0177 - accuracy: 0.9953 - val_loss: 1.2966 - val_accuracy: 0.8000\n",
            "Epoch 10/30\n",
            "28/28 [==============================] - 62s 2s/step - loss: 0.0089 - accuracy: 0.9964 - val_loss: 1.2623 - val_accuracy: 0.8167\n",
            "Epoch 11/30\n",
            "28/28 [==============================] - 62s 2s/step - loss: 0.0215 - accuracy: 0.9925 - val_loss: 1.1693 - val_accuracy: 0.8000\n",
            "Epoch 12/30\n",
            "28/28 [==============================] - 64s 2s/step - loss: 0.0185 - accuracy: 0.9950 - val_loss: 1.0702 - val_accuracy: 0.8167\n",
            "Epoch 13/30\n",
            "28/28 [==============================] - 62s 2s/step - loss: 0.0102 - accuracy: 0.9967 - val_loss: 1.0950 - val_accuracy: 0.8167\n",
            "Epoch 14/30\n",
            "28/28 [==============================] - 64s 2s/step - loss: 0.0194 - accuracy: 0.9933 - val_loss: 1.0229 - val_accuracy: 0.8000\n",
            "Epoch 15/30\n",
            "28/28 [==============================] - 61s 2s/step - loss: 0.0171 - accuracy: 0.9936 - val_loss: 1.0002 - val_accuracy: 0.8167\n",
            "Epoch 16/30\n",
            "28/28 [==============================] - 63s 2s/step - loss: 0.0158 - accuracy: 0.9958 - val_loss: 0.9676 - val_accuracy: 0.8167\n",
            "Epoch 17/30\n",
            "28/28 [==============================] - 63s 2s/step - loss: 0.0091 - accuracy: 0.9987 - val_loss: 0.9554 - val_accuracy: 0.8333\n",
            "Epoch 18/30\n",
            "28/28 [==============================] - 62s 2s/step - loss: 0.0131 - accuracy: 0.9973 - val_loss: 0.9223 - val_accuracy: 0.8000\n",
            "Epoch 19/30\n",
            "28/28 [==============================] - 64s 2s/step - loss: 0.0126 - accuracy: 0.9981 - val_loss: 0.9297 - val_accuracy: 0.8000\n",
            "Epoch 20/30\n",
            "28/28 [==============================] - 62s 2s/step - loss: 0.0122 - accuracy: 0.9982 - val_loss: 0.8954 - val_accuracy: 0.8167\n",
            "Epoch 21/30\n",
            "28/28 [==============================] - 63s 2s/step - loss: 0.0171 - accuracy: 0.9946 - val_loss: 0.8228 - val_accuracy: 0.8167\n",
            "Epoch 22/30\n",
            "28/28 [==============================] - 64s 2s/step - loss: 0.0120 - accuracy: 0.9995 - val_loss: 0.9660 - val_accuracy: 0.7833\n",
            "Epoch 23/30\n",
            "28/28 [==============================] - 61s 2s/step - loss: 0.0115 - accuracy: 0.9992 - val_loss: 0.8605 - val_accuracy: 0.8000\n",
            "Epoch 24/30\n",
            "28/28 [==============================] - 64s 2s/step - loss: 0.0105 - accuracy: 0.9997 - val_loss: 0.9159 - val_accuracy: 0.8000\n",
            "Epoch 25/30\n",
            "28/28 [==============================] - 62s 2s/step - loss: 0.0190 - accuracy: 0.9976 - val_loss: 0.8462 - val_accuracy: 0.8167\n",
            "Epoch 26/30\n",
            "28/28 [==============================] - 64s 2s/step - loss: 0.0166 - accuracy: 0.9979 - val_loss: 0.8833 - val_accuracy: 0.8167\n",
            "Epoch 27/30\n",
            "28/28 [==============================] - 64s 2s/step - loss: 0.0126 - accuracy: 0.9987 - val_loss: 0.7551 - val_accuracy: 0.8167\n",
            "Epoch 28/30\n",
            "28/28 [==============================] - 63s 2s/step - loss: 0.0212 - accuracy: 0.9986 - val_loss: 0.8674 - val_accuracy: 0.7833\n",
            "Epoch 29/30\n",
            "28/28 [==============================] - 65s 2s/step - loss: 0.0161 - accuracy: 0.9981 - val_loss: 0.9377 - val_accuracy: 0.7833\n",
            "Epoch 30/30\n",
            "28/28 [==============================] - 61s 2s/step - loss: 0.0159 - accuracy: 0.9981 - val_loss: 1.0237 - val_accuracy: 0.7667\n"
          ],
          "name": "stdout"
        }
      ]
    },
    {
      "cell_type": "code",
      "metadata": {
        "id": "UT9IpzZhzaTJ",
        "colab": {
          "base_uri": "https://localhost:8080/"
        },
        "outputId": "935bab88-8a11-4c4f-a8bf-f293c72ff198"
      },
      "source": [
        "def get_gzipped_model_size(file):\n",
        "  # Returns size of gzipped model, in bytes.\n",
        "  import os\n",
        "  import zipfile\n",
        "\n",
        "  _, zipped_file = tempfile.mkstemp('.zip')\n",
        "  with zipfile.ZipFile(zipped_file, 'w', compression=zipfile.ZIP_DEFLATED) as f:\n",
        "    f.write(file)\n",
        "\n",
        "  return os.path.getsize(zipped_file)\n",
        "\n",
        "model_for_export = tfmot.sparsity.keras.strip_pruning(model_for_pruning)\n",
        "\n",
        "_, deep_pruned_keras_file = tempfile.mkstemp('.h5')\n",
        "tf.keras.models.save_model(model_for_export, deep_pruned_keras_file, include_optimizer=False)\n",
        "print('Saved pruned Keras model to:', deep_pruned_keras_file)\n",
        "\n",
        "print(\"Size of gzipped baseline Keras model: %.2f bytes\" % (get_gzipped_model_size(\"/content/model3flipped_loss.hdf5\")))\n",
        "print(\"Size of gzipped pruned Keras model: %.2f bytes\" % (get_gzipped_model_size(deep_pruned_keras_file)))\n",
        "\n",
        "model_for_export = 0"
      ],
      "execution_count": null,
      "outputs": [
        {
          "output_type": "stream",
          "text": [
            "Saved pruned Keras model to: /tmp/tmpynzzv4lz.h5\n",
            "Size of gzipped baseline Keras model: 74336065.00 bytes\n",
            "Size of gzipped pruned Keras model: 4010207.00 bytes\n"
          ],
          "name": "stdout"
        }
      ]
    },
    {
      "cell_type": "markdown",
      "metadata": {
        "id": "IXE8ggDOzcOA"
      },
      "source": [
        "# Prunning 99%"
      ]
    },
    {
      "cell_type": "code",
      "metadata": {
        "id": "Ymqwyxrtzbs_",
        "colab": {
          "base_uri": "https://localhost:8080/"
        },
        "outputId": "ba5e0559-0996-48b9-d1d9-44a956512e4b"
      },
      "source": [
        "model.load_weights(\"/content/model3flipped_loss.hdf5\")\n",
        "\n",
        "\n",
        "!pip install tensorflow_model_optimization\n",
        "is_tfmot = True\n",
        "\n",
        "model_for_export = 0\n",
        "\n",
        "\n",
        "if not(is_tfmot):\n",
        "  !pip install tensorflow_model_optimization\n",
        "  is_tfmot = True\n",
        "\n",
        "import tensorflow_model_optimization as tfmot\n",
        "\n",
        "prune_low_magnitude = tfmot.sparsity.keras.prune_low_magnitude\n",
        "\n",
        "# Compute end step to finish pruning after 2 epochs.\n",
        "batch_size = 32\n",
        "epochs = 20\n",
        "#validation_split = 0.1 # 10% of training set will be used for validation set. \n",
        "\n",
        "num_images = eval_data.shape[0]\n",
        "end_step = np.ceil(num_images / batch_size).astype(np.int32) * epochs\n",
        "\n",
        "# Define model for pruning.\n",
        "pruning_params = {\n",
        "      'pruning_schedule': tfmot.sparsity.keras.PolynomialDecay(initial_sparsity=0.30,\n",
        "                                                               final_sparsity=0.99,\n",
        "                                                               begin_step=0,\n",
        "                                                               end_step=end_step,\n",
        "                                                               frequency=5)\n",
        "}\n",
        "\n",
        "model_for_pruning = prune_low_magnitude(model, **pruning_params)\n",
        "\n",
        "# `prune_low_magnitude` requires a recompile.\n",
        "model_for_pruning.compile(optimizer='adam',\n",
        "              loss=tf.keras.losses.CategoricalCrossentropy(from_logits=True),\n",
        "              metrics=['accuracy'])\n",
        "\n",
        "model_for_pruning.summary()"
      ],
      "execution_count": null,
      "outputs": [
        {
          "output_type": "stream",
          "text": [
            "Requirement already satisfied: tensorflow_model_optimization in /usr/local/lib/python3.7/dist-packages (0.5.0)\n",
            "Requirement already satisfied: dm-tree~=0.1.1 in /usr/local/lib/python3.7/dist-packages (from tensorflow_model_optimization) (0.1.6)\n",
            "Requirement already satisfied: numpy~=1.14 in /usr/local/lib/python3.7/dist-packages (from tensorflow_model_optimization) (1.19.5)\n",
            "Requirement already satisfied: six~=1.10 in /usr/local/lib/python3.7/dist-packages (from tensorflow_model_optimization) (1.15.0)\n"
          ],
          "name": "stdout"
        },
        {
          "output_type": "stream",
          "text": [
            "/usr/local/lib/python3.7/dist-packages/tensorflow/python/keras/engine/base_layer.py:2281: UserWarning: `layer.add_variable` is deprecated and will be removed in a future version. Please use `layer.add_weight` method instead.\n",
            "  warnings.warn('`layer.add_variable` is deprecated and '\n"
          ],
          "name": "stderr"
        },
        {
          "output_type": "stream",
          "text": [
            "Model: \"model\"\n",
            "__________________________________________________________________________________________________\n",
            "Layer (type)                    Output Shape         Param #     Connected to                     \n",
            "==================================================================================================\n",
            "input_1 (InputLayer)            [(None, 22, 15000)]  0                                            \n",
            "__________________________________________________________________________________________________\n",
            "prune_low_magnitude_conv1d (Pru (None, 11, 32)       1920034     input_1[0][0]                    \n",
            "__________________________________________________________________________________________________\n",
            "prune_low_magnitude_conv1d_1 (P (None, 11, 32)       3840034     input_1[0][0]                    \n",
            "__________________________________________________________________________________________________\n",
            "prune_low_magnitude_conv1d_2 (P (None, 11, 32)       7680034     input_1[0][0]                    \n",
            "__________________________________________________________________________________________________\n",
            "prune_low_magnitude_batch_norma (None, 11, 32)       129         prune_low_magnitude_conv1d[0][0] \n",
            "__________________________________________________________________________________________________\n",
            "prune_low_magnitude_batch_norma (None, 11, 32)       129         prune_low_magnitude_conv1d_1[0][0\n",
            "__________________________________________________________________________________________________\n",
            "prune_low_magnitude_batch_norma (None, 11, 32)       129         prune_low_magnitude_conv1d_2[0][0\n",
            "__________________________________________________________________________________________________\n",
            "prune_low_magnitude_concatenate (None, 11, 96)       1           prune_low_magnitude_batch_normali\n",
            "                                                                 prune_low_magnitude_batch_normali\n",
            "                                                                 prune_low_magnitude_batch_normali\n",
            "__________________________________________________________________________________________________\n",
            "prune_low_magnitude_dropout (Pr (None, 11, 96)       1           prune_low_magnitude_concatenate[0\n",
            "__________________________________________________________________________________________________\n",
            "prune_low_magnitude_conv1d_3 (P (None, 6, 32)        12322       prune_low_magnitude_dropout[0][0]\n",
            "__________________________________________________________________________________________________\n",
            "prune_low_magnitude_conv1d_4 (P (None, 6, 32)        24610       prune_low_magnitude_dropout[0][0]\n",
            "__________________________________________________________________________________________________\n",
            "prune_low_magnitude_conv1d_5 (P (None, 6, 32)        49186       prune_low_magnitude_dropout[0][0]\n",
            "__________________________________________________________________________________________________\n",
            "prune_low_magnitude_batch_norma (None, 6, 32)        129         prune_low_magnitude_conv1d_3[0][0\n",
            "__________________________________________________________________________________________________\n",
            "prune_low_magnitude_batch_norma (None, 6, 32)        129         prune_low_magnitude_conv1d_4[0][0\n",
            "__________________________________________________________________________________________________\n",
            "prune_low_magnitude_batch_norma (None, 6, 32)        129         prune_low_magnitude_conv1d_5[0][0\n",
            "__________________________________________________________________________________________________\n",
            "prune_low_magnitude_concatenate (None, 6, 96)        1           prune_low_magnitude_batch_normali\n",
            "                                                                 prune_low_magnitude_batch_normali\n",
            "                                                                 prune_low_magnitude_batch_normali\n",
            "__________________________________________________________________________________________________\n",
            "prune_low_magnitude_dropout_1 ( (None, 6, 96)        1           prune_low_magnitude_concatenate_1\n",
            "__________________________________________________________________________________________________\n",
            "prune_low_magnitude_conv1d_6 (P (None, 3, 32)        12322       prune_low_magnitude_dropout_1[0][\n",
            "__________________________________________________________________________________________________\n",
            "prune_low_magnitude_conv1d_7 (P (None, 3, 32)        24610       prune_low_magnitude_dropout_1[0][\n",
            "__________________________________________________________________________________________________\n",
            "prune_low_magnitude_conv1d_8 (P (None, 3, 32)        49186       prune_low_magnitude_dropout_1[0][\n",
            "__________________________________________________________________________________________________\n",
            "prune_low_magnitude_batch_norma (None, 3, 32)        129         prune_low_magnitude_conv1d_6[0][0\n",
            "__________________________________________________________________________________________________\n",
            "prune_low_magnitude_batch_norma (None, 3, 32)        129         prune_low_magnitude_conv1d_7[0][0\n",
            "__________________________________________________________________________________________________\n",
            "prune_low_magnitude_batch_norma (None, 3, 32)        129         prune_low_magnitude_conv1d_8[0][0\n",
            "__________________________________________________________________________________________________\n",
            "prune_low_magnitude_concatenate (None, 3, 96)        1           prune_low_magnitude_batch_normali\n",
            "                                                                 prune_low_magnitude_batch_normali\n",
            "                                                                 prune_low_magnitude_batch_normali\n",
            "__________________________________________________________________________________________________\n",
            "prune_low_magnitude_dropout_2 ( (None, 3, 96)        1           prune_low_magnitude_concatenate_2\n",
            "__________________________________________________________________________________________________\n",
            "prune_low_magnitude_gru (PruneL (None, 3, 32)        24771       prune_low_magnitude_dropout_2[0][\n",
            "__________________________________________________________________________________________________\n",
            "prune_low_magnitude_gru_1 (Prun (None, 3, 32)        12483       prune_low_magnitude_gru[0][0]    \n",
            "__________________________________________________________________________________________________\n",
            "prune_low_magnitude_concatenate (None, 3, 64)        1           prune_low_magnitude_gru[0][0]    \n",
            "                                                                 prune_low_magnitude_gru_1[0][0]  \n",
            "__________________________________________________________________________________________________\n",
            "prune_low_magnitude_gru_2 (Prun (None, 3, 32)        18627       prune_low_magnitude_concatenate_3\n",
            "__________________________________________________________________________________________________\n",
            "prune_low_magnitude_concatenate (None, 3, 96)        1           prune_low_magnitude_gru[0][0]    \n",
            "                                                                 prune_low_magnitude_gru_1[0][0]  \n",
            "                                                                 prune_low_magnitude_gru_2[0][0]  \n",
            "__________________________________________________________________________________________________\n",
            "prune_low_magnitude_gru_3 (Prun (None, 32)           24771       prune_low_magnitude_concatenate_4\n",
            "__________________________________________________________________________________________________\n",
            "prune_low_magnitude_dense (Prun (None, 2)            132         prune_low_magnitude_gru_3[0][0]  \n",
            "==================================================================================================\n",
            "Total params: 13,694,291\n",
            "Trainable params: 6,847,650\n",
            "Non-trainable params: 6,846,641\n",
            "__________________________________________________________________________________________________\n"
          ],
          "name": "stdout"
        }
      ]
    },
    {
      "cell_type": "code",
      "metadata": {
        "id": "T950A10Ezf9Y",
        "colab": {
          "base_uri": "https://localhost:8080/"
        },
        "outputId": "6d9ff54f-6290-4947-921c-3adc7037b04d"
      },
      "source": [
        "import tempfile\n",
        "import os\n",
        "\n",
        "import tensorflow as tf\n",
        "import numpy as np\n",
        "\n",
        "logdir = tempfile.mkdtemp()\n",
        "\n",
        "callbacks = [\n",
        "  tfmot.sparsity.keras.UpdatePruningStep(),\n",
        "  tfmot.sparsity.keras.PruningSummaries(log_dir=logdir),\n",
        "]\n",
        "\n",
        "hist = model_for_pruning.fit(eval_data, eval_label, validation_data=(test_data, test_label), epochs=20, batch_size=32, verbose=1, callbacks=callbacks) #epochs #split #"
      ],
      "execution_count": null,
      "outputs": [
        {
          "output_type": "stream",
          "text": [
            "Epoch 1/20\n",
            "109/109 [==============================] - 110s 847ms/step - loss: 0.3891 - accuracy: 0.8360 - val_loss: 0.6476 - val_accuracy: 0.7667\n",
            "Epoch 2/20\n",
            "109/109 [==============================] - 89s 814ms/step - loss: 0.1284 - accuracy: 0.9539 - val_loss: 0.8502 - val_accuracy: 0.8167\n",
            "Epoch 3/20\n",
            "109/109 [==============================] - 88s 808ms/step - loss: 0.0764 - accuracy: 0.9754 - val_loss: 0.9304 - val_accuracy: 0.8000\n",
            "Epoch 4/20\n",
            "109/109 [==============================] - 87s 801ms/step - loss: 0.0386 - accuracy: 0.9867 - val_loss: 1.0117 - val_accuracy: 0.8000\n",
            "Epoch 5/20\n",
            "109/109 [==============================] - 86s 788ms/step - loss: 0.0459 - accuracy: 0.9864 - val_loss: 1.0018 - val_accuracy: 0.7833\n",
            "Epoch 6/20\n",
            "109/109 [==============================] - 86s 788ms/step - loss: 0.0530 - accuracy: 0.9832 - val_loss: 0.8820 - val_accuracy: 0.8000\n",
            "Epoch 7/20\n",
            "109/109 [==============================] - 87s 805ms/step - loss: 0.0332 - accuracy: 0.9894 - val_loss: 0.9780 - val_accuracy: 0.7833\n",
            "Epoch 8/20\n",
            "109/109 [==============================] - 88s 809ms/step - loss: 0.0238 - accuracy: 0.9928 - val_loss: 0.8693 - val_accuracy: 0.8000\n",
            "Epoch 9/20\n",
            "109/109 [==============================] - 88s 806ms/step - loss: 0.0351 - accuracy: 0.9902 - val_loss: 0.7677 - val_accuracy: 0.8167\n",
            "Epoch 10/20\n",
            "109/109 [==============================] - 86s 791ms/step - loss: 0.0302 - accuracy: 0.9917 - val_loss: 0.7773 - val_accuracy: 0.7833\n",
            "Epoch 11/20\n",
            "109/109 [==============================] - 87s 792ms/step - loss: 0.0387 - accuracy: 0.9885 - val_loss: 0.7789 - val_accuracy: 0.8000\n",
            "Epoch 12/20\n",
            "109/109 [==============================] - 87s 804ms/step - loss: 0.0383 - accuracy: 0.9897 - val_loss: 0.6181 - val_accuracy: 0.8000\n",
            "Epoch 13/20\n",
            "109/109 [==============================] - 88s 810ms/step - loss: 0.0586 - accuracy: 0.9885 - val_loss: 0.7683 - val_accuracy: 0.7833\n",
            "Epoch 14/20\n",
            "109/109 [==============================] - 88s 814ms/step - loss: 0.0716 - accuracy: 0.9901 - val_loss: 0.6709 - val_accuracy: 0.8000\n",
            "Epoch 15/20\n",
            "109/109 [==============================] - 87s 798ms/step - loss: 0.0869 - accuracy: 0.9844 - val_loss: 0.5307 - val_accuracy: 0.7833\n",
            "Epoch 16/20\n",
            "109/109 [==============================] - 87s 792ms/step - loss: 0.1711 - accuracy: 0.9810 - val_loss: 0.5291 - val_accuracy: 0.8000\n",
            "Epoch 17/20\n",
            "109/109 [==============================] - 92s 850ms/step - loss: 0.1547 - accuracy: 0.9772 - val_loss: 0.5877 - val_accuracy: 0.7667\n",
            "Epoch 18/20\n",
            "109/109 [==============================] - 88s 813ms/step - loss: 0.1499 - accuracy: 0.9719 - val_loss: 0.5701 - val_accuracy: 0.7833\n",
            "Epoch 19/20\n",
            "109/109 [==============================] - 88s 813ms/step - loss: 0.1508 - accuracy: 0.9618 - val_loss: 0.6002 - val_accuracy: 0.7833\n",
            "Epoch 20/20\n",
            "109/109 [==============================] - 87s 802ms/step - loss: 0.1250 - accuracy: 0.9720 - val_loss: 0.6154 - val_accuracy: 0.7833\n"
          ],
          "name": "stdout"
        }
      ]
    },
    {
      "cell_type": "code",
      "metadata": {
        "id": "Z0uMgmdBziZb",
        "colab": {
          "base_uri": "https://localhost:8080/"
        },
        "outputId": "0920ea49-0056-4840-e078-361d5961d90b"
      },
      "source": [
        "def get_gzipped_model_size(file):\n",
        "  # Returns size of gzipped model, in bytes.\n",
        "  import os\n",
        "  import zipfile\n",
        "\n",
        "  _, zipped_file = tempfile.mkstemp('.zip')\n",
        "  with zipfile.ZipFile(zipped_file, 'w', compression=zipfile.ZIP_DEFLATED) as f:\n",
        "    f.write(file)\n",
        "\n",
        "  return os.path.getsize(zipped_file)\n",
        "\n",
        "model_for_export = tfmot.sparsity.keras.strip_pruning(model_for_pruning)\n",
        "\n",
        "_, deep_pruned_keras_file = tempfile.mkstemp('.h5')\n",
        "tf.keras.models.save_model(model_for_export, deep_pruned_keras_file, include_optimizer=False)\n",
        "print('Saved pruned Keras model to:', deep_pruned_keras_file)\n",
        "\n",
        "print(\"Size of gzipped baseline Keras model: %.2f bytes\" % (get_gzipped_model_size(\"/content/model3flipped_loss.hdf5\")))\n",
        "print(\"Size of gzipped pruned Keras model: %.2f bytes\" % (get_gzipped_model_size(deep_pruned_keras_file)))\n",
        "\n",
        "model_for_export = 0"
      ],
      "execution_count": null,
      "outputs": [
        {
          "output_type": "stream",
          "text": [
            "Saved pruned Keras model to: /tmp/tmpyym8ctwc.h5\n",
            "Size of gzipped baseline Keras model: 74336065.00 bytes\n",
            "Size of gzipped pruned Keras model: 2295545.00 bytes\n"
          ],
          "name": "stdout"
        }
      ]
    },
    {
      "cell_type": "code",
      "metadata": {
        "id": "78u3Kv1Wzjj7"
      },
      "source": [
        ""
      ],
      "execution_count": null,
      "outputs": []
    }
  ]
}