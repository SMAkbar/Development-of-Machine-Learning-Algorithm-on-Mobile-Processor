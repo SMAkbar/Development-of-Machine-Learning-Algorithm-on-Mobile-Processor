{
  "nbformat": 4,
  "nbformat_minor": 0,
  "metadata": {
    "colab": {
      "name": "Shallow_net and Deep_net.ipynb",
      "provenance": []
    },
    "kernelspec": {
      "name": "python3",
      "display_name": "Python 3"
    },
    "language_info": {
      "name": "python"
    }
  },
  "cells": [
    {
      "cell_type": "markdown",
      "metadata": {
        "id": "eusgZYeAEgno"
      },
      "source": [
        "# Shallow-Net"
      ]
    },
    {
      "cell_type": "code",
      "metadata": {
        "colab": {
          "base_uri": "https://localhost:8080/"
        },
        "id": "MlfIOUvXATl-",
        "outputId": "fb57607e-7e3d-48e5-a165-7b3c7efc8b1e"
      },
      "source": [
        "from pdb import set_trace\n",
        "#import mne\n",
        "import pandas as pd\n",
        "import numpy as np\n",
        "import math\n",
        "import os\n",
        "import h5py\n",
        "import tensorflow as tf\n",
        "import matplotlib.pyplot as plt\n",
        "from tensorflow.keras.models import Sequential\n",
        "from tensorflow.keras.layers import SimpleRNN,LSTM, Dense, Activation, Bidirectional\n",
        "from tensorflow.keras.utils import to_categorical\n",
        "from sklearn.metrics import confusion_matrix\n",
        "from sklearn.preprocessing import StandardScaler\n",
        "from tensorflow.keras.layers import Flatten\n",
        "from tensorflow.keras.layers import Dropout\n",
        "from tensorflow.keras.layers import Convolution2D\n",
        "from tensorflow.keras.layers import BatchNormalization\n",
        "from tensorflow.keras.layers import MaxPooling1D\n",
        "from tensorflow.keras.layers import MaxPooling2D\n",
        "from tensorflow.keras.layers import MaxPooling3D\n",
        "from tensorflow.keras.models import load_model\n",
        "from tensorflow.keras.callbacks import ModelCheckpoint\n",
        "from tensorflow.keras.callbacks import EarlyStopping\n",
        "\n",
        "\n",
        "# ----------------------SHALLOW-NET Testing-----------------------\n",
        "from tensorflow.keras.layers import Input,Dense,concatenate,Flatten,GRU,Conv1D,Conv2D\n",
        "from tensorflow.keras.models import Model\n",
        "\n",
        "inputsin= Input(shape=(15000,22, 1))\n",
        "\n",
        "\n",
        "# ------------------First Inception\n",
        "shallow_net = Conv2D(40, (25,1), strides=(1,1), activation='relu')(inputsin)\n",
        "shallow_net = Conv2D(40, (1,22), strides=1, activation='relu')(shallow_net)\n",
        "shallow_net = MaxPooling2D((75,1), strides=15)(shallow_net)\n",
        "shallow_net = Flatten()(shallow_net)\n",
        "predictions = Dense(2,activation='softmax')(shallow_net)\n",
        "\n",
        "\n",
        "shallow_model = Model(inputs=inputsin, outputs=predictions)\n",
        "\n",
        "\n",
        "# learning rate to 0.00001\n",
        "adam_optimizer = tf.keras.optimizers.Adam(learning_rate=0.00001)\n",
        "\n",
        "shallow_model.compile(optimizer = adam_optimizer, loss = 'categorical_crossentropy', metrics=['accuracy'])\n",
        "print(shallow_model.metrics_names)\n",
        "print(shallow_model.summary())\n",
        "\n",
        "# early stopping\n",
        "es = EarlyStopping(monitor='val_loss', min_delta=0.01, mode='min', verbose=1, patience=25)                          #patience\n",
        "mc = ModelCheckpoint('shallow_model3flipped_acc.hdf5', monitor='val_acc', mode='max', verbose=1, save_best_only=True)        #filepath (save model as)\n",
        "mces = ModelCheckpoint('shallow_model3flipped_loss.hdf5', monitor='val_loss', mode='min', verbose=1, save_best_only=True)      #filepath (save model as)\n",
        "\n",
        "# fit model\n",
        "# hist=shallow_model.fit(eval_data,eval_label,validation_split=0.2,epochs=10,batch_size=128,verbose=1,callbacks=[es, mc,mces],shuffle=True) #epochs #split #\n",
        "print('The End')"
      ],
      "execution_count": null,
      "outputs": [
        {
          "output_type": "stream",
          "text": [
            "[]\n",
            "Model: \"model_4\"\n",
            "_________________________________________________________________\n",
            "Layer (type)                 Output Shape              Param #   \n",
            "=================================================================\n",
            "input_19 (InputLayer)        [(None, 15000, 22, 1)]    0         \n",
            "_________________________________________________________________\n",
            "conv2d_28 (Conv2D)           (None, 14976, 22, 40)     1040      \n",
            "_________________________________________________________________\n",
            "conv2d_29 (Conv2D)           (None, 14976, 1, 40)      35240     \n",
            "_________________________________________________________________\n",
            "max_pooling2d_10 (MaxPooling (None, 994, 1, 40)        0         \n",
            "_________________________________________________________________\n",
            "flatten_6 (Flatten)          (None, 39760)             0         \n",
            "_________________________________________________________________\n",
            "dense_4 (Dense)              (None, 2)                 79522     \n",
            "=================================================================\n",
            "Total params: 115,802\n",
            "Trainable params: 115,802\n",
            "Non-trainable params: 0\n",
            "_________________________________________________________________\n",
            "None\n",
            "The End\n"
          ],
          "name": "stdout"
        }
      ]
    },
    {
      "cell_type": "markdown",
      "metadata": {
        "id": "MIGP0BmEE_2_"
      },
      "source": [
        "# Deep_net"
      ]
    },
    {
      "cell_type": "code",
      "metadata": {
        "colab": {
          "base_uri": "https://localhost:8080/"
        },
        "id": "KoRc7e98BDgC",
        "outputId": "abf60d7d-d9cc-4649-d28d-61c33a89936e"
      },
      "source": [
        "from pdb import set_trace\n",
        "#import mne\n",
        "import pandas as pd\n",
        "import numpy as np\n",
        "import math\n",
        "import os\n",
        "import h5py\n",
        "import tensorflow as tf\n",
        "import matplotlib.pyplot as plt\n",
        "from tensorflow.keras.models import Sequential\n",
        "from tensorflow.keras.layers import SimpleRNN,LSTM, Dense, Activation, Bidirectional, Reshape\n",
        "from tensorflow.keras.utils import to_categorical\n",
        "from sklearn.metrics import confusion_matrix\n",
        "from sklearn.preprocessing import StandardScaler\n",
        "from tensorflow.keras.layers import Flatten\n",
        "from tensorflow.keras.layers import Dropout\n",
        "from tensorflow.keras.layers import Convolution2D\n",
        "from tensorflow.keras.layers import BatchNormalization\n",
        "from tensorflow.keras.layers import MaxPooling1D\n",
        "from tensorflow.keras.layers import MaxPooling2D\n",
        "from tensorflow.keras.layers import MaxPooling3D\n",
        "from tensorflow.keras.models import load_model\n",
        "from tensorflow.keras.callbacks import ModelCheckpoint\n",
        "from tensorflow.keras.callbacks import EarlyStopping\n",
        "\n",
        "\n",
        "# ----------------------SHALLOW-NET Testing-----------------------\n",
        "from tensorflow.keras.layers import Input,Dense,concatenate,Flatten,GRU,Conv1D,Conv2D\n",
        "from tensorflow.keras.models import Model\n",
        "\n",
        "inputsin= Input(shape=(15000,22, 1))\n",
        "\n",
        "\n",
        "deep_net = Conv2D(25, (10,1), strides=(1,1), activation='relu')(inputsin)\n",
        "#print(deep_net)\n",
        "deep_net = Conv2D(25, (1,22), strides=1, activation='relu')(deep_net)\n",
        "#print(deep_net)\n",
        "deep_net = MaxPooling2D((3,1), strides=3)(deep_net)\n",
        "#print(deep_net)\n",
        "deep_net = Reshape((4997,25), input_shape=(4997, 1, 25))(deep_net)\n",
        "deep_net = Conv1D(25, 10, strides=1, activation='relu',padding=\"causal\")(deep_net)\n",
        "deep_net = MaxPooling1D(3, 3, padding=\"same\")(deep_net)\n",
        "\n",
        "deep_net = Conv1D(50, 10, activation='relu', padding='causal')(deep_net)\n",
        "deep_net = MaxPooling1D(3, 3, padding='same')(deep_net)\n",
        "\n",
        "deep_net = Conv1D(100, 10, activation='relu', padding='causal')(deep_net)\n",
        "deep_net = MaxPooling1D(3, 3, padding='same')(deep_net)\n",
        "\n",
        "deep_net = Conv1D(200, 10, activation='relu', padding='causal')(deep_net)\n",
        "deep_net = MaxPooling1D(3, 3, padding='same')(deep_net)\n",
        "\n",
        "deep_net = Flatten()(deep_net)\n",
        "predictions = Dense(2,activation='softmax')(deep_net)\n",
        "\n",
        "\n",
        "deep_model = Model(inputs=inputsin, outputs=predictions)\n",
        "\n",
        "\n",
        "# learning rate to 0.00001\n",
        "adam_optimizer = tf.keras.optimizers.Adam(learning_rate=0.00001)\n",
        "\n",
        "deep_model.compile(optimizer = adam_optimizer, loss = 'categorical_crossentropy', metrics=['accuracy'])\n",
        "print(deep_model.metrics_names)\n",
        "print(deep_model.summary())\n",
        "\n",
        "# early stopping\n",
        "es = EarlyStopping(monitor='val_loss', min_delta=0.01, mode='min', verbose=1, patience=25)                                # patience\n",
        "mc = ModelCheckpoint('deep_model3flipped_acc.hdf5', monitor='val_acc', mode='max', verbose=1, save_best_only=True)        # filepath (save model as)\n",
        "mces = ModelCheckpoint('deep_model3flipped_loss.hdf5', monitor='val_loss', mode='min', verbose=1, save_best_only=True)    # filepath (save model as)\n",
        "\n",
        "# fit model\n",
        "# hist=deep_model.fit(eval_data,eval_label,validation_split=0.1, epochs=20,batch_size=64,verbose=1,callbacks=[es, mc,mces],shuffle=False) #epochs #split #\n",
        "\n",
        "\n",
        "\n",
        "print('The End')"
      ],
      "execution_count": null,
      "outputs": [
        {
          "output_type": "stream",
          "text": [
            "[]\n",
            "Model: \"model_5\"\n",
            "_________________________________________________________________\n",
            "Layer (type)                 Output Shape              Param #   \n",
            "=================================================================\n",
            "input_22 (InputLayer)        [(None, 15000, 22, 1)]    0         \n",
            "_________________________________________________________________\n",
            "conv2d_34 (Conv2D)           (None, 14991, 22, 25)     275       \n",
            "_________________________________________________________________\n",
            "conv2d_35 (Conv2D)           (None, 14991, 1, 25)      13775     \n",
            "_________________________________________________________________\n",
            "max_pooling2d_13 (MaxPooling (None, 4997, 1, 25)       0         \n",
            "_________________________________________________________________\n",
            "reshape_2 (Reshape)          (None, 4997, 25)          0         \n",
            "_________________________________________________________________\n",
            "conv1d_6 (Conv1D)            (None, 4997, 25)          6275      \n",
            "_________________________________________________________________\n",
            "max_pooling1d_4 (MaxPooling1 (None, 1666, 25)          0         \n",
            "_________________________________________________________________\n",
            "conv1d_7 (Conv1D)            (None, 1666, 50)          12550     \n",
            "_________________________________________________________________\n",
            "max_pooling1d_5 (MaxPooling1 (None, 556, 50)           0         \n",
            "_________________________________________________________________\n",
            "conv1d_8 (Conv1D)            (None, 556, 100)          50100     \n",
            "_________________________________________________________________\n",
            "max_pooling1d_6 (MaxPooling1 (None, 186, 100)          0         \n",
            "_________________________________________________________________\n",
            "conv1d_9 (Conv1D)            (None, 186, 200)          200200    \n",
            "_________________________________________________________________\n",
            "max_pooling1d_7 (MaxPooling1 (None, 62, 200)           0         \n",
            "_________________________________________________________________\n",
            "flatten_7 (Flatten)          (None, 12400)             0         \n",
            "_________________________________________________________________\n",
            "dense_5 (Dense)              (None, 2)                 24802     \n",
            "=================================================================\n",
            "Total params: 307,977\n",
            "Trainable params: 307,977\n",
            "Non-trainable params: 0\n",
            "_________________________________________________________________\n",
            "None\n",
            "The End\n"
          ],
          "name": "stdout"
        }
      ]
    },
    {
      "cell_type": "code",
      "metadata": {
        "id": "7_JYK9jVGCHW"
      },
      "source": [
        ""
      ],
      "execution_count": null,
      "outputs": []
    }
  ]
}