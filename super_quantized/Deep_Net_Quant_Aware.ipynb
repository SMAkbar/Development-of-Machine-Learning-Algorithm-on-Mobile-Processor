{
  "nbformat": 4,
  "nbformat_minor": 0,
  "metadata": {
    "colab": {
      "name": "Deep_Net Quant-Aware.ipynb",
      "provenance": [],
      "collapsed_sections": []
    },
    "kernelspec": {
      "name": "python3",
      "display_name": "Python 3"
    },
    "language_info": {
      "name": "python"
    }
  },
  "cells": [
    {
      "cell_type": "code",
      "metadata": {
        "id": "XenVmynEGFax"
      },
      "source": [
        "import numpy as np\n",
        "\n",
        "eval_data_original = np.load(\"/content/drive/MyDrive/Colab Notebooks/eval_data_complete.npy\")\n",
        "eval_label_original = np.load(\"/content/drive/MyDrive/Colab Notebooks/eval_label_complete.npy\")"
      ],
      "execution_count": null,
      "outputs": []
    },
    {
      "cell_type": "code",
      "metadata": {
        "id": "RjboLpu6GeYo"
      },
      "source": [
        "eval_data = eval_data_original[10:-50]\n",
        "eval_label = eval_label_original[10:-50]\n",
        "\n",
        "test_data = np.concatenate((eval_data_original[:10], eval_data_original[-50:]))\n",
        "test_label = np.concatenate((eval_label_original[:10], eval_label_original[-50:]))\n",
        "\n",
        "eval_data_original = 0\n",
        "eval_label_original = 0"
      ],
      "execution_count": null,
      "outputs": []
    },
    {
      "cell_type": "code",
      "metadata": {
        "colab": {
          "base_uri": "https://localhost:8080/"
        },
        "id": "2X3GUKt8GpH1",
        "outputId": "7d9137ca-797e-4315-d08a-9f6e80a6f68b"
      },
      "source": [
        "eval_data = np.concatenate((eval_data[:337], eval_data[:337], eval_data[:337], eval_data[:337], eval_data))\n",
        "eval_label = np.concatenate((eval_label[:337], eval_label[:337], eval_label[:337], eval_label[:337], eval_label))\n",
        "print(eval_data.shape)\n",
        "print(eval_label.shape)"
      ],
      "execution_count": null,
      "outputs": [
        {
          "output_type": "stream",
          "text": [
            "(3483, 22, 15000)\n",
            "(3483,)\n"
          ],
          "name": "stdout"
        }
      ]
    },
    {
      "cell_type": "code",
      "metadata": {
        "id": "YAl6jfMbGvHW"
      },
      "source": [
        "idx = np.random.permutation(len(eval_data))\n",
        "eval_data,eval_label = eval_data[idx], eval_label[idx]\n",
        "idx = 0"
      ],
      "execution_count": null,
      "outputs": []
    },
    {
      "cell_type": "code",
      "metadata": {
        "id": "GfgK9Md4Gzfn"
      },
      "source": [
        "import torch\n",
        "\n",
        "train_X = torch.Tensor(eval_data)\n",
        "train_y = torch.Tensor(eval_label)\n",
        "\n",
        "test_X = torch.Tensor(test_data)\n",
        "test_y = torch.Tensor(test_label)\n",
        "\n",
        "eval_data = 0\n",
        "eval_label = 0\n",
        "test_data = 0\n",
        "test_label = 0"
      ],
      "execution_count": null,
      "outputs": []
    },
    {
      "cell_type": "markdown",
      "metadata": {
        "id": "luHrQG8bZ469"
      },
      "source": [
        "# 4-bit Deep_net"
      ]
    },
    {
      "cell_type": "code",
      "metadata": {
        "colab": {
          "base_uri": "https://localhost:8080/"
        },
        "id": "-Ez_zmMYZ34H",
        "outputId": "a79c7531-80bd-4764-c1c9-6a6645c3edea"
      },
      "source": [
        "#!pip install brevitas==0.4.0\n",
        "!pip install brevitas"
      ],
      "execution_count": null,
      "outputs": [
        {
          "output_type": "stream",
          "text": [
            "Collecting brevitas\n",
            "\u001b[?25l  Downloading https://files.pythonhosted.org/packages/ab/6a/88c05221268f910aa00e2750a6c7d050de162ddf7866196767ab866a3e61/brevitas-0.5.0-py3-none-any.whl (345kB)\n",
            "\r\u001b[K     |█                               | 10kB 11.9MB/s eta 0:00:01\r\u001b[K     |██                              | 20kB 7.5MB/s eta 0:00:01\r\u001b[K     |██▉                             | 30kB 4.4MB/s eta 0:00:01\r\u001b[K     |███▉                            | 40kB 4.3MB/s eta 0:00:01\r\u001b[K     |████▊                           | 51kB 2.9MB/s eta 0:00:01\r\u001b[K     |█████▊                          | 61kB 3.1MB/s eta 0:00:01\r\u001b[K     |██████▋                         | 71kB 3.4MB/s eta 0:00:01\r\u001b[K     |███████▋                        | 81kB 3.4MB/s eta 0:00:01\r\u001b[K     |████████▌                       | 92kB 3.5MB/s eta 0:00:01\r\u001b[K     |█████████▌                      | 102kB 3.5MB/s eta 0:00:01\r\u001b[K     |██████████▍                     | 112kB 3.5MB/s eta 0:00:01\r\u001b[K     |███████████▍                    | 122kB 3.5MB/s eta 0:00:01\r\u001b[K     |████████████▎                   | 133kB 3.5MB/s eta 0:00:01\r\u001b[K     |█████████████▎                  | 143kB 3.5MB/s eta 0:00:01\r\u001b[K     |██████████████▏                 | 153kB 3.5MB/s eta 0:00:01\r\u001b[K     |███████████████▏                | 163kB 3.5MB/s eta 0:00:01\r\u001b[K     |████████████████                | 174kB 3.5MB/s eta 0:00:01\r\u001b[K     |█████████████████               | 184kB 3.5MB/s eta 0:00:01\r\u001b[K     |██████████████████              | 194kB 3.5MB/s eta 0:00:01\r\u001b[K     |███████████████████             | 204kB 3.5MB/s eta 0:00:01\r\u001b[K     |████████████████████            | 215kB 3.5MB/s eta 0:00:01\r\u001b[K     |████████████████████▉           | 225kB 3.5MB/s eta 0:00:01\r\u001b[K     |█████████████████████▉          | 235kB 3.5MB/s eta 0:00:01\r\u001b[K     |██████████████████████▊         | 245kB 3.5MB/s eta 0:00:01\r\u001b[K     |███████████████████████▊        | 256kB 3.5MB/s eta 0:00:01\r\u001b[K     |████████████████████████▋       | 266kB 3.5MB/s eta 0:00:01\r\u001b[K     |█████████████████████████▋      | 276kB 3.5MB/s eta 0:00:01\r\u001b[K     |██████████████████████████▌     | 286kB 3.5MB/s eta 0:00:01\r\u001b[K     |███████████████████████████▌    | 296kB 3.5MB/s eta 0:00:01\r\u001b[K     |████████████████████████████▍   | 307kB 3.5MB/s eta 0:00:01\r\u001b[K     |█████████████████████████████▍  | 317kB 3.5MB/s eta 0:00:01\r\u001b[K     |██████████████████████████████▎ | 327kB 3.5MB/s eta 0:00:01\r\u001b[K     |███████████████████████████████▎| 337kB 3.5MB/s eta 0:00:01\r\u001b[K     |████████████████████████████████| 348kB 3.5MB/s \n",
            "\u001b[?25hRequirement already satisfied: typing-extensions>=3.7.4 in /usr/local/lib/python3.7/dist-packages (from brevitas) (3.7.4.3)\n",
            "Requirement already satisfied: packaging in /usr/local/lib/python3.7/dist-packages (from brevitas) (20.9)\n",
            "Collecting dependencies==2.0.1\n",
            "  Downloading https://files.pythonhosted.org/packages/a6/b7/d07e44c49429eba1c2eeffbde551a9ea3838c5ab34fafd544999fd4f925e/dependencies-2.0.1-py2.py3-none-any.whl\n",
            "Collecting future-annotations\n",
            "  Downloading https://files.pythonhosted.org/packages/2a/a6/95dd5f6dd2a785d69fa2fd2c7c217c13a6eb9c1f37eddc232eb11bfd8fa7/future_annotations-1.0.0-py2.py3-none-any.whl\n",
            "Requirement already satisfied: setuptools in /usr/local/lib/python3.7/dist-packages (from brevitas) (56.1.0)\n",
            "Requirement already satisfied: torch>=1.1.0 in /usr/local/lib/python3.7/dist-packages (from brevitas) (1.8.1+cu101)\n",
            "Requirement already satisfied: pyparsing>=2.0.2 in /usr/local/lib/python3.7/dist-packages (from packaging->brevitas) (2.4.7)\n",
            "Collecting tokenize-rt>=3\n",
            "  Downloading https://files.pythonhosted.org/packages/13/24/49368436ba6fad56f4b2677350ecc5e88127663e57f278c6fbb86ffe7135/tokenize_rt-4.1.0-py2.py3-none-any.whl\n",
            "Requirement already satisfied: numpy in /usr/local/lib/python3.7/dist-packages (from torch>=1.1.0->brevitas) (1.19.5)\n",
            "Installing collected packages: dependencies, tokenize-rt, future-annotations, brevitas\n",
            "Successfully installed brevitas-0.5.0 dependencies-2.0.1 future-annotations-1.0.0 tokenize-rt-4.1.0\n"
          ],
          "name": "stdout"
        }
      ]
    },
    {
      "cell_type": "code",
      "metadata": {
        "colab": {
          "base_uri": "https://localhost:8080/"
        },
        "id": "QEb6kOiGZ9p9",
        "outputId": "dbc095af-af39-4a39-ed71-699ebfe24d1e"
      },
      "source": [
        "from torch import nn\n",
        "import torch.nn.functional as F\n",
        "\n",
        "import brevitas.nn as qnn\n",
        "from brevitas.quant import Int8Bias as BiasQuant\n",
        "\n",
        "\n",
        "class Deep_Net(nn.Module):\n",
        "  def __init__(self):\n",
        "    super().__init__()\n",
        "\n",
        "    \n",
        "    self.quant_inp = qnn.QuantIdentity(bit_width=4, return_quant_tensor=True)\n",
        "    \n",
        "    \n",
        "    self.conv1 = qnn.QuantConv1d(22, 25, 3, weight_bit_width=4, bias_quant=BiasQuant, return_quant_tensor=True)\n",
        "    self.relu1 = qnn.QuantReLU(bit_width=4, return_quant_tensor=True)\n",
        "    self.conv2 = qnn.QuantConv1d(25, 50, 3, weight_bit_width=4, bias_quant=BiasQuant, return_quant_tensor=True)\n",
        "    self.relu2 = qnn.QuantReLU(bit_width=4, return_quant_tensor=True)\n",
        "    self.conv3 = qnn.QuantConv1d(50, 100, 3, weight_bit_width=4, bias_quant=BiasQuant, return_quant_tensor=True)\n",
        "    self.relu3 = qnn.QuantReLU(bit_width=4, return_quant_tensor=True)\n",
        "    self.conv4 = qnn.QuantConv1d(100, 200, 3, weight_bit_width=4, bias_quant=BiasQuant, return_quant_tensor=True)\n",
        "    self.relu4 = qnn.QuantReLU(bit_width=4, return_quant_tensor=True)\n",
        "\n",
        "    x = torch.randn(22, 15000).view(-1, 22, 15000)\n",
        "    self._to_linear = None\n",
        "    self.convs(x)\n",
        "\n",
        "    self.fc1 = qnn.QuantLinear(self._to_linear, 2, bias=False, weight_bit_width=4)\n",
        "\n",
        "  def convs(self, x):\n",
        "    #x = x.contiguous()\n",
        "    x = self.quant_inp(x)\n",
        "    x = F.max_pool1d(self.relu1(self.conv1(x)), 2)\n",
        "    x = F.max_pool1d(self.relu2(self.conv2(x)), 2)\n",
        "    x = F.max_pool1d(self.relu3(self.conv3(x)), 2)\n",
        "    x = F.max_pool1d(self.relu4(self.conv4(x)), 2)\n",
        "\n",
        "    if self._to_linear == None:\n",
        "      self._to_linear = x[0].shape[0]*x[0].shape[1]\n",
        "    return x\n",
        "\n",
        "  def forward(self, x):\n",
        "    x = self.convs(x)\n",
        "    x = x.view(-1, self._to_linear)\n",
        "    x = self.fc1(x)\n",
        "\n",
        "    return F.softmax(x, dim=1)\n",
        "\n",
        "\n",
        "deep_net = Deep_Net()\n",
        "#print(deep_net)\n",
        "\n"
      ],
      "execution_count": null,
      "outputs": [
        {
          "output_type": "stream",
          "text": [
            "No CUDA runtime is found, using CUDA_HOME='/usr/local/cuda'\n"
          ],
          "name": "stdout"
        }
      ]
    },
    {
      "cell_type": "code",
      "metadata": {
        "id": "lm7euJQr2h8D"
      },
      "source": [
        "from torch import nn\n",
        "import torch.nn.functional as F\n",
        "\n",
        "import brevitas.nn as qnn\n",
        "from brevitas.quant import Int8Bias as BiasQuant\n",
        "\n",
        "\n",
        "class Deep_Net(nn.Module):\n",
        "  def __init__(self):\n",
        "    super().__init__()\n",
        "\n",
        "    \n",
        "    self.quant_inp = qnn.QuantIdentity(bit_width=4, return_quant_tensor=True)\n",
        "    \n",
        "    \n",
        "    self.conv1 = qnn.QuantConv1d(22, 25, 3, weight_bit_width=4)\n",
        "    #self.relu1 = qnn.QuantReLU(bit_width=4, return_quant_tensor=True)\n",
        "    self.conv2 = qnn.QuantConv1d(25, 50, 3, weight_bit_width=4)\n",
        "    #self.relu2 = qnn.QuantReLU(bit_width=4, return_quant_tensor=True)\n",
        "    self.conv3 = qnn.QuantConv1d(50, 100, 3, weight_bit_width=4)\n",
        "    #self.relu3 = qnn.QuantReLU(bit_width=4, return_quant_tensor=True)\n",
        "    self.conv4 = qnn.QuantConv1d(100, 200, 3, weight_bit_width=4)\n",
        "    #self.relu4 = qnn.QuantReLU(bit_width=4, return_quant_tensor=True)\n",
        "\n",
        "    x = torch.randn(22, 15000).view(-1, 22, 15000)\n",
        "    self._to_linear = None\n",
        "    self.convs(x)\n",
        "\n",
        "    self.fc1 = qnn.QuantLinear(self._to_linear, 2, bias=False, weight_bit_width=4)\n",
        "\n",
        "  def convs(self, x):\n",
        "    #x = x.contiguous()\n",
        "    #x = self.quant_inp(x)\n",
        "    x = F.max_pool1d(F.relu(self.conv1(x)), 2)\n",
        "    x = F.max_pool1d(F.relu(self.conv2(x)), 2)\n",
        "    x = F.max_pool1d(F.relu(self.conv3(x)), 2)\n",
        "    x = F.max_pool1d(F.relu(self.conv4(x)), 2)\n",
        "\n",
        "    if self._to_linear == None:\n",
        "      self._to_linear = x[0].shape[0]*x[0].shape[1]\n",
        "    return x\n",
        "\n",
        "  def forward(self, x):\n",
        "    x = self.convs(x)\n",
        "    x = x.view(-1, self._to_linear)\n",
        "    x = self.fc1(x)\n",
        "\n",
        "    return F.softmax(x, dim=1)\n",
        "\n",
        "\n",
        "deep_net = Deep_Net()\n",
        "#print(deep_net)\n",
        "\n"
      ],
      "execution_count": null,
      "outputs": []
    },
    {
      "cell_type": "code",
      "metadata": {
        "colab": {
          "base_uri": "https://localhost:8080/"
        },
        "id": "6iXQxfqN3bSr",
        "outputId": "0d0c4707-a53f-4775-a600-844289ef1376"
      },
      "source": [
        "import torch.optim as optim\n",
        "from tqdm import tqdm\n",
        "\n",
        "\n",
        "optimizer = optim.Adam(deep_net.parameters(), lr=0.00005)\n",
        "loss_function = nn.CrossEntropyLoss()\n",
        "#loss_function = CategoricalCrossEntropyLoss()\n",
        "#loss_function = nn.sparse_categorical_crossentropy()\n",
        "\n",
        "def fwd_pass(X, y, train=False):\n",
        "  if train:\n",
        "    deep_net.zero_grad()\n",
        "  outputs = deep_net(X)\n",
        "  #outputs = torch.Tensor(outputs).long()\n",
        "  #print(outputs, y)\n",
        "  matches = [torch.argmax(i) == j for i,j in zip(outputs, y)]\n",
        "  acc = matches.count(True)/len(matches)\n",
        "  loss = loss_function(outputs, y.long())\n",
        "\n",
        "  if train:\n",
        "    loss.backward()\n",
        "    optimizer.step()\n",
        "  return acc, loss\n",
        "\n",
        "import numpy as np\n",
        "\n",
        "def test(size=32):  \n",
        "  #random_start = np.random.randint(len(test_X) - size)\n",
        "  #X, y = test_X[random_start:random_start+size], test_y[random_start:random_start+size]\n",
        "  X, y = test_X, test_y\n",
        "  with torch.no_grad():\n",
        "    val_acc, val_loss = fwd_pass(X.view(-1, 22, 15000), y)\n",
        "  return val_acc, val_loss\n",
        "\n",
        "val_acc, val_loss = test(size=32)\n",
        "print(val_acc, val_loss)\n",
        "\n",
        "\n",
        "import time\n",
        "\n",
        "MODEL_NAME = f\"model-{int(time.time())}\"\n",
        "\n",
        "\n",
        "print(MODEL_NAME)\n",
        "\n",
        "def train():\n",
        "  BATCH_SIZE = 132\n",
        "  EPOCHS = 10\n",
        "\n",
        "  with open(\"model.log\", \"a\") as f:\n",
        "    for epoch in range(EPOCHS):\n",
        "      for i in tqdm(range(0, len(train_X), BATCH_SIZE)):\n",
        "        batch_X = train_X[i:i+BATCH_SIZE].view(-1, 22, 15000)\n",
        "        batch_y = train_y[i:i+BATCH_SIZE]\n",
        "\n",
        "        acc, loss = fwd_pass(batch_X, batch_y, train=True)\n",
        "        \n",
        "        # every 50 steps \n",
        "        if i % 50 == 0:\n",
        "          val_acc, val_loss = test(size=132)\n",
        "          f.write(f\"{MODEL_NAME},{round(time.time(),3)},{round(float(acc), 2)}, {round(float(loss), 4)},{round(float(val_acc), 2)}, {round(float(val_loss), 4)}\\n\")\n",
        "\n",
        "train()"
      ],
      "execution_count": null,
      "outputs": [
        {
          "output_type": "stream",
          "text": [
            "\r  0%|          | 0/27 [00:00<?, ?it/s]"
          ],
          "name": "stderr"
        },
        {
          "output_type": "stream",
          "text": [
            "0.6333333333333333 tensor(0.6927)\n",
            "model-1620559400\n"
          ],
          "name": "stdout"
        },
        {
          "output_type": "stream",
          "text": [
            "100%|██████████| 27/27 [03:28<00:00,  7.72s/it]\n",
            "100%|██████████| 27/27 [03:26<00:00,  7.65s/it]\n",
            "100%|██████████| 27/27 [03:27<00:00,  7.69s/it]\n",
            "100%|██████████| 27/27 [03:27<00:00,  7.69s/it]\n",
            "100%|██████████| 27/27 [03:28<00:00,  7.71s/it]\n",
            "100%|██████████| 27/27 [03:29<00:00,  7.75s/it]\n",
            "100%|██████████| 27/27 [03:30<00:00,  7.80s/it]\n",
            "100%|██████████| 27/27 [03:28<00:00,  7.74s/it]\n",
            "100%|██████████| 27/27 [03:29<00:00,  7.74s/it]\n",
            "100%|██████████| 27/27 [03:31<00:00,  7.82s/it]\n"
          ],
          "name": "stderr"
        }
      ]
    },
    {
      "cell_type": "code",
      "metadata": {
        "colab": {
          "base_uri": "https://localhost:8080/",
          "height": 278
        },
        "id": "RmWkYCXki0X1",
        "outputId": "3c310e38-8966-473e-9d18-1145be2578be"
      },
      "source": [
        "import matplotlib.pyplot as plt\n",
        "from matplotlib import style\n",
        "\n",
        "style.use(\"ggplot\")\n",
        "\n",
        "def create_acc_loss_graph(model_name):\n",
        "  contents = open(\"model.log\", \"r\").read().split('\\n')\n",
        "\n",
        "  times = []\n",
        "  accs = []\n",
        "  losses = []\n",
        "\n",
        "  val_accs = []\n",
        "  val_losses = []\n",
        "\n",
        "  for c in contents:\n",
        "    if model_name in c:      \n",
        "      name, timestamp, acc, loss, val_acc, val_loss = c.split(\",\")\n",
        "      times.append(float(timestamp))\n",
        "      accs.append(float(acc))\n",
        "      losses.append(float(loss))\n",
        "      val_accs.append(float(val_acc))\n",
        "      val_losses.append(float(val_loss))\n",
        "\n",
        "\n",
        "  fig = plt.figure()\n",
        "\n",
        "  ax1 = plt.subplot2grid((2,1),(0,0))\n",
        "  ax2 = plt.subplot2grid((2,1),(1,0), sharex=ax1)\n",
        "\n",
        "  ax1.plot(times, accs, label=\"acc\")\n",
        "  ax1.plot(times, val_accs, label=\"val_acc\")\n",
        "  ax1.legend(loc=2)\n",
        "\n",
        "  ax2.plot(times, losses, label=\"loss\")\n",
        "  ax2.plot(times, val_losses, label=\"val_loss\")\n",
        "  ax2.legend(loc=2)\n",
        "\n",
        "  plt.show()\n",
        "\n",
        "create_acc_loss_graph(\"model-1620559400\")\n",
        "      \n",
        "      \n"
      ],
      "execution_count": null,
      "outputs": [
        {
          "output_type": "display_data",
          "data": {
            "image/png": "[encoded data removed]",
            "text/plain": [
              "<Figure size 432x288 with 2 Axes>"
            ]
          },
          "metadata": {
            "tags": []
          }
        }
      ]
    },
    {
      "cell_type": "markdown",
      "metadata": {
        "id": "BMCtlpA2ABSY"
      },
      "source": [
        "# 2-bit"
      ]
    },
    {
      "cell_type": "code",
      "metadata": {
        "id": "f-u6fM1YjLio"
      },
      "source": [
        "from torch import nn\n",
        "import torch.nn.functional as F\n",
        "\n",
        "import brevitas.nn as qnn\n",
        "from brevitas.quant import Int8Bias as BiasQuant\n",
        "\n",
        "\n",
        "class Deep_Net(nn.Module):\n",
        "  def __init__(self):\n",
        "    super().__init__()\n",
        "\n",
        "    \n",
        "    self.quant_inp = qnn.QuantIdentity(bit_width=2, return_quant_tensor=True)\n",
        "    \n",
        "    \n",
        "    self.conv1 = qnn.QuantConv1d(22, 25, 3, weight_bit_width=2)\n",
        "    #self.relu1 = qnn.QuantReLU(bit_width=4, return_quant_tensor=True)\n",
        "    self.conv2 = qnn.QuantConv1d(25, 50, 3, weight_bit_width=2)\n",
        "    #self.relu2 = qnn.QuantReLU(bit_width=4, return_quant_tensor=True)\n",
        "    self.conv3 = qnn.QuantConv1d(50, 100, 3, weight_bit_width=2)\n",
        "    #self.relu3 = qnn.QuantReLU(bit_width=4, return_quant_tensor=True)\n",
        "    self.conv4 = qnn.QuantConv1d(100, 200, 3, weight_bit_width=2)\n",
        "    #self.relu4 = qnn.QuantReLU(bit_width=4, return_quant_tensor=True)\n",
        "\n",
        "    x = torch.randn(22, 15000).view(-1, 22, 15000)\n",
        "    self._to_linear = None\n",
        "    self.convs(x)\n",
        "\n",
        "    self.fc1 = qnn.QuantLinear(self._to_linear, 2, bias=False, weight_bit_width=2)\n",
        "\n",
        "  def convs(self, x):\n",
        "    #x = x.contiguous()\n",
        "    #x = self.quant_inp(x)\n",
        "    x = F.max_pool1d(F.relu(self.conv1(x)), 2)\n",
        "    x = F.max_pool1d(F.relu(self.conv2(x)), 2)\n",
        "    x = F.max_pool1d(F.relu(self.conv3(x)), 2)\n",
        "    x = F.max_pool1d(F.relu(self.conv4(x)), 2)\n",
        "\n",
        "    if self._to_linear == None:\n",
        "      self._to_linear = x[0].shape[0]*x[0].shape[1]\n",
        "    return x\n",
        "\n",
        "  def forward(self, x):\n",
        "    x = self.convs(x)\n",
        "    x = x.view(-1, self._to_linear)\n",
        "    x = self.fc1(x)\n",
        "\n",
        "    return F.softmax(x, dim=1)\n",
        "\n",
        "\n",
        "deep_net = Deep_Net()\n",
        "#print(deep_net)\n",
        "\n"
      ],
      "execution_count": null,
      "outputs": []
    },
    {
      "cell_type": "code",
      "metadata": {
        "id": "5mX3AqN_klEH",
        "colab": {
          "base_uri": "https://localhost:8080/"
        },
        "outputId": "95b30cd9-2f32-41d7-e848-a149deefddc3"
      },
      "source": [
        "import torch.optim as optim\n",
        "from tqdm import tqdm\n",
        "\n",
        "\n",
        "optimizer = optim.Adam(deep_net.parameters(), lr=0.00005)\n",
        "loss_function = nn.CrossEntropyLoss()\n",
        "#loss_function = CategoricalCrossEntropyLoss()\n",
        "#loss_function = nn.sparse_categorical_crossentropy()\n",
        "\n",
        "def fwd_pass(X, y, train=False):\n",
        "  if train:\n",
        "    deep_net.zero_grad()\n",
        "  outputs = deep_net(X)\n",
        "  #outputs = torch.Tensor(outputs).long()\n",
        "  #print(outputs, y)\n",
        "  matches = [torch.argmax(i) == j for i,j in zip(outputs, y)]\n",
        "  acc = matches.count(True)/len(matches)\n",
        "  loss = loss_function(outputs, y.long())\n",
        "\n",
        "  if train:\n",
        "    loss.backward()\n",
        "    optimizer.step()\n",
        "  return acc, loss\n",
        "\n",
        "import numpy as np\n",
        "\n",
        "def test(size=32):  \n",
        "  #random_start = np.random.randint(len(test_X) - size)\n",
        "  #X, y = test_X[random_start:random_start+size], test_y[random_start:random_start+size]\n",
        "  X, y = test_X, test_y\n",
        "  with torch.no_grad():\n",
        "    val_acc, val_loss = fwd_pass(X.view(-1, 22, 15000), y)\n",
        "  return val_acc, val_loss\n",
        "\n",
        "val_acc, val_loss = test(size=32)\n",
        "print(val_acc, val_loss)\n",
        "\n",
        "\n",
        "import time\n",
        "\n",
        "MODEL_NAME = f\"model-{int(time.time())}\"\n",
        "\n",
        "\n",
        "print(MODEL_NAME)\n",
        "\n",
        "def train():\n",
        "  BATCH_SIZE = 132\n",
        "  EPOCHS = 10\n",
        "\n",
        "  with open(\"model.log\", \"a\") as f:\n",
        "    for epoch in range(EPOCHS):\n",
        "      for i in tqdm(range(0, len(train_X), BATCH_SIZE)):\n",
        "        batch_X = train_X[i:i+BATCH_SIZE].view(-1, 22, 15000)\n",
        "        batch_y = train_y[i:i+BATCH_SIZE]\n",
        "\n",
        "        acc, loss = fwd_pass(batch_X, batch_y, train=True)\n",
        "        \n",
        "        # every 50 steps \n",
        "        if i % 50 == 0:\n",
        "          val_acc, val_loss = test(size=132)\n",
        "          f.write(f\"{MODEL_NAME},{round(time.time(),3)},{round(float(acc), 2)}, {round(float(loss), 4)},{round(float(val_acc), 2)}, {round(float(val_loss), 4)}\\n\")\n",
        "\n",
        "train()"
      ],
      "execution_count": null,
      "outputs": [
        {
          "output_type": "stream",
          "text": [
            "\r  0%|          | 0/27 [00:00<?, ?it/s]"
          ],
          "name": "stderr"
        },
        {
          "output_type": "stream",
          "text": [
            "0.2 tensor(0.7006)\n",
            "model-1620561717\n"
          ],
          "name": "stdout"
        },
        {
          "output_type": "stream",
          "text": [
            "100%|██████████| 27/27 [03:28<00:00,  7.71s/it]\n",
            "100%|██████████| 27/27 [03:29<00:00,  7.76s/it]\n",
            "100%|██████████| 27/27 [03:27<00:00,  7.69s/it]\n",
            "100%|██████████| 27/27 [03:28<00:00,  7.71s/it]\n",
            "100%|██████████| 27/27 [03:28<00:00,  7.73s/it]\n",
            "100%|██████████| 27/27 [03:28<00:00,  7.73s/it]\n",
            "100%|██████████| 27/27 [03:28<00:00,  7.71s/it]\n",
            "100%|██████████| 27/27 [03:28<00:00,  7.72s/it]\n",
            "100%|██████████| 27/27 [03:28<00:00,  7.73s/it]\n",
            "100%|██████████| 27/27 [03:28<00:00,  7.74s/it]\n"
          ],
          "name": "stderr"
        }
      ]
    },
    {
      "cell_type": "code",
      "metadata": {
        "colab": {
          "base_uri": "https://localhost:8080/",
          "height": 278
        },
        "id": "pzguikskATDx",
        "outputId": "54b0d251-118e-43c0-9cae-987bfc1ca17c"
      },
      "source": [
        "import matplotlib.pyplot as plt\n",
        "from matplotlib import style\n",
        "\n",
        "style.use(\"ggplot\")\n",
        "\n",
        "def create_acc_loss_graph(model_name):\n",
        "  contents = open(\"model.log\", \"r\").read().split('\\n')\n",
        "\n",
        "  times = []\n",
        "  accs = []\n",
        "  losses = []\n",
        "\n",
        "  val_accs = []\n",
        "  val_losses = []\n",
        "\n",
        "  for c in contents:\n",
        "    if model_name in c:      \n",
        "      name, timestamp, acc, loss, val_acc, val_loss = c.split(\",\")\n",
        "      times.append(float(timestamp))\n",
        "      accs.append(float(acc))\n",
        "      losses.append(float(loss))\n",
        "      val_accs.append(float(val_acc))\n",
        "      val_losses.append(float(val_loss))\n",
        "\n",
        "\n",
        "  fig = plt.figure()\n",
        "\n",
        "  ax1 = plt.subplot2grid((2,1),(0,0))\n",
        "  ax2 = plt.subplot2grid((2,1),(1,0), sharex=ax1)\n",
        "\n",
        "  ax1.plot(times, accs, label=\"acc\")\n",
        "  ax1.plot(times, val_accs, label=\"val_acc\")\n",
        "  ax1.legend(loc=2)\n",
        "\n",
        "  ax2.plot(times, losses, label=\"loss\")\n",
        "  ax2.plot(times, val_losses, label=\"val_loss\")\n",
        "  ax2.legend(loc=2)\n",
        "\n",
        "  plt.show()\n",
        "\n",
        "create_acc_loss_graph(MODEL_NAME)\n",
        "      \n",
        "      \n"
      ],
      "execution_count": null,
      "outputs": [
        {
          "output_type": "display_data",
          "data": {
            "image/png": "[encoded data removed]",
            "text/plain": [
              "<Figure size 432x288 with 2 Axes>"
            ]
          },
          "metadata": {
            "tags": []
          }
        }
      ]
    },
    {
      "cell_type": "markdown",
      "metadata": {
        "id": "wazEhyQFTsWy"
      },
      "source": [
        "# 1-bit "
      ]
    },
    {
      "cell_type": "code",
      "metadata": {
        "id": "5Wz7N6uMTgpJ"
      },
      "source": [
        "from torch import nn\n",
        "import torch.nn.functional as F\n",
        "\n",
        "import brevitas.nn as qnn\n",
        "from brevitas.quant import Int8Bias as BiasQuant\n",
        "\n",
        "\n",
        "class Deep_Net(nn.Module):\n",
        "  def __init__(self):\n",
        "    super().__init__()\n",
        "\n",
        "    \n",
        "    self.quant_inp = qnn.QuantIdentity(bit_width=2, return_quant_tensor=True)\n",
        "    \n",
        "    \n",
        "    self.conv1 = qnn.QuantConv1d(22, 25, 3, weight_bit_width=1)\n",
        "    #self.relu1 = qnn.QuantReLU(bit_width=4, return_quant_tensor=True)\n",
        "    self.conv2 = qnn.QuantConv1d(25, 50, 3, weight_bit_width=1)\n",
        "    #self.relu2 = qnn.QuantReLU(bit_width=4, return_quant_tensor=True)\n",
        "    self.conv3 = qnn.QuantConv1d(50, 100, 3, weight_bit_width=1)\n",
        "    #self.relu3 = qnn.QuantReLU(bit_width=4, return_quant_tensor=True)\n",
        "    self.conv4 = qnn.QuantConv1d(100, 200, 3, weight_bit_width=1)\n",
        "    #self.relu4 = qnn.QuantReLU(bit_width=4, return_quant_tensor=True)\n",
        "\n",
        "    x = torch.randn(22, 15000).view(-1, 22, 15000)\n",
        "    self._to_linear = None\n",
        "    self.convs(x)\n",
        "\n",
        "    self.fc1 = qnn.QuantLinear(self._to_linear, 2, bias=False, weight_bit_width=1)\n",
        "\n",
        "  def convs(self, x):\n",
        "    #x = x.contiguous()\n",
        "    #x = self.quant_inp(x)\n",
        "    x = F.max_pool1d(F.relu(self.conv1(x)), 2)\n",
        "    x = F.max_pool1d(F.relu(self.conv2(x)), 2)\n",
        "    x = F.max_pool1d(F.relu(self.conv3(x)), 2)\n",
        "    x = F.max_pool1d(F.relu(self.conv4(x)), 2)\n",
        "\n",
        "    if self._to_linear == None:\n",
        "      self._to_linear = x[0].shape[0]*x[0].shape[1]\n",
        "    return x\n",
        "\n",
        "  def forward(self, x):\n",
        "    x = self.convs(x)\n",
        "    x = x.view(-1, self._to_linear)\n",
        "    x = self.fc1(x)\n",
        "\n",
        "    return F.softmax(x, dim=1)\n",
        "\n",
        "\n",
        "deep_net = Deep_Net()\n",
        "#print(deep_net)\n",
        "\n"
      ],
      "execution_count": null,
      "outputs": []
    },
    {
      "cell_type": "code",
      "metadata": {
        "colab": {
          "base_uri": "https://localhost:8080/"
        },
        "id": "YV4tuu_gTySv",
        "outputId": "19d28468-5a8a-467f-9f36-7562757fa478"
      },
      "source": [
        "import torch.optim as optim\n",
        "from tqdm import tqdm\n",
        "\n",
        "\n",
        "optimizer = optim.Adam(deep_net.parameters(), lr=0.00005)\n",
        "loss_function = nn.CrossEntropyLoss()\n",
        "#loss_function = CategoricalCrossEntropyLoss()\n",
        "#loss_function = nn.sparse_categorical_crossentropy()\n",
        "\n",
        "def fwd_pass(X, y, train=False):\n",
        "  if train:\n",
        "    deep_net.zero_grad()\n",
        "  outputs = deep_net(X)\n",
        "  #outputs = torch.Tensor(outputs).long()\n",
        "  #print(outputs, y)\n",
        "  matches = [torch.argmax(i) == j for i,j in zip(outputs, y)]\n",
        "  acc = matches.count(True)/len(matches)\n",
        "  loss = loss_function(outputs, y.long())\n",
        "\n",
        "  if train:\n",
        "    loss.backward()\n",
        "    optimizer.step()\n",
        "  return acc, loss\n",
        "\n",
        "import numpy as np\n",
        "\n",
        "def test(size=32):  \n",
        "  #random_start = np.random.randint(len(test_X) - size)\n",
        "  #X, y = test_X[random_start:random_start+size], test_y[random_start:random_start+size]\n",
        "  X, y = test_X, test_y\n",
        "  with torch.no_grad():\n",
        "    val_acc, val_loss = fwd_pass(X.view(-1, 22, 15000), y)\n",
        "  return val_acc, val_loss\n",
        "\n",
        "val_acc, val_loss = test(size=32)\n",
        "print(val_acc, val_loss)\n",
        "\n",
        "\n",
        "import time\n",
        "\n",
        "MODEL_NAME = f\"model-{int(time.time())}\"\n",
        "\n",
        "\n",
        "print(MODEL_NAME)\n",
        "\n",
        "def train():\n",
        "  BATCH_SIZE = 132\n",
        "  EPOCHS = 10\n",
        "\n",
        "  with open(\"model.log\", \"a\") as f:\n",
        "    for epoch in range(EPOCHS):\n",
        "      for i in tqdm(range(0, len(train_X), BATCH_SIZE)):\n",
        "        batch_X = train_X[i:i+BATCH_SIZE].view(-1, 22, 15000)\n",
        "        batch_y = train_y[i:i+BATCH_SIZE]\n",
        "\n",
        "        acc, loss = fwd_pass(batch_X, batch_y, train=True)\n",
        "        \n",
        "        # every 50 steps \n",
        "        if i % 50 == 0:\n",
        "          val_acc, val_loss = test(size=132)\n",
        "          f.write(f\"{MODEL_NAME},{round(time.time(),3)},{round(float(acc), 2)}, {round(float(loss), 4)},{round(float(val_acc), 2)}, {round(float(val_loss), 4)}\\n\")\n",
        "\n",
        "train()"
      ],
      "execution_count": null,
      "outputs": [
        {
          "output_type": "stream",
          "text": [
            "\r  0%|          | 0/27 [00:00<?, ?it/s]"
          ],
          "name": "stderr"
        },
        {
          "output_type": "stream",
          "text": [
            "0.8333333333333334 tensor(nan)\n",
            "model-1620566822\n"
          ],
          "name": "stdout"
        },
        {
          "output_type": "stream",
          "text": [
            "100%|██████████| 27/27 [03:20<00:00,  7.44s/it]\n",
            "100%|██████████| 27/27 [03:19<00:00,  7.40s/it]\n",
            "100%|██████████| 27/27 [03:21<00:00,  7.46s/it]\n",
            "100%|██████████| 27/27 [03:19<00:00,  7.39s/it]\n",
            "100%|██████████| 27/27 [03:21<00:00,  7.45s/it]\n",
            "100%|██████████| 27/27 [03:19<00:00,  7.39s/it]\n",
            "100%|██████████| 27/27 [03:18<00:00,  7.36s/it]\n",
            "100%|██████████| 27/27 [03:20<00:00,  7.44s/it]\n",
            "100%|██████████| 27/27 [03:18<00:00,  7.36s/it]\n",
            "100%|██████████| 27/27 [03:18<00:00,  7.35s/it]\n"
          ],
          "name": "stderr"
        }
      ]
    },
    {
      "cell_type": "code",
      "metadata": {
        "colab": {
          "base_uri": "https://localhost:8080/"
        },
        "id": "1hJ3sIGbT0jR",
        "outputId": "5bd30238-2209-4eb5-c2b1-9d9c09ccf2fd"
      },
      "source": [
        "import matplotlib.pyplot as plt\n",
        "from matplotlib import style\n",
        "\n",
        "style.use(\"ggplot\")\n",
        "\n",
        "def create_acc_loss_graph(model_name):\n",
        "  contents = open(\"model.log\", \"r\").read().split('\\n')\n",
        "\n",
        "  times = []\n",
        "  accs = []\n",
        "  losses = []\n",
        "\n",
        "  val_accs = []\n",
        "  val_losses = []\n",
        "\n",
        "  for c in contents:\n",
        "    if model_name in c:      \n",
        "      name, timestamp, acc, loss, val_acc, val_loss = c.split(\",\")\n",
        "      times.append(float(timestamp))\n",
        "      accs.append(float(acc))\n",
        "      losses.append(float(loss))\n",
        "      val_accs.append(float(val_acc))\n",
        "      val_losses.append(float(val_loss))\n",
        "\n",
        "\n",
        "  fig = plt.figure()\n",
        "\n",
        "  ax1 = plt.subplot2grid((2,1),(0,0))\n",
        "  ax2 = plt.subplot2grid((2,1),(1,0), sharex=ax1)\n",
        "\n",
        "  ax1.plot(times, accs, label=\"acc\")\n",
        "  ax1.plot(times, val_accs, label=\"val_acc\")\n",
        "  ax1.legend(loc=2)\n",
        "\n",
        "  ax2.plot(times, losses, label=\"loss\")\n",
        "  ax2.plot(times, val_losses, label=\"val_loss\")\n",
        "  ax2.legend(loc=2)\n",
        "\n",
        "  plt.show()\n",
        "\n",
        "create_acc_loss_graph(MODEL_NAME)\n",
        "      \n",
        "      \n"
      ],
      "execution_count": null,
      "outputs": [
        {
          "output_type": "display_data",
          "data": {
            "image/png": "[encoded data removed]",
            "text/plain": [
              "<Figure size 432x288 with 2 Axes>"
            ]
          },
          "metadata": {
            "tags": []
          }
        }
      ]
    },
    {
      "cell_type": "code",
      "metadata": {
        "id": "u-A6Tzo4T2Pe"
      },
      "source": [
        ""
      ],
      "execution_count": null,
      "outputs": []
    }
  ]
}