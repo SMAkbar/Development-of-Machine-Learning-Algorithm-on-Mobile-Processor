{
  "nbformat": 4,
  "nbformat_minor": 0,
  "metadata": {
    "colab": {
      "name": "session_2.ipynb",
      "provenance": [],
      "collapsed_sections": [],
      "toc_visible": true
    },
    "kernelspec": {
      "name": "python3",
      "display_name": "Python 3"
    }
  },
  "cells": [
    {
      "cell_type": "code",
      "metadata": {
        "id": "sM7EUMnlF258"
      },
      "source": [
        "import numpy as np\n",
        "\n",
        "eval_data_original = np.load(\"/content/drive/MyDrive/Colab Notebooks/eval_data_complete.npy\")\n",
        "eval_label_original = np.load(\"/content/drive/MyDrive/Colab Notebooks/eval_label_complete.npy\")"
      ],
      "execution_count": null,
      "outputs": []
    },
    {
      "cell_type": "code",
      "metadata": {
        "id": "sZp_XBY70Kac"
      },
      "source": [
        "eval_data = eval_data_original[10:-50]\n",
        "eval_label = eval_label_original[10:-50]\n",
        "\n",
        "test_data = np.concatenate((eval_data_original[:10], eval_data_original[-50:]))\n",
        "test_label = np.concatenate((eval_label_original[:10], eval_label_original[-50:]))\n",
        "\n",
        "eval_data_original = 0\n",
        "eval_label_original = 0"
      ],
      "execution_count": null,
      "outputs": []
    },
    {
      "cell_type": "code",
      "metadata": {
        "colab": {
          "base_uri": "https://localhost:8080/"
        },
        "id": "aEc_T2xp0Ula",
        "outputId": "b1671ec7-137e-4b50-c311-e43397f09d18"
      },
      "source": [
        "print(np.count_nonzero(eval_label == 1))\n",
        "print(np.count_nonzero(eval_label_original == 1))\n",
        "print(np.count_nonzero(eval_label == 0))\n",
        "print(np.count_nonzero(eval_label_original == 0))"
      ],
      "execution_count": null,
      "outputs": [
        {
          "output_type": "stream",
          "text": [
            "337\n",
            "0\n",
            "1798\n",
            "1\n"
          ],
          "name": "stdout"
        }
      ]
    },
    {
      "cell_type": "code",
      "metadata": {
        "id": "bsJSeO9U10xF"
      },
      "source": [
        "abnormal_data = eval_data[:337]\n",
        "abnormal_label = eval_label[:337]"
      ],
      "execution_count": null,
      "outputs": []
    },
    {
      "cell_type": "code",
      "metadata": {
        "id": "tP-KQZzg2G4T"
      },
      "source": [
        "new_abnormal_data = np.concatenate((abnormal_data, abnormal_data, abnormal_data, abnormal_data))\n",
        "new_abnormal_label = np.concatenate((abnormal_label, abnormal_label, abnormal_label, abnormal_label))"
      ],
      "execution_count": null,
      "outputs": []
    },
    {
      "cell_type": "code",
      "metadata": {
        "colab": {
          "base_uri": "https://localhost:8080/"
        },
        "id": "vNf4Yo6f23ht",
        "outputId": "d130b927-7451-4c4c-fca9-6d101c1daf4e"
      },
      "source": [
        "print(new_abnormal_data.shape)\n",
        "print(new_abnormal_label.shape)\n",
        "print(new_abnormal_label[0])"
      ],
      "execution_count": null,
      "outputs": [
        {
          "output_type": "stream",
          "text": [
            "(1348, 22, 15000)\n",
            "(1348,)\n",
            "1.0\n"
          ],
          "name": "stdout"
        }
      ]
    },
    {
      "cell_type": "code",
      "metadata": {
        "id": "7z1vxvolb6Ne"
      },
      "source": [
        "new_abnormal_data = 0"
      ],
      "execution_count": null,
      "outputs": []
    },
    {
      "cell_type": "code",
      "metadata": {
        "colab": {
          "base_uri": "https://localhost:8080/"
        },
        "id": "FCLTCIM53L_s",
        "outputId": "cb24955d-3bc6-4634-fad8-6c54edb51c5c"
      },
      "source": [
        "eval_data = np.concatenate((eval_data[:337], eval_data[:337], eval_data[:337], eval_data[:337], eval_data))\n",
        "eval_label = np.concatenate((eval_label[:337], eval_label[:337], eval_label[:337], eval_label[:337], eval_label))\n",
        "print(eval_data.shape)\n",
        "print(eval_label.shape)"
      ],
      "execution_count": null,
      "outputs": [
        {
          "output_type": "stream",
          "text": [
            "(3483, 22, 15000)\n",
            "(3483,)\n"
          ],
          "name": "stdout"
        }
      ]
    },
    {
      "cell_type": "code",
      "metadata": {
        "id": "ccXi0jF2GkGo"
      },
      "source": [
        "idx = np.random.permutation(len(eval_data))\n",
        "eval_data,eval_label = eval_data[idx], eval_label[idx]"
      ],
      "execution_count": null,
      "outputs": []
    },
    {
      "cell_type": "code",
      "metadata": {
        "colab": {
          "base_uri": "https://localhost:8080/"
        },
        "id": "CQ-qrDg8G0CC",
        "outputId": "8c10354a-f416-42f1-e3fa-f481ca6333dc"
      },
      "source": [
        "from tensorflow.keras.utils import to_categorical\n",
        "\n",
        "#enc_labels = to_categorical(eval_label, num_classes=2)              \n",
        "#eval_label= enc_labels\n",
        "print(eval_data.shape)\n",
        "print(eval_label.shape)\n",
        "print(eval_data.dtype)\n",
        "print(eval_label.dtype)\n",
        "print('training labels have been loaded')\n",
        "\n",
        "bs,t,f = eval_data.shape"
      ],
      "execution_count": null,
      "outputs": [
        {
          "output_type": "stream",
          "text": [
            "(3483, 22, 15000)\n",
            "(3483,)\n",
            "float32\n",
            "float64\n",
            "training labels have been loaded\n"
          ],
          "name": "stdout"
        }
      ]
    },
    {
      "cell_type": "code",
      "metadata": {
        "colab": {
          "base_uri": "https://localhost:8080/"
        },
        "id": "pbirztpaG6lJ",
        "outputId": "0b8fe3c3-e29e-4826-c119-dfd75f9b4803"
      },
      "source": [
        "from pdb import set_trace\n",
        "#import mne\n",
        "import pandas as pd\n",
        "import numpy as np\n",
        "import math\n",
        "import os\n",
        "import h5py\n",
        "import tensorflow as tf\n",
        "import matplotlib.pyplot as plt\n",
        "from tensorflow.keras.models import Sequential\n",
        "from tensorflow.keras.layers import SimpleRNN,LSTM, Dense, Activation, Bidirectional\n",
        "from tensorflow.keras.utils import to_categorical\n",
        "from sklearn.metrics import confusion_matrix\n",
        "from sklearn.preprocessing import StandardScaler\n",
        "from tensorflow.keras.layers import Flatten\n",
        "from tensorflow.keras.layers import Dropout\n",
        "from tensorflow.keras.layers import Convolution2D\n",
        "from tensorflow.keras.layers import BatchNormalization\n",
        "from tensorflow.keras.layers import MaxPooling2D\n",
        "from tensorflow.keras.models import load_model\n",
        "from tensorflow.keras.callbacks import ModelCheckpoint\n",
        "from tensorflow.keras.callbacks import EarlyStopping\n",
        "\n",
        "\n",
        "# ----------------------CHRONONET Testing-----------------------\n",
        "from tensorflow.keras.layers import Input,Dense,concatenate,Flatten,GRU,Conv1D\n",
        "from tensorflow.keras.models import Model\n",
        "inputsin= Input(shape=(t,f))\n",
        "# ------------------First Inception\n",
        "tower1 = Conv1D(32, 2, strides=2,activation='relu',padding=\"causal\")(inputsin)\n",
        "tower1 = BatchNormalization()(tower1)\n",
        "tower2 = Conv1D(32, 4, strides=2,activation='relu',padding=\"causal\")(inputsin)\n",
        "tower2 = BatchNormalization()(tower2)\n",
        "tower3 = Conv1D(32, 8, strides=2,activation='relu',padding=\"causal\")(inputsin)\n",
        "tower3 = BatchNormalization()(tower3)\n",
        "x = concatenate([tower1,tower2,tower3],axis=2)\n",
        "x = Dropout(0.45)(x)\n",
        "\n",
        "# ----------------------Second Inception\n",
        "tower1 = Conv1D(32, 2, strides=2,activation='relu',padding=\"causal\")(x)\n",
        "tower1 = BatchNormalization()(tower1)\n",
        "tower2 = Conv1D(32, 4, strides=2,activation='relu',padding=\"causal\")(x)\n",
        "tower2 = BatchNormalization()(tower2)\n",
        "tower3 = Conv1D(32, 8, strides=2,activation='relu',padding=\"causal\")(x)\n",
        "tower3 = BatchNormalization()(tower3)\n",
        "x = concatenate([tower1,tower2,tower3],axis=2)\n",
        "x = Dropout(0.45)(x)\n",
        "\n",
        "# ----------------------------------Third Inception\n",
        "tower1 = Conv1D(32, 2, strides=2,activation='relu',padding=\"causal\")(x)\n",
        "tower1 = BatchNormalization()(tower1)\n",
        "tower2 = Conv1D(32, 4, strides=2,activation='relu',padding=\"causal\")(x)\n",
        "tower2 = BatchNormalization()(tower2)\n",
        "tower3 = Conv1D(32, 8, strides=2,activation='relu',padding=\"causal\")(x)\n",
        "tower3 = BatchNormalization()(tower3)\n",
        "x = concatenate([tower1,tower2,tower3],axis=2)\n",
        "x = Dropout(0.45)(x)\n",
        "\n",
        "res1 = GRU(32,activation='tanh',return_sequences=True)(x)\n",
        "res2 = GRU(32,activation='tanh',return_sequences=True)(res1)\n",
        "res1_2 = concatenate([res1,res2],axis=2)\n",
        "res3 = GRU(32,activation='tanh',return_sequences=True)(res1_2)\n",
        "x = concatenate([res1,res2,res3])\n",
        "x = GRU(32,activation='tanh')(x)\n",
        "\n",
        "predictions = Dense(2,activation='softmax')(x)\n",
        "model = Model(inputs=inputsin, outputs=predictions)\n",
        "\n",
        "# learning rate to 0.00001\n",
        "adam_optimizer = tf.keras.optimizers.Adam(learning_rate=0.00001)\n",
        "\n",
        "# learning rate to 0.0001\n",
        "# adam_optimizer = tf.keras.optimizers.Adam(learning_rate=0.0001)\n",
        "\n",
        "\n",
        "model.compile(optimizer = adam_optimizer, loss = 'categorical_crossentropy', metrics=['accuracy'])\n",
        "print(model.metrics_names)\n",
        "print(model.summary())\n",
        "\n",
        "# early stopping\n",
        "es = EarlyStopping(monitor='val_loss', min_delta=0.01, mode='min', verbose=1, patience=25)                          #patience\n",
        "mc = ModelCheckpoint('model3flipped_acc.hdf5', monitor='val_acc', mode='max', verbose=1, save_best_only=True)        #filepath (save model as)\n",
        "mces = ModelCheckpoint('model3flipped_loss.hdf5', monitor='val_loss', mode='min', verbose=1, save_best_only=True)      #filepath (save model as)\n",
        "\n",
        "# fit model\n",
        "# hist=model.fit(eval_data,eval_label,validation_split=0.2,epochs=1000,batch_size=128,verbose=1,callbacks=[es, mc,mces],shuffle=False) #epochs #split #\n",
        "\n",
        "# fit model (without early stopping)\n",
        "hist=model.fit(eval_data,eval_label,validation_split=0.2,epochs=200,batch_size=128,verbose=1,callbacks=[mc,mces],shuffle=False) #epochs #split #\n",
        "\n",
        "\n",
        "print('The End')"
      ],
      "execution_count": null,
      "outputs": [
        {
          "output_type": "stream",
          "text": [
            "[]\n",
            "Model: \"model\"\n",
            "__________________________________________________________________________________________________\n",
            "Layer (type)                    Output Shape         Param #     Connected to                     \n",
            "==================================================================================================\n",
            "input_1 (InputLayer)            [(None, 22, 15000)]  0                                            \n",
            "__________________________________________________________________________________________________\n",
            "conv1d (Conv1D)                 (None, 11, 32)       960032      input_1[0][0]                    \n",
            "__________________________________________________________________________________________________\n",
            "conv1d_1 (Conv1D)               (None, 11, 32)       1920032     input_1[0][0]                    \n",
            "__________________________________________________________________________________________________\n",
            "conv1d_2 (Conv1D)               (None, 11, 32)       3840032     input_1[0][0]                    \n",
            "__________________________________________________________________________________________________\n",
            "batch_normalization (BatchNorma (None, 11, 32)       128         conv1d[0][0]                     \n",
            "__________________________________________________________________________________________________\n",
            "batch_normalization_1 (BatchNor (None, 11, 32)       128         conv1d_1[0][0]                   \n",
            "__________________________________________________________________________________________________\n",
            "batch_normalization_2 (BatchNor (None, 11, 32)       128         conv1d_2[0][0]                   \n",
            "__________________________________________________________________________________________________\n",
            "concatenate (Concatenate)       (None, 11, 96)       0           batch_normalization[0][0]        \n",
            "                                                                 batch_normalization_1[0][0]      \n",
            "                                                                 batch_normalization_2[0][0]      \n",
            "__________________________________________________________________________________________________\n",
            "dropout (Dropout)               (None, 11, 96)       0           concatenate[0][0]                \n",
            "__________________________________________________________________________________________________\n",
            "conv1d_3 (Conv1D)               (None, 6, 32)        6176        dropout[0][0]                    \n",
            "__________________________________________________________________________________________________\n",
            "conv1d_4 (Conv1D)               (None, 6, 32)        12320       dropout[0][0]                    \n",
            "__________________________________________________________________________________________________\n",
            "conv1d_5 (Conv1D)               (None, 6, 32)        24608       dropout[0][0]                    \n",
            "__________________________________________________________________________________________________\n",
            "batch_normalization_3 (BatchNor (None, 6, 32)        128         conv1d_3[0][0]                   \n",
            "__________________________________________________________________________________________________\n",
            "batch_normalization_4 (BatchNor (None, 6, 32)        128         conv1d_4[0][0]                   \n",
            "__________________________________________________________________________________________________\n",
            "batch_normalization_5 (BatchNor (None, 6, 32)        128         conv1d_5[0][0]                   \n",
            "__________________________________________________________________________________________________\n",
            "concatenate_1 (Concatenate)     (None, 6, 96)        0           batch_normalization_3[0][0]      \n",
            "                                                                 batch_normalization_4[0][0]      \n",
            "                                                                 batch_normalization_5[0][0]      \n",
            "__________________________________________________________________________________________________\n",
            "dropout_1 (Dropout)             (None, 6, 96)        0           concatenate_1[0][0]              \n",
            "__________________________________________________________________________________________________\n",
            "conv1d_6 (Conv1D)               (None, 3, 32)        6176        dropout_1[0][0]                  \n",
            "__________________________________________________________________________________________________\n",
            "conv1d_7 (Conv1D)               (None, 3, 32)        12320       dropout_1[0][0]                  \n",
            "__________________________________________________________________________________________________\n",
            "conv1d_8 (Conv1D)               (None, 3, 32)        24608       dropout_1[0][0]                  \n",
            "__________________________________________________________________________________________________\n",
            "batch_normalization_6 (BatchNor (None, 3, 32)        128         conv1d_6[0][0]                   \n",
            "__________________________________________________________________________________________________\n",
            "batch_normalization_7 (BatchNor (None, 3, 32)        128         conv1d_7[0][0]                   \n",
            "__________________________________________________________________________________________________\n",
            "batch_normalization_8 (BatchNor (None, 3, 32)        128         conv1d_8[0][0]                   \n",
            "__________________________________________________________________________________________________\n",
            "concatenate_2 (Concatenate)     (None, 3, 96)        0           batch_normalization_6[0][0]      \n",
            "                                                                 batch_normalization_7[0][0]      \n",
            "                                                                 batch_normalization_8[0][0]      \n",
            "__________________________________________________________________________________________________\n",
            "dropout_2 (Dropout)             (None, 3, 96)        0           concatenate_2[0][0]              \n",
            "__________________________________________________________________________________________________\n",
            "gru (GRU)                       (None, 3, 32)        12480       dropout_2[0][0]                  \n",
            "__________________________________________________________________________________________________\n",
            "gru_1 (GRU)                     (None, 3, 32)        6336        gru[0][0]                        \n",
            "__________________________________________________________________________________________________\n",
            "concatenate_3 (Concatenate)     (None, 3, 64)        0           gru[0][0]                        \n",
            "                                                                 gru_1[0][0]                      \n",
            "__________________________________________________________________________________________________\n",
            "gru_2 (GRU)                     (None, 3, 32)        9408        concatenate_3[0][0]              \n",
            "__________________________________________________________________________________________________\n",
            "concatenate_4 (Concatenate)     (None, 3, 96)        0           gru[0][0]                        \n",
            "                                                                 gru_1[0][0]                      \n",
            "                                                                 gru_2[0][0]                      \n",
            "__________________________________________________________________________________________________\n",
            "gru_3 (GRU)                     (None, 32)           12480       concatenate_4[0][0]              \n",
            "__________________________________________________________________________________________________\n",
            "dense (Dense)                   (None, 2)            66          gru_3[0][0]                      \n",
            "==================================================================================================\n",
            "Total params: 6,848,226\n",
            "Trainable params: 6,847,650\n",
            "Non-trainable params: 576\n",
            "__________________________________________________________________________________________________\n",
            "None\n",
            "Epoch 1/200\n"
          ],
          "name": "stdout"
        }
      ]
    },
    {
      "cell_type": "code",
      "metadata": {
        "id": "I4Bbcr0mZBfm"
      },
      "source": [
        "import matplotlib.pyplot as plt\n",
        "\n",
        "plt.plot(hist.history['accuracy'])\n",
        "plt.plot(hist.history['val_accuracy'])\n",
        "plt.show()"
      ],
      "execution_count": null,
      "outputs": []
    },
    {
      "cell_type": "code",
      "metadata": {
        "colab": {
          "base_uri": "https://localhost:8080/",
          "height": 265
        },
        "id": "tW4hEaK-HBwX",
        "outputId": "91f15653-8f1f-4482-eb54-48114ce24e4b"
      },
      "source": [
        "import matplotlib.pyplot as plt\n",
        "\n",
        "plt.plot(hist.history['accuracy'])\n",
        "plt.plot(hist.history['val_accuracy'])\n",
        "plt.show()"
      ],
      "execution_count": null,
      "outputs": [
        {
          "output_type": "display_data",
          "data": {
            "image/png": "[encoded data removed]",
            "text/plain": [
              "<Figure size 432x288 with 1 Axes>"
            ]
          },
          "metadata": {
            "tags": [],
            "needs_background": "light"
          }
        }
      ]
    },
    {
      "cell_type": "code",
      "metadata": {
        "id": "lRkk5yf1Lb-J"
      },
      "source": [
        "predictions = Dense(2,activation='softmax')(x)\n",
        "model_2 = Model(inputs=inputsin, outputs=predictions)\n",
        "\n",
        "model_2.load_weights(\"model3flipped_loss.hdf5\")"
      ],
      "execution_count": null,
      "outputs": []
    },
    {
      "cell_type": "code",
      "metadata": {
        "colab": {
          "base_uri": "https://localhost:8080/"
        },
        "id": "8J7frUSjLktZ",
        "outputId": "c68a402e-326b-4cf8-dece-471a26cc3150"
      },
      "source": [
        "print(model.predict(test_data))\n",
        "print(model_2.predict(test_data))"
      ],
      "execution_count": null,
      "outputs": [
        {
          "output_type": "stream",
          "text": [
            "[[0.9611213  0.03887872]\n",
            " [0.9835639  0.01643612]\n",
            " [0.9113208  0.08867916]\n",
            " [0.9746353  0.02536466]\n",
            " [0.9837685  0.01623153]\n",
            " [0.9883259  0.01167403]\n",
            " [0.9874455  0.01255455]\n",
            " [0.87507534 0.12492462]\n",
            " [0.91678756 0.08321238]\n",
            " [0.98510784 0.01489211]\n",
            " [0.98812824 0.01187173]\n",
            " [0.98383015 0.0161698 ]\n",
            " [0.9738046  0.02619543]\n",
            " [0.98776114 0.01223886]\n",
            " [0.99205714 0.00794286]\n",
            " [0.9931606  0.00683935]\n",
            " [0.9900643  0.00993565]\n",
            " [0.34183866 0.6581613 ]\n",
            " [0.98040295 0.019597  ]\n",
            " [0.98928076 0.0107193 ]\n",
            " [0.99225265 0.0077474 ]\n",
            " [0.12902907 0.8709709 ]\n",
            " [0.990888   0.00911205]\n",
            " [0.9815787  0.01842131]\n",
            " [0.9592221  0.0407779 ]\n",
            " [0.9912416  0.00875836]\n",
            " [0.9899238  0.01007627]\n",
            " [0.97555    0.02445006]\n",
            " [0.9869932  0.01300688]\n",
            " [0.9918059  0.00819405]\n",
            " [0.99321824 0.0067818 ]\n",
            " [0.99446636 0.00553369]\n",
            " [0.4218575  0.57814246]\n",
            " [0.98154116 0.01845884]\n",
            " [0.9924177  0.00758231]\n",
            " [0.9785695  0.02143054]\n",
            " [0.9809911  0.01900891]\n",
            " [0.9940918  0.00590816]\n",
            " [0.95619655 0.04380351]\n",
            " [0.98146445 0.01853553]\n",
            " [0.4140497  0.5859503 ]\n",
            " [0.9888763  0.01112366]\n",
            " [0.9943262  0.00567377]\n",
            " [0.98886067 0.01113928]\n",
            " [0.9700326  0.02996737]\n",
            " [0.98977894 0.01022103]\n",
            " [0.94403785 0.05596219]\n",
            " [0.99301153 0.00698846]\n",
            " [0.5450609  0.45493913]\n",
            " [0.9898189  0.0101811 ]\n",
            " [0.9918949  0.00810505]\n",
            " [0.97944117 0.02055887]\n",
            " [0.9752196  0.02478034]\n",
            " [0.99021906 0.00978099]\n",
            " [0.95933044 0.0406696 ]\n",
            " [0.9798164  0.02018355]\n",
            " [0.93425703 0.06574295]\n",
            " [0.99240655 0.00759352]\n",
            " [0.66710067 0.3328994 ]\n",
            " [0.95311344 0.04688653]]\n",
            "[[0.9541317  0.0458683 ]\n",
            " [0.97937495 0.02062506]\n",
            " [0.9010181  0.09898187]\n",
            " [0.9692671  0.0307329 ]\n",
            " [0.97985715 0.02014291]\n",
            " [0.98492163 0.01507833]\n",
            " [0.9838589  0.01614114]\n",
            " [0.8633166  0.1366834 ]\n",
            " [0.90607363 0.09392635]\n",
            " [0.9813153  0.01868464]\n",
            " [0.9847194  0.0152806 ]\n",
            " [0.9798049  0.02019516]\n",
            " [0.96814793 0.03185201]\n",
            " [0.98431534 0.01568463]\n",
            " [0.98950446 0.01049554]\n",
            " [0.9908303  0.00916974]\n",
            " [0.987087   0.01291297]\n",
            " [0.345906   0.65409404]\n",
            " [0.97578955 0.0242104 ]\n",
            " [0.9860697  0.01393031]\n",
            " [0.98977506 0.01022497]\n",
            " [0.14082927 0.85917073]\n",
            " [0.9880586  0.0119413 ]\n",
            " [0.97703356 0.02296647]\n",
            " [0.9518716  0.04812847]\n",
            " [0.9885296  0.01147039]\n",
            " [0.986948   0.01305196]\n",
            " [0.97023743 0.02976253]\n",
            " [0.98342323 0.01657674]\n",
            " [0.9892218  0.01077816]\n",
            " [0.99089944 0.00910053]\n",
            " [0.99245304 0.00754702]\n",
            " [0.4254808  0.57451916]\n",
            " [0.9770439  0.02295602]\n",
            " [0.98987764 0.0101224 ]\n",
            " [0.9734795  0.02652056]\n",
            " [0.97654915 0.02345087]\n",
            " [0.9919626  0.0080374 ]\n",
            " [0.9485336  0.05146644]\n",
            " [0.9769126  0.02308738]\n",
            " [0.41298115 0.58701885]\n",
            " [0.98568404 0.01431598]\n",
            " [0.99223846 0.00776151]\n",
            " [0.98576736 0.01423264]\n",
            " [0.96412426 0.03587577]\n",
            " [0.98682564 0.01317437]\n",
            " [0.9353792  0.06462078]\n",
            " [0.99062234 0.00937768]\n",
            " [0.5456427  0.45435727]\n",
            " [0.98671836 0.01328162]\n",
            " [0.98935246 0.0106475 ]\n",
            " [0.9745272  0.02547286]\n",
            " [0.9702143  0.02978569]\n",
            " [0.98730916 0.01269088]\n",
            " [0.9517346  0.04826536]\n",
            " [0.9751683  0.02483169]\n",
            " [0.9247017  0.07529829]\n",
            " [0.9899796  0.01002045]\n",
            " [0.6604787  0.33952126]\n",
            " [0.9451234  0.05487664]]\n"
          ],
          "name": "stdout"
        }
      ]
    },
    {
      "cell_type": "code",
      "metadata": {
        "id": "QMLnWEoDUfl9"
      },
      "source": [
        "results = model_2.predict(test_data)"
      ],
      "execution_count": null,
      "outputs": []
    },
    {
      "cell_type": "code",
      "metadata": {
        "id": "Sf3ghsIg2pQI"
      },
      "source": [
        "res = []\n",
        "for result in results:\n",
        "  if result[0] > result[1]:\n",
        "    res.append([0, 1])\n",
        "  else:\n",
        "    res.append([1, 0])"
      ],
      "execution_count": null,
      "outputs": []
    },
    {
      "cell_type": "code",
      "metadata": {
        "colab": {
          "base_uri": "https://localhost:8080/"
        },
        "id": "u-RRAYp03B_d",
        "outputId": "c7405ac4-eda1-4274-a9e8-1c7561b6f1cb"
      },
      "source": [
        "corr = 0\n",
        "for i in range(len(test_label)):\n",
        "  #print(int(test_label[i]), res[i])\n",
        "  if res[i][int(test_label[i])] == 1:\n",
        "    #print('yes')\n",
        "    corr += 1\n",
        "print(corr)"
      ],
      "execution_count": null,
      "outputs": [
        {
          "output_type": "stream",
          "text": [
            "41\n"
          ],
          "name": "stdout"
        }
      ]
    },
    {
      "cell_type": "code",
      "metadata": {
        "colab": {
          "base_uri": "https://localhost:8080/"
        },
        "id": "ka8cCOb53I-_",
        "outputId": "8c5f685d-d9f3-4a39-d4d5-fdae419f49ba"
      },
      "source": [
        "np.min(results[:10], axis=0)"
      ],
      "execution_count": null,
      "outputs": [
        {
          "output_type": "execute_result",
          "data": {
            "text/plain": [
              "array([0.8633166 , 0.01507833], dtype=float32)"
            ]
          },
          "metadata": {
            "tags": []
          },
          "execution_count": 28
        }
      ]
    },
    {
      "cell_type": "markdown",
      "metadata": {
        "id": "4E0kTl_zAKzl"
      },
      "source": [
        "#Compressed Shallow Net"
      ]
    },
    {
      "cell_type": "code",
      "metadata": {
        "colab": {
          "base_uri": "https://localhost:8080/"
        },
        "id": "kFEqkByWBXHn",
        "outputId": "e6c53c0f-7dd6-46f5-8424-a909686fca15"
      },
      "source": [
        "!pip install brevitas"
      ],
      "execution_count": null,
      "outputs": [
        {
          "output_type": "stream",
          "text": [
            "Collecting brevitas\n",
            "\u001b[?25l  Downloading https://files.pythonhosted.org/packages/9d/34/5ef26ddec87cf44a92709245d83a5888b864764f067adbfd7be6af7e96f5/brevitas-0.4.0-py3-none-any.whl (338kB)\n",
            "\r\u001b[K     |█                               | 10kB 14.4MB/s eta 0:00:01\r\u001b[K     |██                              | 20kB 19.3MB/s eta 0:00:01\r\u001b[K     |███                             | 30kB 11.0MB/s eta 0:00:01\r\u001b[K     |███▉                            | 40kB 8.3MB/s eta 0:00:01\r\u001b[K     |████▉                           | 51kB 9.5MB/s eta 0:00:01\r\u001b[K     |█████▉                          | 61kB 9.5MB/s eta 0:00:01\r\u001b[K     |██████▊                         | 71kB 8.4MB/s eta 0:00:01\r\u001b[K     |███████▊                        | 81kB 8.7MB/s eta 0:00:01\r\u001b[K     |████████▊                       | 92kB 7.8MB/s eta 0:00:01\r\u001b[K     |█████████▊                      | 102kB 8.3MB/s eta 0:00:01\r\u001b[K     |██████████▋                     | 112kB 8.3MB/s eta 0:00:01\r\u001b[K     |███████████▋                    | 122kB 8.3MB/s eta 0:00:01\r\u001b[K     |████████████▋                   | 133kB 8.3MB/s eta 0:00:01\r\u001b[K     |█████████████▌                  | 143kB 8.3MB/s eta 0:00:01\r\u001b[K     |██████████████▌                 | 153kB 8.3MB/s eta 0:00:01\r\u001b[K     |███████████████▌                | 163kB 8.3MB/s eta 0:00:01\r\u001b[K     |████████████████▌               | 174kB 8.3MB/s eta 0:00:01\r\u001b[K     |█████████████████▍              | 184kB 8.3MB/s eta 0:00:01\r\u001b[K     |██████████████████▍             | 194kB 8.3MB/s eta 0:00:01\r\u001b[K     |███████████████████▍            | 204kB 8.3MB/s eta 0:00:01\r\u001b[K     |████████████████████▎           | 215kB 8.3MB/s eta 0:00:01\r\u001b[K     |█████████████████████▎          | 225kB 8.3MB/s eta 0:00:01\r\u001b[K     |██████████████████████▎         | 235kB 8.3MB/s eta 0:00:01\r\u001b[K     |███████████████████████▎        | 245kB 8.3MB/s eta 0:00:01\r\u001b[K     |████████████████████████▏       | 256kB 8.3MB/s eta 0:00:01\r\u001b[K     |█████████████████████████▏      | 266kB 8.3MB/s eta 0:00:01\r\u001b[K     |██████████████████████████▏     | 276kB 8.3MB/s eta 0:00:01\r\u001b[K     |███████████████████████████     | 286kB 8.3MB/s eta 0:00:01\r\u001b[K     |████████████████████████████    | 296kB 8.3MB/s eta 0:00:01\r\u001b[K     |█████████████████████████████   | 307kB 8.3MB/s eta 0:00:01\r\u001b[K     |██████████████████████████████  | 317kB 8.3MB/s eta 0:00:01\r\u001b[K     |███████████████████████████████ | 327kB 8.3MB/s eta 0:00:01\r\u001b[K     |████████████████████████████████| 337kB 8.3MB/s eta 0:00:01\r\u001b[K     |████████████████████████████████| 348kB 8.3MB/s \n",
            "\u001b[?25hCollecting dependencies==2.0.1\n",
            "  Downloading https://files.pythonhosted.org/packages/a6/b7/d07e44c49429eba1c2eeffbde551a9ea3838c5ab34fafd544999fd4f925e/dependencies-2.0.1-py2.py3-none-any.whl\n",
            "Requirement already satisfied: setuptools in /usr/local/lib/python3.7/dist-packages (from brevitas) (54.2.0)\n",
            "Requirement already satisfied: torch>=1.1.0 in /usr/local/lib/python3.7/dist-packages (from brevitas) (1.8.1+cu101)\n",
            "Requirement already satisfied: packaging in /usr/local/lib/python3.7/dist-packages (from brevitas) (20.9)\n",
            "Requirement already satisfied: typing-extensions>=3.7.4 in /usr/local/lib/python3.7/dist-packages (from brevitas) (3.7.4.3)\n",
            "Collecting future-annotations\n",
            "  Downloading https://files.pythonhosted.org/packages/2a/a6/95dd5f6dd2a785d69fa2fd2c7c217c13a6eb9c1f37eddc232eb11bfd8fa7/future_annotations-1.0.0-py2.py3-none-any.whl\n",
            "Requirement already satisfied: numpy in /usr/local/lib/python3.7/dist-packages (from torch>=1.1.0->brevitas) (1.19.5)\n",
            "Requirement already satisfied: pyparsing>=2.0.2 in /usr/local/lib/python3.7/dist-packages (from packaging->brevitas) (2.4.7)\n",
            "Collecting tokenize-rt>=3\n",
            "  Downloading https://files.pythonhosted.org/packages/13/24/49368436ba6fad56f4b2677350ecc5e88127663e57f278c6fbb86ffe7135/tokenize_rt-4.1.0-py2.py3-none-any.whl\n",
            "Installing collected packages: dependencies, tokenize-rt, future-annotations, brevitas\n",
            "Successfully installed brevitas-0.4.0 dependencies-2.0.1 future-annotations-1.0.0 tokenize-rt-4.1.0\n"
          ],
          "name": "stdout"
        }
      ]
    },
    {
      "cell_type": "code",
      "metadata": {
        "colab": {
          "base_uri": "https://localhost:8080/",
          "height": 70
        },
        "id": "36GvwHF6APkF",
        "outputId": "5c5c9811-ef6d-4ade-f52e-c143c5f1c41c"
      },
      "source": [
        "import torch\n",
        "from torch import nn\n",
        "from torch.nn import Module\n",
        "import torch.nn.functional as F\n",
        "\n",
        "import brevitas.nn as qnn\n",
        "\n",
        "class Shallow_Net(nn.Module):\n",
        "  def __init__(self):\n",
        "    super().__init__()\n",
        "    \n",
        "    self.conv1 = qnn.QuantConv1d(22, 40, 25, weight_bit_width=4)\n",
        "    self.relu1 = nn.ReLU()\n",
        "\n",
        "    x = torch.randn(22, 15000).view(-1, 22, 15000)\n",
        "    self._to_linear = None\n",
        "    self.convs(x)\n",
        "\n",
        "    self.fc1 = qnn.QuantLinear(self._to_linear, 2, bias=False, weight_bit_width=4)\n",
        "\n",
        "  def convs(self, x):\n",
        "    x = F.avg_pool1d(F.relu(self.conv1(x)), 2)\n",
        "\n",
        "    if self._to_linear == None:\n",
        "      self._to_linear = x[0].shape[0]*x[0].shape[1]\n",
        "    return x\n",
        "\n",
        "  def forward(self, x):\n",
        "    x = self.convs(x)\n",
        "    x = x.view(-1, self._to_linear)\n",
        "    x = self.fc1(x)\n",
        "\n",
        "    #return F.softmax(x, dim=1)\n",
        "    return x\n",
        "\n",
        "\n",
        "shallow_net = Shallow_Net()\n",
        "#print(test_net)\n",
        "\n",
        "'''\n",
        "if torch.cuda.is_available():\n",
        "  device = torch.device(\"cuda:0\")\n",
        "  print(\"running on the gpu\")\n",
        "else:\n",
        "  device = torch.device(\"cpu\")\n",
        "  print(\"running on the CPU\")\n",
        "\n",
        "shallow_net.to(device)\n",
        "'''\n",
        "\n"
      ],
      "execution_count": null,
      "outputs": [
        {
          "output_type": "stream",
          "text": [
            "No CUDA runtime is found, using CUDA_HOME='/usr/local/cuda'\n"
          ],
          "name": "stdout"
        },
        {
          "output_type": "execute_result",
          "data": {
            "application/vnd.google.colaboratory.intrinsic+json": {
              "type": "string"
            },
            "text/plain": [
              "'\\nif torch.cuda.is_available():\\n  device = torch.device(\"cuda:0\")\\n  print(\"running on the gpu\")\\nelse:\\n  device = torch.device(\"cpu\")\\n  print(\"running on the CPU\")\\n\\nshallow_net.to(device)\\n'"
            ]
          },
          "metadata": {
            "tags": []
          },
          "execution_count": 6
        }
      ]
    },
    {
      "cell_type": "code",
      "metadata": {
        "colab": {
          "base_uri": "https://localhost:8080/"
        },
        "id": "s2xUDQbgAeFX",
        "outputId": "26aea3c7-b104-490e-c716-28c7cba4ef6d"
      },
      "source": [
        "eval_data = torch.Tensor(eval_data)\n",
        "eval_label = torch.Tensor(eval_label)\n",
        "\n",
        "VAL_PCT = 0.1  # lets reserve 10% of our data for validation\n",
        "val_size = int(len(eval_data)*VAL_PCT)\n",
        "#print(val_size)\n",
        "\n",
        "train_X = eval_data[:-val_size]\n",
        "train_y = eval_label[:-val_size]\n",
        "\n",
        "test_X = eval_data[-val_size:]\n",
        "test_y = eval_label[-val_size:]\n",
        "\n",
        "eval_data = 0\n",
        "eval_label = 0\n",
        "\n",
        "print(len(train_X))\n",
        "print(len(test_X))"
      ],
      "execution_count": null,
      "outputs": [
        {
          "output_type": "stream",
          "text": [
            "3135\n",
            "348\n"
          ],
          "name": "stdout"
        }
      ]
    },
    {
      "cell_type": "code",
      "metadata": {
        "colab": {
          "base_uri": "https://localhost:8080/"
        },
        "id": "hfuRw484dKVg",
        "outputId": "62cc2210-2600-46b8-b034-8e55ece99c30"
      },
      "source": [
        "train_y.long()"
      ],
      "execution_count": null,
      "outputs": [
        {
          "output_type": "execute_result",
          "data": {
            "text/plain": [
              "tensor([0, 1, 0,  ..., 0, 0, 1])"
            ]
          },
          "metadata": {
            "tags": []
          },
          "execution_count": 25
        }
      ]
    },
    {
      "cell_type": "code",
      "metadata": {
        "colab": {
          "base_uri": "https://localhost:8080/"
        },
        "id": "43Dt5S1MAff8",
        "outputId": "e8e0caec-7131-4e72-f648-07ebe8074be3"
      },
      "source": [
        "import torch.optim as optim\n",
        "from tqdm import tqdm\n",
        "\n",
        "\n",
        "optimizer = optim.Adam(shallow_net.parameters(), lr=0.00005)\n",
        "loss_function = nn.CrossEntropyLoss()\n",
        "#loss_function = CategoricalCrossEntropyLoss()\n",
        "#loss_function = nn.sparse_categorical_crossentropy()\n",
        "\n",
        "def fwd_pass(X, y, train=False):\n",
        "  if train:\n",
        "    shallow_net.zero_grad()\n",
        "  outputs = shallow_net(X)\n",
        "  #outputs = torch.Tensor(outputs).long()\n",
        "  print(outputs, y)\n",
        "  matches = [torch.argmax(i) == torch.argmax(j) for i,j in zip(outputs, y)]\n",
        "  acc = matches.count(True)/len(matches)\n",
        "  loss = loss_function(outputs, y.long())\n",
        "\n",
        "  if train:\n",
        "    loss.backward()\n",
        "    optimizer.step()\n",
        "  return acc, loss\n",
        "\n",
        "import numpy as np\n",
        "\n",
        "def test(size=32):  \n",
        "  random_start = np.random.randint(len(test_X) - size)\n",
        "  X, y = test_X[random_start:random_start+size], test_y[random_start:random_start+size]\n",
        "  with torch.no_grad():\n",
        "    val_acc, val_loss = fwd_pass(X.view(-1, 22, 15000), y)\n",
        "  return val_acc, val_loss\n",
        "\n",
        "val_acc, val_loss = test(size=32)\n",
        "print(val_acc, val_loss)\n",
        "\n",
        "\n",
        "import time\n",
        "\n",
        "MODEL_NAME = f\"model-{int(time.time())}\"\n",
        "\n",
        "\n",
        "print(MODEL_NAME)\n",
        "\n",
        "def train():\n",
        "  BATCH_SIZE = 132\n",
        "  EPOCHS = 50\n",
        "\n",
        "  with open(\"model.log\", \"a\") as f:\n",
        "    for epoch in range(EPOCHS):\n",
        "      for i in tqdm(range(0, len(train_X), BATCH_SIZE)):\n",
        "        batch_X = train_X[i:i+BATCH_SIZE].view(-1, 22, 15000)\n",
        "        batch_y = train_y[i:i+BATCH_SIZE]\n",
        "\n",
        "        acc, loss = fwd_pass(batch_X, batch_y, train=True)\n",
        "        \n",
        "        # every 50 steps \n",
        "        if i % 50 == 0:\n",
        "          val_acc, val_loss = test(size=132)\n",
        "          f.write(f\"{MODEL_NAME},{round(time.time(),3)},{round(float(acc), 2)}, {round(float(loss), 4)},{round(float(val_acc), 2)}, {round(float(val_loss), 4)}\\n\")\n",
        "\n",
        "train()"
      ],
      "execution_count": null,
      "outputs": [
        {
          "output_type": "stream",
          "text": [
            "\r  0%|          | 0/24 [00:00<?, ?it/s]"
          ],
          "name": "stderr"
        },
        {
          "output_type": "stream",
          "text": [
            "0.3125 tensor(0.7059)\n",
            "model-1619005505\n"
          ],
          "name": "stdout"
        },
        {
          "output_type": "stream",
          "text": [
            "100%|██████████| 24/24 [02:28<00:00,  6.20s/it]\n",
            "100%|██████████| 24/24 [02:26<00:00,  6.12s/it]\n",
            "100%|██████████| 24/24 [02:25<00:00,  6.08s/it]\n",
            "100%|██████████| 24/24 [02:25<00:00,  6.05s/it]\n",
            "100%|██████████| 24/24 [02:24<00:00,  6.04s/it]\n",
            "100%|██████████| 24/24 [02:24<00:00,  6.00s/it]\n",
            "100%|██████████| 24/24 [02:24<00:00,  6.02s/it]\n",
            "100%|██████████| 24/24 [02:25<00:00,  6.04s/it]\n",
            "100%|██████████| 24/24 [02:24<00:00,  6.03s/it]\n",
            "100%|██████████| 24/24 [02:25<00:00,  6.04s/it]\n",
            "100%|██████████| 24/24 [02:26<00:00,  6.11s/it]\n",
            "100%|██████████| 24/24 [02:25<00:00,  6.06s/it]\n",
            "100%|██████████| 24/24 [02:24<00:00,  6.02s/it]\n",
            "100%|██████████| 24/24 [02:24<00:00,  6.01s/it]\n",
            "100%|██████████| 24/24 [02:26<00:00,  6.08s/it]\n",
            "100%|██████████| 24/24 [02:24<00:00,  6.03s/it]\n",
            "100%|██████████| 24/24 [02:24<00:00,  6.03s/it]\n",
            "100%|██████████| 24/24 [02:25<00:00,  6.07s/it]\n",
            "100%|██████████| 24/24 [02:25<00:00,  6.04s/it]\n",
            "100%|██████████| 24/24 [02:24<00:00,  6.02s/it]\n",
            "100%|██████████| 24/24 [02:24<00:00,  6.03s/it]\n",
            "100%|██████████| 24/24 [02:25<00:00,  6.06s/it]\n",
            "100%|██████████| 24/24 [02:25<00:00,  6.05s/it]\n",
            "100%|██████████| 24/24 [02:25<00:00,  6.07s/it]\n",
            "100%|██████████| 24/24 [02:25<00:00,  6.05s/it]\n",
            "100%|██████████| 24/24 [02:25<00:00,  6.05s/it]\n",
            "100%|██████████| 24/24 [02:26<00:00,  6.10s/it]\n",
            "100%|██████████| 24/24 [02:21<00:00,  5.91s/it]\n",
            "100%|██████████| 24/24 [02:20<00:00,  5.86s/it]\n",
            "100%|██████████| 24/24 [02:20<00:00,  5.86s/it]\n",
            "100%|██████████| 24/24 [02:20<00:00,  5.87s/it]\n",
            "100%|██████████| 24/24 [02:20<00:00,  5.87s/it]\n",
            "100%|██████████| 24/24 [02:22<00:00,  5.96s/it]\n",
            "100%|██████████| 24/24 [02:22<00:00,  5.93s/it]\n",
            "100%|██████████| 24/24 [02:20<00:00,  5.87s/it]\n",
            "100%|██████████| 24/24 [02:20<00:00,  5.87s/it]\n",
            "100%|██████████| 24/24 [02:20<00:00,  5.84s/it]\n",
            "100%|██████████| 24/24 [02:20<00:00,  5.85s/it]\n",
            "100%|██████████| 24/24 [02:19<00:00,  5.83s/it]\n",
            "100%|██████████| 24/24 [02:20<00:00,  5.86s/it]\n",
            "100%|██████████| 24/24 [02:20<00:00,  5.86s/it]\n",
            "100%|██████████| 24/24 [02:21<00:00,  5.89s/it]\n",
            "100%|██████████| 24/24 [02:21<00:00,  5.89s/it]\n",
            "100%|██████████| 24/24 [02:20<00:00,  5.86s/it]\n",
            "100%|██████████| 24/24 [02:22<00:00,  5.96s/it]\n",
            "100%|██████████| 24/24 [02:24<00:00,  6.04s/it]\n",
            "100%|██████████| 24/24 [02:25<00:00,  6.08s/it]\n",
            "100%|██████████| 24/24 [02:24<00:00,  6.03s/it]\n",
            "100%|██████████| 24/24 [02:24<00:00,  6.03s/it]\n",
            "100%|██████████| 24/24 [02:24<00:00,  6.02s/it]\n"
          ],
          "name": "stderr"
        }
      ]
    },
    {
      "cell_type": "code",
      "metadata": {
        "colab": {
          "base_uri": "https://localhost:8080/",
          "height": 278
        },
        "id": "17c9QW90Ct7S",
        "outputId": "a8e36af0-ce0f-4e93-a065-32b58e45bb44"
      },
      "source": [
        "import matplotlib.pyplot as plt\n",
        "from matplotlib import style\n",
        "\n",
        "style.use(\"ggplot\")\n",
        "\n",
        "def create_acc_loss_graph(model_name):\n",
        "  contents = open(\"model.log\", \"r\").read().split('\\n')\n",
        "\n",
        "  times = []\n",
        "  accs = []\n",
        "  losses = []\n",
        "\n",
        "  val_accs = []\n",
        "  val_losses = []\n",
        "\n",
        "  for c in contents:\n",
        "    if model_name in c:      \n",
        "      name, timestamp, acc, loss, val_acc, val_loss = c.split(\",\")\n",
        "      times.append(float(timestamp))\n",
        "      accs.append(float(acc))\n",
        "      losses.append(float(loss))\n",
        "      val_accs.append(float(val_acc))\n",
        "      val_losses.append(float(val_loss))\n",
        "\n",
        "\n",
        "  fig = plt.figure()\n",
        "\n",
        "  ax1 = plt.subplot2grid((2,1),(0,0))\n",
        "  ax2 = plt.subplot2grid((2,1),(1,0), sharex=ax1)\n",
        "\n",
        "  ax1.plot(times, accs, label=\"acc\")\n",
        "  ax1.plot(times, val_accs, label=\"val_acc\")\n",
        "  ax1.legend(loc=2)\n",
        "\n",
        "  ax2.plot(times, losses, label=\"loss\")\n",
        "  ax2.plot(times, val_losses, label=\"val_loss\")\n",
        "  ax2.legend(loc=2)\n",
        "\n",
        "  plt.show()\n",
        "\n",
        "create_acc_loss_graph(MODEL_NAME)\n",
        "      \n",
        "      \n"
      ],
      "execution_count": null,
      "outputs": [
        {
          "output_type": "display_data",
          "data": {
            "image/png": "[encoded data removed]",
            "text/plain": [
              "<Figure size 432x288 with 2 Axes>"
            ]
          },
          "metadata": {
            "tags": []
          }
        }
      ]
    },
    {
      "cell_type": "code",
      "metadata": {
        "colab": {
          "base_uri": "https://localhost:8080/",
          "height": 278
        },
        "id": "0vEUkpT1IOwn",
        "outputId": "9fbc095f-69d4-4306-86f6-4faa4661b0a4"
      },
      "source": [
        "import matplotlib.pyplot as plt\n",
        "from matplotlib import style\n",
        "\n",
        "style.use(\"ggplot\")\n",
        "\n",
        "def create_acc_loss_graph(model_name):\n",
        "  contents = open(\"model.log\", \"r\").read().split('\\n')\n",
        "\n",
        "  times = []\n",
        "  accs = []\n",
        "  losses = []\n",
        "\n",
        "  val_accs = []\n",
        "  val_losses = []\n",
        "\n",
        "  for c in contents:\n",
        "    if model_name in c:      \n",
        "      name, timestamp, acc, loss, val_acc, val_loss = c.split(\",\")\n",
        "      times.append(float(timestamp))\n",
        "      accs.append(float(acc))\n",
        "      losses.append(float(loss))\n",
        "      val_accs.append(float(val_acc))\n",
        "      val_losses.append(float(val_loss))\n",
        "\n",
        "\n",
        "  fig = plt.figure()\n",
        "\n",
        "  ax1 = plt.subplot2grid((2,1),(0,0))\n",
        "  ax2 = plt.subplot2grid((2,1),(1,0), sharex=ax1)\n",
        "\n",
        "  ax1.plot(times, accs, label=\"acc\")\n",
        "  ax1.plot(times, val_accs, label=\"val_acc\")\n",
        "  ax1.legend(loc=2)\n",
        "\n",
        "  ax2.plot(times, losses, label=\"loss\")\n",
        "  ax2.plot(times, val_losses, label=\"val_loss\")\n",
        "  ax2.legend(loc=2)\n",
        "\n",
        "  plt.show()\n",
        "\n",
        "create_acc_loss_graph(MODEL_NAME)\n",
        "      \n",
        "      \n"
      ],
      "execution_count": null,
      "outputs": [
        {
          "output_type": "display_data",
          "data": {
            "image/png": "[encoded data removed]",
            "text/plain": [
              "<Figure size 432x288 with 2 Axes>"
            ]
          },
          "metadata": {
            "tags": []
          }
        }
      ]
    },
    {
      "cell_type": "code",
      "metadata": {
        "colab": {
          "base_uri": "https://localhost:8080/"
        },
        "id": "7B1z1QjAM5Yf",
        "outputId": "cdf8f354-a1a5-41fa-9ee3-cb7ef4481f2b"
      },
      "source": [
        "def fwd_pass(X, y, train=False):\n",
        "  if train:\n",
        "    shallow_net.zero_grad()\n",
        "  outputs = shallow_net(X)\n",
        "  #outputs = torch.Tensor(outputs).long()\n",
        "  print(outputs, y)\n",
        "  matches = [torch.argmax(i) == j for i,j in zip(outputs, y)]\n",
        "  acc = matches.count(True)/len(matches)\n",
        "  loss = loss_function(outputs, y.long())\n",
        "\n",
        "  if train:\n",
        "    loss.backward()\n",
        "    optimizer.step()\n",
        "  return acc, loss\n",
        "\n",
        "import numpy as np\n",
        "\n",
        "def test(size=32):  \n",
        "  random_start = np.random.randint(len(test_X) - size)\n",
        "  X, y = test_X[random_start:random_start+size], test_y[random_start:random_start+size]\n",
        "  with torch.no_grad():\n",
        "    val_acc, val_loss = fwd_pass(X.view(-1, 22, 15000), y)\n",
        "  return val_acc, val_loss\n",
        "\n",
        "val_acc, val_loss = test(size=32)\n",
        "print(val_acc, val_loss)\n",
        "\n",
        "print(test(size=32))"
      ],
      "execution_count": null,
      "outputs": [
        {
          "output_type": "stream",
          "text": [
            "tensor([[ -3.2791,   3.1672],\n",
            "        [  3.2942,  -3.2428],\n",
            "        [  3.7096,  -3.7376],\n",
            "        [ -2.4541,   3.0385],\n",
            "        [  2.1977,  -2.1593],\n",
            "        [  6.7198,  -6.6206],\n",
            "        [ -2.0867,   2.1740],\n",
            "        [  3.5615,  -3.4206],\n",
            "        [ -2.8189,   2.7732],\n",
            "        [  3.3797,  -3.4408],\n",
            "        [  2.8963,  -2.8145],\n",
            "        [  1.7005,  -1.8947],\n",
            "        [  3.6573,  -3.5421],\n",
            "        [ -0.4252,   1.1114],\n",
            "        [ -2.9450,   3.0754],\n",
            "        [ -2.7821,   2.6404],\n",
            "        [ -3.8411,   3.6535],\n",
            "        [ -4.0204,   3.6121],\n",
            "        [ 11.2385, -10.9259],\n",
            "        [  1.9413,  -1.7180],\n",
            "        [ -2.8283,   3.1129],\n",
            "        [ -3.1749,   3.5868],\n",
            "        [ -3.0598,   2.9584],\n",
            "        [ -2.8851,   3.3744],\n",
            "        [  2.7344,  -2.6741],\n",
            "        [  0.4060,  -0.1903],\n",
            "        [ -1.8460,   1.8532],\n",
            "        [  3.0021,  -2.7750],\n",
            "        [  2.1929,  -2.1449],\n",
            "        [  1.4428,  -1.3161],\n",
            "        [  1.4521,  -1.0779],\n",
            "        [  9.0134,  -9.0606]]) tensor([1., 0., 0., 1., 0., 0., 1., 0., 1., 0., 0., 0., 0., 0., 1., 1., 1., 1.,\n",
            "        0., 0., 1., 1., 1., 1., 0., 0., 1., 0., 0., 0., 0., 0.])\n",
            "0.96875 tensor(0.0771)\n",
            "tensor([[ 1.9827, -1.8460],\n",
            "        [-4.8101,  5.6446],\n",
            "        [ 2.8524, -2.2443],\n",
            "        [-2.5151,  2.8369],\n",
            "        [-4.3127,  3.9744],\n",
            "        [-2.8872,  3.1324],\n",
            "        [-2.4913,  2.5371],\n",
            "        [ 2.1599, -1.4371],\n",
            "        [ 4.4482, -4.2858],\n",
            "        [ 2.6736, -1.7588],\n",
            "        [-3.0550,  2.7578],\n",
            "        [-3.0041,  3.4879],\n",
            "        [-2.4509,  2.7074],\n",
            "        [ 3.1173, -3.0777],\n",
            "        [ 1.3015, -1.4864],\n",
            "        [-3.8824,  3.5359],\n",
            "        [ 3.7957, -3.6092],\n",
            "        [ 6.0107, -6.3219],\n",
            "        [ 6.2924, -5.5645],\n",
            "        [-2.5271,  2.7926],\n",
            "        [-4.3127,  3.9744],\n",
            "        [-3.4475,  3.2084],\n",
            "        [ 3.6618, -3.6215],\n",
            "        [ 2.5966, -2.1616],\n",
            "        [-2.4560,  2.5023],\n",
            "        [-3.2834,  3.3266],\n",
            "        [-3.2704,  3.2567],\n",
            "        [-3.5917,  4.2131],\n",
            "        [ 1.8469, -2.0251],\n",
            "        [ 2.6371, -2.6502],\n",
            "        [ 3.9919, -3.1944],\n",
            "        [-3.7026,  4.0587]]) tensor([0., 1., 0., 1., 1., 1., 1., 0., 0., 0., 1., 1., 0., 0., 0., 1., 0., 0.,\n",
            "        0., 1., 1., 1., 0., 0., 1., 1., 1., 1., 0., 0., 0., 1.])\n",
            "(0.96875, tensor(0.1676))\n"
          ],
          "name": "stdout"
        }
      ]
    },
    {
      "cell_type": "markdown",
      "metadata": {
        "id": "V4gyHVxPb24b"
      },
      "source": [
        "# Running GRU unit"
      ]
    },
    {
      "cell_type": "code",
      "metadata": {
        "colab": {
          "base_uri": "https://localhost:8080/"
        },
        "id": "YcV3kRQSbudB",
        "outputId": "c1ea4e12-36ed-4bf7-f4c0-46dbcc70975b"
      },
      "source": [
        "!wget https://download.microsoft.com/download/3/E/1/3E1C3F21-ECDB-4869-8368-6DEBA77B919F/kagglecatsanddogs_3367a.zip\n",
        "!unzip kagglecatsanddogs_3367a.zip"
      ],
      "execution_count": null,
      "outputs": [
        {
          "output_type": "stream",
          "text": [
            "--2021-04-06 19:09:29--  https://download.microsoft.com/download/3/E/1/3E1C3F21-ECDB-4869-8368-6DEBA77B919F/kagglecatsanddogs_3367a.zip\n",
            "Resolving download.microsoft.com (download.microsoft.com)... 23.1.244.151, 2600:1406:c800:2b1::e59, 2600:1406:c800:2bb::e59\n",
            "Connecting to download.microsoft.com (download.microsoft.com)|23.1.244.151|:443... connected.\n",
            "HTTP request sent, awaiting response... 200 OK\n",
            "Length: 824894548 (787M) [application/octet-stream]\n",
            "Saving to: ‘kagglecatsanddogs_3367a.zip.1’\n",
            "\n",
            "kagglecatsanddogs_3 100%[===================>] 786.68M   154MB/s    in 5.4s    \n",
            "\n",
            "2021-04-06 19:09:35 (146 MB/s) - ‘kagglecatsanddogs_3367a.zip.1’ saved [824894548/824894548]\n",
            "\n",
            "Archive:  kagglecatsanddogs_3367a.zip\n",
            "replace PetImages/Cat/0.jpg? [y]es, [n]o, [A]ll, [N]one, [r]ename: n\n",
            "replace PetImages/Cat/1.jpg? [y]es, [n]o, [A]ll, [N]one, [r]ename: N\n"
          ],
          "name": "stdout"
        }
      ]
    },
    {
      "cell_type": "code",
      "metadata": {
        "colab": {
          "base_uri": "https://localhost:8080/"
        },
        "id": "7YaOCYzqb4vS",
        "outputId": "37270656-7795-49f8-f615-cce655c0d774"
      },
      "source": [
        "import os\n",
        "import cv2\n",
        "import numpy as np\n",
        "from tqdm import tqdm\n",
        "\n",
        "REBUILD_DATA = True\n",
        "\n",
        "class DogsVSCats():\n",
        "  IMG_SIZE = 50\n",
        "\n",
        "  CATS = \"PetImages/Cat\"\n",
        "  DOGS = \"PetImages/Dog\"\n",
        "  TESTING = \"PetImages/Testing\"\n",
        "  \n",
        "  LABELS = {CATS: 0, DOGS: 1}\n",
        "\n",
        "  training_data = []\n",
        "\n",
        "  catcount = 0\n",
        "  dogcount = 0\n",
        "\n",
        "  def make_training_data(self):\n",
        "    for label in self.LABELS:\n",
        "      print(label)\n",
        "      for f in tqdm(os.listdir(label)):\n",
        "        try:\n",
        "          path = os.path.join(label, f)\n",
        "          img = cv2.imread(path, cv2.IMREAD_GRAYSCALE)\n",
        "          img = cv2.resize(img, (self.IMG_SIZE, self.IMG_SIZE))\n",
        "          self.training_data.append([np.array(img), np.eye(2)[self.LABELS[label]]])\n",
        "    \n",
        "          if label == self.CATS:\n",
        "            self.catcount += 1\n",
        "          elif label == self.DOGS:\n",
        "            self.dogcount += 1\n",
        "\n",
        "        except Exception as e:\n",
        "          pass\n",
        "\n",
        "    np.random.shuffle(self.training_data)\n",
        "    np.save(\"training_data.npy\", self.training_data)\n",
        "\n",
        "    print(\"Cats:\", self.catcount)\n",
        "    print(\"Dogs:\", self.dogcount)\n",
        "\n",
        "if REBUILD_DATA:\n",
        "  dogsvcats = DogsVSCats()\n",
        "  dogsvcats.make_training_data()\n"
      ],
      "execution_count": null,
      "outputs": [
        {
          "output_type": "stream",
          "text": [
            "  1%|          | 76/12501 [00:00<00:16, 755.08it/s]"
          ],
          "name": "stderr"
        },
        {
          "output_type": "stream",
          "text": [
            "PetImages/Cat\n"
          ],
          "name": "stdout"
        },
        {
          "output_type": "stream",
          "text": [
            "100%|██████████| 12501/12501 [00:15<00:00, 790.97it/s]\n",
            "  1%|          | 74/12501 [00:00<00:16, 738.36it/s]"
          ],
          "name": "stderr"
        },
        {
          "output_type": "stream",
          "text": [
            "PetImages/Dog\n"
          ],
          "name": "stdout"
        },
        {
          "output_type": "stream",
          "text": [
            "100%|██████████| 12501/12501 [00:16<00:00, 779.48it/s]\n",
            "/usr/local/lib/python3.7/dist-packages/numpy/core/_asarray.py:136: VisibleDeprecationWarning: Creating an ndarray from ragged nested sequences (which is a list-or-tuple of lists-or-tuples-or ndarrays with different lengths or shapes) is deprecated. If you meant to do this, you must specify 'dtype=object' when creating the ndarray\n",
            "  return array(a, dtype, copy=False, order=order, subok=True)\n"
          ],
          "name": "stderr"
        },
        {
          "output_type": "stream",
          "text": [
            "Cats: 12476\n",
            "Dogs: 12470\n"
          ],
          "name": "stdout"
        }
      ]
    },
    {
      "cell_type": "code",
      "metadata": {
        "colab": {
          "base_uri": "https://localhost:8080/",
          "height": 334
        },
        "id": "5vRVa1D0b9Wz",
        "outputId": "282f30bd-0a50-405e-8728-61b01312e382"
      },
      "source": [
        "training_data = np.load(\"training_data.npy\", allow_pickle=True)\n",
        "print(len(training_data))\n",
        "import matplotlib.pyplot as plt\n",
        "\n",
        "plt.imshow(training_data[1][0], cmap=\"gray\")\n",
        "plt.show()\n",
        "\n",
        "print(training_data[1][1])\n",
        "\n",
        "import torch\n",
        "import torch.nn as nn\n",
        "import torch.nn.functional as F\n",
        "\n",
        "X = torch.Tensor([i[0] for i in training_data]).view(-1,50,50)\n",
        "X = X/255.0\n",
        "y = torch.Tensor([i[1] for i in training_data])\n",
        "\n",
        "VAL_PCT = 0.1  # lets reserve 10% of our data for validation\n",
        "val_size = int(len(X)*VAL_PCT)\n",
        "#print(val_size)\n",
        "\n",
        "train_X = X[:-val_size]\n",
        "train_y = y[:-val_size]\n",
        "\n",
        "test_X = X[-val_size:]\n",
        "test_y = y[-val_size:]\n",
        "\n",
        "print(len(train_X))\n",
        "print(len(test_X))\n"
      ],
      "execution_count": null,
      "outputs": [
        {
          "output_type": "stream",
          "text": [
            "24946\n"
          ],
          "name": "stdout"
        },
        {
          "output_type": "display_data",
          "data": {
            "image/png": "[encoded data removed]",
            "text/plain": [
              "<Figure size 432x288 with 1 Axes>"
            ]
          },
          "metadata": {
            "tags": [],
            "needs_background": "light"
          }
        },
        {
          "output_type": "stream",
          "text": [
            "[1. 0.]\n",
            "22452\n",
            "2494\n"
          ],
          "name": "stdout"
        }
      ]
    },
    {
      "cell_type": "code",
      "metadata": {
        "id": "EKmepCWucBYQ"
      },
      "source": [
        "from typing import Any\n",
        "\n",
        "class BasicGRU(nn.Module):\n",
        "  def __init__(\n",
        "      self,\n",
        "      in_size:int,\n",
        "      hidden_size:int,\n",
        "      n_layers:int,\n",
        "      **kwargs: Any\n",
        "    ) -> None:\n",
        "    \n",
        "    super().__init__()\n",
        "    \n",
        "    self.num_directions = 1\n",
        "    self.in_size = in_size\n",
        "    self.hidden_size = hidden_size\n",
        "    self.n_layers = n_layers\n",
        "\n",
        "    self.gru = nn.GRU(in_size, hidden_size, n_layers, batch_first=True, **kwargs)\n",
        "\n",
        "    #self.h_0 = torch.randn(self.n_layers * self.num_directions, self.batch, self.hidden_size)\n",
        "\n",
        "\n",
        "  def set_values(self, x):\n",
        "    self.batch = x.shape[0]\n",
        "\n",
        "  \n",
        "  def forward(self, x):\n",
        "    self.set_values(x)\n",
        "    self.h_0 = torch.randn(self.n_layers * self.num_directions, self.batch, self.hidden_size)\n",
        "\n",
        "    x, _ = self.gru(x, self.h_0)\n",
        "    #print(x[:,-1])\n",
        "    \n",
        "    #return F.relu(x[:, -1], inplace=True)\n",
        "    return x\n",
        "\n",
        "\n",
        "class GRU_Net(nn.Module):\n",
        "  def __init__(self):\n",
        "    super().__init__()\n",
        "    \n",
        "    gru_block = BasicGRU\n",
        "\n",
        "    #x = torch.randn(50, in_size).view(-1, 50, in_size)\n",
        "    #self.batch = None\n",
        "    #self.set_batchsize(x)\n",
        "\n",
        "    self.gru_1 = gru_block(50, 32, 1)\n",
        "    self.gru_2 = gru_block(32, 32, 1)    \n",
        "    self.gru_3 = gru_block(64, 32, 1)\n",
        "    self.gru_4 = gru_block(96, 32, 1)\n",
        "\n",
        "    x = torch.randn(50, 50).view(-1, 50, 50)\n",
        "    self._to_linear = None\n",
        "    self.grus(x)\n",
        "\n",
        "    #self.fc1 = nn.Linear(self._to_linear, 512)\n",
        "    #self.fc2 = nn.Linear(512, 2)\n",
        "\n",
        "    self.fc1 = nn.Linear(self._to_linear, 2)\n",
        " \n",
        "  def set_batchsize(self, x):\n",
        "    self.batch = x.shape[0]\n",
        "  \n",
        "  def grus(self, x):\n",
        "    x_1 = self.gru_1(x)\n",
        "    x_2 = self.gru_2(x_1)\n",
        "    \n",
        "    x_12 = [x_1, x_2]\n",
        "    x_12 = torch.cat(x_12, 2)\n",
        "    \n",
        "    x_3 = self.gru_3(x_12)\n",
        "\n",
        "    x_123 = [x_1, x_2, x_3]\n",
        "    x_123 = torch.cat(x_123, 2)\n",
        "\n",
        "    x_4 = self.gru_4(x_123)\n",
        "    \n",
        "\n",
        "\n",
        "    \n",
        "    x = F.relu(x_4[:, -1], inplace=True)\n",
        "\n",
        "    if self._to_linear == None:\n",
        "      self._to_linear = x[0].shape[0]#*x[0].shape[1]\n",
        "      #print(x[0].shape)\n",
        "      #print(self._to_linear)\n",
        "\n",
        "    return x\n",
        "  \n",
        "  def forward(self, x):\n",
        "    x = self.grus(x)\n",
        "    x = x.reshape(-1, self._to_linear)\n",
        "    #x = F.relu(self.fc1(x))\n",
        "    #x = self.fc2(x)\n",
        "\n",
        "    x = self.fc1(x)\n",
        "  \n",
        "    return F.softmax(x, dim=1)\n",
        "\n",
        "gru_net = GRU_Net()"
      ],
      "execution_count": null,
      "outputs": []
    },
    {
      "cell_type": "code",
      "metadata": {
        "colab": {
          "base_uri": "https://localhost:8080/"
        },
        "id": "j0WTeMEmcbU7",
        "outputId": "6f243e06-903b-4c48-80ab-e694f7d73999"
      },
      "source": [
        "import torch.optim as optim\n",
        "\n",
        "optimizer = optim.Adam(gru_net.parameters(), lr=0.001)\n",
        "loss_function = nn.MSELoss()\n",
        "\n",
        "def fwd_pass(X, y, train=False):\n",
        "  if train:\n",
        "    gru_net.zero_grad()\n",
        "  outputs = gru_net(X)\n",
        "  matches = [torch.argmax(i) == torch.argmax(j) for i,j in zip(outputs, y)]\n",
        "  acc = matches.count(True)/len(matches)\n",
        "  loss = loss_function(outputs, y)\n",
        "\n",
        "  if train:\n",
        "    loss.backward()\n",
        "    optimizer.step()\n",
        "  return acc, loss\n",
        "\n",
        "import numpy as np\n",
        "\n",
        "def test(size=32):  \n",
        "  random_start = np.random.randint(len(test_X) - size)\n",
        "  X, y = test_X[random_start:random_start+size], test_y[random_start:random_start+size]\n",
        "  with torch.no_grad():\n",
        "    val_acc, val_loss = fwd_pass(X.view(-1, 50, 50), y)\n",
        "  return val_acc, val_loss\n",
        "\n",
        "val_acc, val_loss = test(size=32)\n",
        "print(val_acc, val_loss)\n",
        "\n",
        "\n",
        "import time\n",
        "\n",
        "MODEL_NAME = f\"model-{int(time.time())}\"\n",
        "\n",
        "\n",
        "print(MODEL_NAME)\n",
        "\n",
        "def train():\n",
        "  BATCH_SIZE = 132\n",
        "  EPOCHS = 50\n",
        "\n",
        "  with open(\"model.log\", \"a\") as f:\n",
        "    for epoch in range(EPOCHS):\n",
        "      for i in tqdm(range(0, len(train_X), BATCH_SIZE)):\n",
        "        batch_X = train_X[i:i+BATCH_SIZE].view(-1, 50, 50)\n",
        "        batch_y = train_y[i:i+BATCH_SIZE]\n",
        "\n",
        "        acc, loss = fwd_pass(batch_X, batch_y, train=True)\n",
        "        \n",
        "        # every 50 steps \n",
        "        if i % 50 == 0:\n",
        "          val_acc, val_loss = test(size=132)\n",
        "          f.write(f\"{MODEL_NAME},{round(time.time(),3)},{round(float(acc), 2)}, {round(float(loss), 4)},{round(float(val_acc), 2)}, {round(float(val_loss), 4)}\\n\")\n",
        "\n",
        "train()"
      ],
      "execution_count": null,
      "outputs": [
        {
          "output_type": "stream",
          "text": [
            "  1%|          | 1/171 [00:00<00:22,  7.50it/s]"
          ],
          "name": "stderr"
        },
        {
          "output_type": "stream",
          "text": [
            "0.4375 tensor(0.2565)\n",
            "model-1617743108\n"
          ],
          "name": "stdout"
        },
        {
          "output_type": "stream",
          "text": [
            "100%|██████████| 171/171 [00:17<00:00,  9.84it/s]\n",
            "100%|██████████| 171/171 [00:16<00:00, 10.20it/s]\n",
            "100%|██████████| 171/171 [00:16<00:00, 10.10it/s]\n",
            "100%|██████████| 171/171 [00:16<00:00, 10.23it/s]\n",
            "100%|██████████| 171/171 [00:17<00:00, 10.06it/s]\n",
            "100%|██████████| 171/171 [00:17<00:00, 10.04it/s]\n",
            "100%|██████████| 171/171 [00:16<00:00, 10.08it/s]\n",
            "100%|██████████| 171/171 [00:16<00:00, 10.19it/s]\n",
            "100%|██████████| 171/171 [00:16<00:00, 10.11it/s]\n",
            "100%|██████████| 171/171 [00:16<00:00, 10.14it/s]\n",
            "100%|██████████| 171/171 [00:16<00:00, 10.56it/s]\n",
            "100%|██████████| 171/171 [00:16<00:00, 10.35it/s]\n",
            "100%|██████████| 171/171 [00:17<00:00, 10.04it/s]\n",
            "100%|██████████| 171/171 [00:16<00:00, 10.33it/s]\n",
            "100%|██████████| 171/171 [00:16<00:00, 10.11it/s]\n",
            "100%|██████████| 171/171 [00:16<00:00, 10.11it/s]\n",
            "100%|██████████| 171/171 [00:16<00:00, 10.17it/s]\n",
            "100%|██████████| 171/171 [00:16<00:00, 10.17it/s]\n",
            "100%|██████████| 171/171 [00:16<00:00, 10.22it/s]\n",
            "100%|██████████| 171/171 [00:16<00:00, 10.18it/s]\n",
            "100%|██████████| 171/171 [00:17<00:00,  9.89it/s]\n",
            "100%|██████████| 171/171 [00:16<00:00, 10.19it/s]\n",
            "100%|██████████| 171/171 [00:16<00:00, 10.16it/s]\n",
            "100%|██████████| 171/171 [00:17<00:00,  9.96it/s]\n",
            "100%|██████████| 171/171 [00:16<00:00, 10.16it/s]\n",
            "100%|██████████| 171/171 [00:16<00:00, 10.22it/s]\n",
            "100%|██████████| 171/171 [00:16<00:00, 10.20it/s]\n",
            "100%|██████████| 171/171 [00:17<00:00,  9.98it/s]\n",
            "100%|██████████| 171/171 [00:16<00:00, 10.20it/s]\n",
            "100%|██████████| 171/171 [00:16<00:00, 10.18it/s]\n",
            "100%|██████████| 171/171 [00:17<00:00, 10.04it/s]\n",
            "100%|██████████| 171/171 [00:16<00:00, 10.28it/s]\n",
            "100%|██████████| 171/171 [00:16<00:00, 10.13it/s]\n",
            "100%|██████████| 171/171 [00:17<00:00, 10.05it/s]\n",
            "100%|██████████| 171/171 [00:16<00:00, 10.25it/s]\n",
            "100%|██████████| 171/171 [00:16<00:00, 10.20it/s]\n",
            "100%|██████████| 171/171 [00:16<00:00, 10.24it/s]\n",
            "100%|██████████| 171/171 [00:16<00:00, 10.20it/s]\n",
            "100%|██████████| 171/171 [00:16<00:00, 10.20it/s]\n",
            "100%|██████████| 171/171 [00:16<00:00, 10.34it/s]\n",
            "100%|██████████| 171/171 [00:16<00:00, 10.16it/s]\n",
            "100%|██████████| 171/171 [00:17<00:00, 10.04it/s]\n",
            "100%|██████████| 171/171 [00:16<00:00, 10.29it/s]\n",
            "100%|██████████| 171/171 [00:17<00:00, 10.01it/s]\n",
            "100%|██████████| 171/171 [00:17<00:00, 10.06it/s]\n",
            "100%|██████████| 171/171 [00:16<00:00, 10.07it/s]\n",
            "100%|██████████| 171/171 [00:17<00:00,  9.98it/s]\n",
            "100%|██████████| 171/171 [00:16<00:00, 10.09it/s]\n",
            "100%|██████████| 171/171 [00:16<00:00, 10.23it/s]\n",
            "100%|██████████| 171/171 [00:17<00:00, 10.02it/s]\n"
          ],
          "name": "stderr"
        }
      ]
    },
    {
      "cell_type": "code",
      "metadata": {
        "colab": {
          "base_uri": "https://localhost:8080/",
          "height": 278
        },
        "id": "U-GPNWlmcf9m",
        "outputId": "13d5b468-59ab-42c9-bfc2-cc817f618d59"
      },
      "source": [
        "import matplotlib.pyplot as plt\n",
        "from matplotlib import style\n",
        "\n",
        "style.use(\"ggplot\")\n",
        "\n",
        "def create_acc_loss_graph(model_name):\n",
        "  contents = open(\"model.log\", \"r\").read().split('\\n')\n",
        "\n",
        "  times = []\n",
        "  accs = []\n",
        "  losses = []\n",
        "\n",
        "  val_accs = []\n",
        "  val_losses = []\n",
        "\n",
        "  for c in contents:\n",
        "    if model_name in c:      \n",
        "      name, timestamp, acc, loss, val_acc, val_loss = c.split(\",\")\n",
        "      times.append(float(timestamp))\n",
        "      accs.append(float(acc))\n",
        "      losses.append(float(loss))\n",
        "      val_accs.append(float(val_acc))\n",
        "      val_losses.append(float(val_loss))\n",
        "\n",
        "\n",
        "  fig = plt.figure()\n",
        "\n",
        "  ax1 = plt.subplot2grid((2,1),(0,0))\n",
        "  ax2 = plt.subplot2grid((2,1),(1,0), sharex=ax1)\n",
        "\n",
        "  ax1.plot(times, accs, label=\"acc\")\n",
        "  ax1.plot(times, val_accs, label=\"val_acc\")\n",
        "  ax1.legend(loc=2)\n",
        "\n",
        "  ax2.plot(times, losses, label=\"loss\")\n",
        "  ax2.plot(times, val_losses, label=\"val_loss\")\n",
        "  ax2.legend(loc=2)\n",
        "\n",
        "  plt.show()\n",
        "\n",
        "create_acc_loss_graph(MODEL_NAME)\n",
        "      \n",
        "      \n"
      ],
      "execution_count": null,
      "outputs": [
        {
          "output_type": "display_data",
          "data": {
            "image/png": "[encoded data removed]",
            "text/plain": [
              "<Figure size 432x288 with 2 Axes>"
            ]
          },
          "metadata": {
            "tags": []
          }
        }
      ]
    },
    {
      "cell_type": "code",
      "metadata": {
        "colab": {
          "base_uri": "https://localhost:8080/",
          "height": 278
        },
        "id": "NzfhOVP6ciuA",
        "outputId": "85ea6eaf-444f-4be1-a09b-b4143bdddb7f"
      },
      "source": [
        "import matplotlib.pyplot as plt\n",
        "from matplotlib import style\n",
        "\n",
        "style.use(\"ggplot\")\n",
        "\n",
        "def create_acc_loss_graph(model_name):\n",
        "  contents = open(\"model.log\", \"r\").read().split('\\n')\n",
        "\n",
        "  times = []\n",
        "  accs = []\n",
        "  losses = []\n",
        "\n",
        "  val_accs = []\n",
        "  val_losses = []\n",
        "\n",
        "  for c in contents:\n",
        "    if model_name in c:      \n",
        "      name, timestamp, acc, loss, val_acc, val_loss = c.split(\",\")\n",
        "      times.append(float(timestamp))\n",
        "      accs.append(float(acc))\n",
        "      losses.append(float(loss))\n",
        "      val_accs.append(float(val_acc))\n",
        "      val_losses.append(float(val_loss))\n",
        "\n",
        "\n",
        "  fig = plt.figure()\n",
        "\n",
        "  ax1 = plt.subplot2grid((2,1),(0,0))\n",
        "  ax2 = plt.subplot2grid((2,1),(1,0), sharex=ax1)\n",
        "\n",
        "  ax1.plot(times, accs, label=\"acc\")\n",
        "  ax1.plot(times, val_accs, label=\"val_acc\")\n",
        "  ax1.legend(loc=2)\n",
        "\n",
        "  ax2.plot(times, losses, label=\"loss\")\n",
        "  ax2.plot(times, val_losses, label=\"val_loss\")\n",
        "  ax2.legend(loc=2)\n",
        "\n",
        "  plt.show()\n",
        "\n",
        "create_acc_loss_graph(MODEL_NAME)\n",
        "      \n",
        "      \n"
      ],
      "execution_count": null,
      "outputs": [
        {
          "output_type": "display_data",
          "data": {
            "image/png": "[encoded data removed]",
            "text/plain": [
              "<Figure size 432x288 with 2 Axes>"
            ]
          },
          "metadata": {
            "tags": []
          }
        }
      ]
    },
    {
      "cell_type": "code",
      "metadata": {
        "colab": {
          "base_uri": "https://localhost:8080/"
        },
        "id": "TAmxEFQj5LTG",
        "outputId": "794a1d5f-7847-4c00-b317-32e7de848817"
      },
      "source": [
        "import matplotlib.pyplot as plt\n",
        "from matplotlib import style\n",
        "\n",
        "style.use(\"ggplot\")\n",
        "\n",
        "def create_acc_loss_graph(model_name):\n",
        "  contents = open(\"model.log\", \"r\").read().split('\\n')\n",
        "\n",
        "  times = []\n",
        "  accs = []\n",
        "  losses = []\n",
        "\n",
        "  val_accs = []\n",
        "  val_losses = []\n",
        "\n",
        "  for c in contents:\n",
        "    if model_name in c:      \n",
        "      name, timestamp, acc, loss, val_acc, val_loss = c.split(\",\")\n",
        "      times.append(float(timestamp))\n",
        "      accs.append(float(acc))\n",
        "      losses.append(float(loss))\n",
        "      val_accs.append(float(val_acc))\n",
        "      val_losses.append(float(val_loss))\n",
        "\n",
        "\n",
        "  fig = plt.figure()\n",
        "\n",
        "  ax1 = plt.subplot2grid((2,1),(0,0))\n",
        "  ax2 = plt.subplot2grid((2,1),(1,0), sharex=ax1)\n",
        "\n",
        "  ax1.plot(times, accs, label=\"acc\")\n",
        "  ax1.plot(times, val_accs, label=\"val_acc\")\n",
        "  ax1.legend(loc=2)\n",
        "\n",
        "  ax2.plot(times, losses, label=\"loss\")\n",
        "  ax2.plot(times, val_losses, label=\"val_loss\")\n",
        "  ax2.legend(loc=2)\n",
        "\n",
        "  plt.show()\n",
        "\n",
        "create_acc_loss_graph(MODEL_NAME)\n",
        "      \n",
        "      \n"
      ],
      "execution_count": null,
      "outputs": [
        {
          "output_type": "display_data",
          "data": {
            "image/png": "[encoded data removed]",
            "text/plain": [
              "<Figure size 432x288 with 2 Axes>"
            ]
          },
          "metadata": {
            "tags": []
          }
        }
      ]
    },
    {
      "cell_type": "code",
      "metadata": {
        "id": "puPiuVwDAQQt"
      },
      "source": [
        ""
      ],
      "execution_count": null,
      "outputs": []
    }
  ]
}